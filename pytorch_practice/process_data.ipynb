{
 "cells": [
  {
   "cell_type": "code",
   "execution_count": 1,
   "metadata": {},
   "outputs": [],
   "source": [
    "import torch"
   ]
  },
  {
   "cell_type": "code",
   "execution_count": 2,
   "metadata": {},
   "outputs": [],
   "source": [
    "x = torch.ones(2, 2, requires_grad=True)"
   ]
  },
  {
   "cell_type": "code",
   "execution_count": 3,
   "metadata": {},
   "outputs": [
    {
     "name": "stdout",
     "output_type": "stream",
     "text": [
      "tensor([[1., 1.],\n",
      "        [1., 1.]], requires_grad=True)\n"
     ]
    }
   ],
   "source": [
    "print(x)"
   ]
  },
  {
   "cell_type": "code",
   "execution_count": 4,
   "metadata": {},
   "outputs": [
    {
     "name": "stdout",
     "output_type": "stream",
     "text": [
      "None\n"
     ]
    }
   ],
   "source": [
    "print(x.grad_fn)"
   ]
  },
  {
   "cell_type": "code",
   "execution_count": 5,
   "metadata": {},
   "outputs": [],
   "source": [
    "y = x + 2"
   ]
  },
  {
   "cell_type": "code",
   "execution_count": 6,
   "metadata": {},
   "outputs": [
    {
     "name": "stdout",
     "output_type": "stream",
     "text": [
      "tensor([[3., 3.],\n",
      "        [3., 3.]], grad_fn=<AddBackward0>)\n",
      "<AddBackward0 object at 0x7f54d3cf74f0>\n"
     ]
    }
   ],
   "source": [
    "print(y)\n",
    "print(y.grad_fn)"
   ]
  },
  {
   "cell_type": "code",
   "execution_count": 7,
   "metadata": {},
   "outputs": [],
   "source": [
    "z = y * y * 3"
   ]
  },
  {
   "cell_type": "code",
   "execution_count": 8,
   "metadata": {},
   "outputs": [
    {
     "name": "stdout",
     "output_type": "stream",
     "text": [
      "tensor([[27., 27.],\n",
      "        [27., 27.]], grad_fn=<MulBackward0>)\n"
     ]
    }
   ],
   "source": [
    "print(z)"
   ]
  },
  {
   "cell_type": "code",
   "execution_count": 9,
   "metadata": {},
   "outputs": [],
   "source": [
    "out = z.mean()"
   ]
  },
  {
   "cell_type": "code",
   "execution_count": 10,
   "metadata": {},
   "outputs": [
    {
     "name": "stdout",
     "output_type": "stream",
     "text": [
      "tensor([[27., 27.],\n",
      "        [27., 27.]], grad_fn=<MulBackward0>) tensor(27., grad_fn=<MeanBackward0>)\n"
     ]
    }
   ],
   "source": [
    "print(z, out)"
   ]
  },
  {
   "cell_type": "code",
   "execution_count": 11,
   "metadata": {},
   "outputs": [],
   "source": [
    "out.backward()"
   ]
  },
  {
   "cell_type": "code",
   "execution_count": 12,
   "metadata": {},
   "outputs": [
    {
     "name": "stdout",
     "output_type": "stream",
     "text": [
      "tensor([[4.5000, 4.5000],\n",
      "        [4.5000, 4.5000]])\n"
     ]
    }
   ],
   "source": [
    "print(x.grad)"
   ]
  },
  {
   "cell_type": "code",
   "execution_count": 13,
   "metadata": {},
   "outputs": [
    {
     "name": "stdout",
     "output_type": "stream",
     "text": [
      "None\n"
     ]
    },
    {
     "name": "stderr",
     "output_type": "stream",
     "text": [
      "<ipython-input-13-c4ef32dfae4c>:1: UserWarning: The .grad attribute of a Tensor that is not a leaf Tensor is being accessed. Its .grad attribute won't be populated during autograd.backward(). If you indeed want the gradient for a non-leaf Tensor, use .retain_grad() on the non-leaf Tensor. If you access the non-leaf Tensor by mistake, make sure you access the leaf Tensor instead. See github.com/pytorch/pytorch/pull/30531 for more informations.\n",
      "  print(z.grad)\n"
     ]
    }
   ],
   "source": [
    "print(z.grad)"
   ]
  },
  {
   "cell_type": "code",
   "execution_count": 15,
   "metadata": {},
   "outputs": [],
   "source": [
    "out2 = x.sum()"
   ]
  },
  {
   "cell_type": "code",
   "execution_count": 16,
   "metadata": {},
   "outputs": [],
   "source": [
    "out2.backward()"
   ]
  },
  {
   "cell_type": "code",
   "execution_count": 17,
   "metadata": {},
   "outputs": [
    {
     "name": "stdout",
     "output_type": "stream",
     "text": [
      "tensor([[5.5000, 5.5000],\n",
      "        [5.5000, 5.5000]])\n"
     ]
    }
   ],
   "source": [
    "print(x.grad)"
   ]
  },
  {
   "cell_type": "code",
   "execution_count": 18,
   "metadata": {},
   "outputs": [],
   "source": [
    "out3 = x.sum()"
   ]
  },
  {
   "cell_type": "code",
   "execution_count": 19,
   "metadata": {},
   "outputs": [
    {
     "data": {
      "text/plain": [
       "tensor([[0., 0.],\n",
       "        [0., 0.]])"
      ]
     },
     "execution_count": 19,
     "metadata": {},
     "output_type": "execute_result"
    }
   ],
   "source": [
    "x.grad.data.zero_()"
   ]
  },
  {
   "cell_type": "code",
   "execution_count": 20,
   "metadata": {},
   "outputs": [],
   "source": [
    "out3.backward()"
   ]
  },
  {
   "cell_type": "code",
   "execution_count": 21,
   "metadata": {},
   "outputs": [
    {
     "name": "stdout",
     "output_type": "stream",
     "text": [
      "tensor([[1., 1.],\n",
      "        [1., 1.]])\n"
     ]
    }
   ],
   "source": [
    "print(x.grad)"
   ]
  },
  {
   "cell_type": "code",
   "execution_count": 22,
   "metadata": {},
   "outputs": [],
   "source": [
    "x = torch.tensor([1.0, 2.0, 3.0, 4.0], requires_grad=True)"
   ]
  },
  {
   "cell_type": "code",
   "execution_count": 23,
   "metadata": {},
   "outputs": [],
   "source": [
    "y = 2 * x"
   ]
  },
  {
   "cell_type": "code",
   "execution_count": 24,
   "metadata": {},
   "outputs": [
    {
     "name": "stdout",
     "output_type": "stream",
     "text": [
      "tensor([2., 4., 6., 8.], grad_fn=<MulBackward0>)\n"
     ]
    }
   ],
   "source": [
    "print(y)"
   ]
  },
  {
   "cell_type": "code",
   "execution_count": 25,
   "metadata": {},
   "outputs": [],
   "source": [
    "z = y.view(2, 2)"
   ]
  },
  {
   "cell_type": "code",
   "execution_count": 26,
   "metadata": {},
   "outputs": [
    {
     "name": "stdout",
     "output_type": "stream",
     "text": [
      "tensor([[2., 4.],\n",
      "        [6., 8.]], grad_fn=<ViewBackward>)\n"
     ]
    }
   ],
   "source": [
    "print(z)"
   ]
  },
  {
   "cell_type": "code",
   "execution_count": 27,
   "metadata": {},
   "outputs": [],
   "source": [
    "v = torch.tensor([[1.0, 0.1], [0.01, 0.001]], dtype=torch.float)"
   ]
  },
  {
   "cell_type": "code",
   "execution_count": 28,
   "metadata": {},
   "outputs": [],
   "source": [
    "z.backward(v)"
   ]
  },
  {
   "cell_type": "code",
   "execution_count": 29,
   "metadata": {},
   "outputs": [
    {
     "name": "stdout",
     "output_type": "stream",
     "text": [
      "tensor([2.0000, 0.2000, 0.0200, 0.0020])\n"
     ]
    }
   ],
   "source": [
    "print(x.grad)"
   ]
  },
  {
   "cell_type": "code",
   "execution_count": 30,
   "metadata": {},
   "outputs": [
    {
     "name": "stdout",
     "output_type": "stream",
     "text": [
      "tensor([1., 2., 3., 4.], requires_grad=True)\n"
     ]
    }
   ],
   "source": [
    "print(x)"
   ]
  },
  {
   "cell_type": "code",
   "execution_count": 31,
   "metadata": {},
   "outputs": [],
   "source": [
    "x = torch.tensor(1.0, requires_grad=True)"
   ]
  },
  {
   "cell_type": "code",
   "execution_count": 32,
   "metadata": {},
   "outputs": [],
   "source": [
    "y1 = x ** 2"
   ]
  },
  {
   "cell_type": "code",
   "execution_count": 33,
   "metadata": {},
   "outputs": [],
   "source": [
    "with torch.no_grad():\n",
    "    y2 = x ** 3\n",
    "y3 = y1 + y2"
   ]
  },
  {
   "cell_type": "code",
   "execution_count": 34,
   "metadata": {},
   "outputs": [
    {
     "name": "stdout",
     "output_type": "stream",
     "text": [
      "tensor(1., requires_grad=True)\n",
      "tensor(1., grad_fn=<PowBackward0>)\n"
     ]
    }
   ],
   "source": [
    "print(x)\n",
    "print(y1)"
   ]
  },
  {
   "cell_type": "code",
   "execution_count": 35,
   "metadata": {},
   "outputs": [
    {
     "name": "stdout",
     "output_type": "stream",
     "text": [
      "True\n"
     ]
    }
   ],
   "source": [
    "print(x.requires_grad)"
   ]
  },
  {
   "cell_type": "code",
   "execution_count": 36,
   "metadata": {},
   "outputs": [],
   "source": [
    "y3.backward()"
   ]
  },
  {
   "cell_type": "code",
   "execution_count": 37,
   "metadata": {},
   "outputs": [
    {
     "name": "stdout",
     "output_type": "stream",
     "text": [
      "tensor(2.)\n"
     ]
    }
   ],
   "source": [
    "print(x.grad)"
   ]
  },
  {
   "cell_type": "code",
   "execution_count": 38,
   "metadata": {},
   "outputs": [
    {
     "ename": "RuntimeError",
     "evalue": "element 0 of tensors does not require grad and does not have a grad_fn",
     "output_type": "error",
     "traceback": [
      "\u001b[0;31m---------------------------------------------------------------------------\u001b[0m",
      "\u001b[0;31mRuntimeError\u001b[0m                              Traceback (most recent call last)",
      "\u001b[0;32m<ipython-input-38-8061dc2a05a4>\u001b[0m in \u001b[0;36m<module>\u001b[0;34m\u001b[0m\n\u001b[0;32m----> 1\u001b[0;31m \u001b[0my2\u001b[0m\u001b[0;34m.\u001b[0m\u001b[0mbackward\u001b[0m\u001b[0;34m(\u001b[0m\u001b[0;34m)\u001b[0m\u001b[0;34m\u001b[0m\u001b[0;34m\u001b[0m\u001b[0m\n\u001b[0m",
      "\u001b[0;32m~/anaconda3/lib/python3.8/site-packages/torch/tensor.py\u001b[0m in \u001b[0;36mbackward\u001b[0;34m(self, gradient, retain_graph, create_graph)\u001b[0m\n\u001b[1;32m    183\u001b[0m                 \u001b[0mproducts\u001b[0m\u001b[0;34m.\u001b[0m \u001b[0mDefaults\u001b[0m \u001b[0mto\u001b[0m\u001b[0;31m \u001b[0m\u001b[0;31m`\u001b[0m\u001b[0;31m`\u001b[0m\u001b[0;32mFalse\u001b[0m\u001b[0;31m`\u001b[0m\u001b[0;31m`\u001b[0m\u001b[0;34m.\u001b[0m\u001b[0;34m\u001b[0m\u001b[0;34m\u001b[0m\u001b[0m\n\u001b[1;32m    184\u001b[0m         \"\"\"\n\u001b[0;32m--> 185\u001b[0;31m         \u001b[0mtorch\u001b[0m\u001b[0;34m.\u001b[0m\u001b[0mautograd\u001b[0m\u001b[0;34m.\u001b[0m\u001b[0mbackward\u001b[0m\u001b[0;34m(\u001b[0m\u001b[0mself\u001b[0m\u001b[0;34m,\u001b[0m \u001b[0mgradient\u001b[0m\u001b[0;34m,\u001b[0m \u001b[0mretain_graph\u001b[0m\u001b[0;34m,\u001b[0m \u001b[0mcreate_graph\u001b[0m\u001b[0;34m)\u001b[0m\u001b[0;34m\u001b[0m\u001b[0;34m\u001b[0m\u001b[0m\n\u001b[0m\u001b[1;32m    186\u001b[0m \u001b[0;34m\u001b[0m\u001b[0m\n\u001b[1;32m    187\u001b[0m     \u001b[0;32mdef\u001b[0m \u001b[0mregister_hook\u001b[0m\u001b[0;34m(\u001b[0m\u001b[0mself\u001b[0m\u001b[0;34m,\u001b[0m \u001b[0mhook\u001b[0m\u001b[0;34m)\u001b[0m\u001b[0;34m:\u001b[0m\u001b[0;34m\u001b[0m\u001b[0;34m\u001b[0m\u001b[0m\n",
      "\u001b[0;32m~/anaconda3/lib/python3.8/site-packages/torch/autograd/__init__.py\u001b[0m in \u001b[0;36mbackward\u001b[0;34m(tensors, grad_tensors, retain_graph, create_graph, grad_variables)\u001b[0m\n\u001b[1;32m    123\u001b[0m         \u001b[0mretain_graph\u001b[0m \u001b[0;34m=\u001b[0m \u001b[0mcreate_graph\u001b[0m\u001b[0;34m\u001b[0m\u001b[0;34m\u001b[0m\u001b[0m\n\u001b[1;32m    124\u001b[0m \u001b[0;34m\u001b[0m\u001b[0m\n\u001b[0;32m--> 125\u001b[0;31m     Variable._execution_engine.run_backward(\n\u001b[0m\u001b[1;32m    126\u001b[0m         \u001b[0mtensors\u001b[0m\u001b[0;34m,\u001b[0m \u001b[0mgrad_tensors\u001b[0m\u001b[0;34m,\u001b[0m \u001b[0mretain_graph\u001b[0m\u001b[0;34m,\u001b[0m \u001b[0mcreate_graph\u001b[0m\u001b[0;34m,\u001b[0m\u001b[0;34m\u001b[0m\u001b[0;34m\u001b[0m\u001b[0m\n\u001b[1;32m    127\u001b[0m         allow_unreachable=True)  # allow_unreachable flag\n",
      "\u001b[0;31mRuntimeError\u001b[0m: element 0 of tensors does not require grad and does not have a grad_fn"
     ]
    }
   ],
   "source": [
    "y2.backward()"
   ]
  },
  {
   "cell_type": "code",
   "execution_count": 39,
   "metadata": {},
   "outputs": [],
   "source": [
    "x = torch.ones(1, requires_grad=True)"
   ]
  },
  {
   "cell_type": "code",
   "execution_count": 40,
   "metadata": {},
   "outputs": [
    {
     "name": "stdout",
     "output_type": "stream",
     "text": [
      "tensor([1.])\n"
     ]
    }
   ],
   "source": [
    "print(x.data)"
   ]
  },
  {
   "cell_type": "code",
   "execution_count": 41,
   "metadata": {},
   "outputs": [
    {
     "name": "stdout",
     "output_type": "stream",
     "text": [
      "tensor([1.], requires_grad=True)\n"
     ]
    }
   ],
   "source": [
    "print(x)"
   ]
  },
  {
   "cell_type": "code",
   "execution_count": 42,
   "metadata": {},
   "outputs": [
    {
     "name": "stdout",
     "output_type": "stream",
     "text": [
      "False\n"
     ]
    }
   ],
   "source": [
    "print(x.data.requires_grad)"
   ]
  },
  {
   "cell_type": "code",
   "execution_count": 43,
   "metadata": {},
   "outputs": [
    {
     "name": "stdout",
     "output_type": "stream",
     "text": [
      "True\n"
     ]
    }
   ],
   "source": [
    "print(x.requires_grad)"
   ]
  },
  {
   "cell_type": "code",
   "execution_count": 44,
   "metadata": {},
   "outputs": [],
   "source": [
    "y = 2 * x"
   ]
  },
  {
   "cell_type": "code",
   "execution_count": 45,
   "metadata": {},
   "outputs": [],
   "source": [
    "x.data *= 100"
   ]
  },
  {
   "cell_type": "code",
   "execution_count": 46,
   "metadata": {},
   "outputs": [],
   "source": [
    "y.backward()"
   ]
  },
  {
   "cell_type": "code",
   "execution_count": 47,
   "metadata": {},
   "outputs": [
    {
     "name": "stdout",
     "output_type": "stream",
     "text": [
      "tensor([100.], requires_grad=True)\n"
     ]
    }
   ],
   "source": [
    "print(x)"
   ]
  },
  {
   "cell_type": "code",
   "execution_count": 48,
   "metadata": {},
   "outputs": [
    {
     "name": "stdout",
     "output_type": "stream",
     "text": [
      "tensor([2.])\n"
     ]
    }
   ],
   "source": [
    "print(x.grad)"
   ]
  },
  {
   "cell_type": "code",
   "execution_count": 49,
   "metadata": {},
   "outputs": [],
   "source": [
    "%matplotlib inline"
   ]
  },
  {
   "cell_type": "code",
   "execution_count": 50,
   "metadata": {},
   "outputs": [],
   "source": [
    "from IPython import display\n",
    "from matplotlib import pyplot as plt\n",
    "import numpy as np\n",
    "import random"
   ]
  },
  {
   "cell_type": "code",
   "execution_count": 54,
   "metadata": {},
   "outputs": [],
   "source": [
    "num_inputs = 2\n",
    "num_examples = 1000\n",
    "true_w = [2, -3.4]\n",
    "true_b = 4.2\n",
    "features = torch.randn(num_examples, num_inputs, dtype=torch.float32)\n",
    "labels = true_w[0] * features[:, 0] + true_w[1] * features[:, 1] + true_b\n",
    "labels += torch.tensor(np.random.normal(0, 0.01, size=labels.size()), dtype=torch.float32)"
   ]
  },
  {
   "cell_type": "code",
   "execution_count": 55,
   "metadata": {},
   "outputs": [
    {
     "name": "stdout",
     "output_type": "stream",
     "text": [
      "tensor([0.6101, 0.5784]) tensor(3.4503)\n"
     ]
    }
   ],
   "source": [
    "print(features[0], labels[0])"
   ]
  },
  {
   "cell_type": "code",
   "execution_count": 56,
   "metadata": {},
   "outputs": [],
   "source": [
    "def use_svg_display():\n",
    "    display.set_matplotlib_formats('svg')"
   ]
  },
  {
   "cell_type": "code",
   "execution_count": 57,
   "metadata": {},
   "outputs": [],
   "source": [
    "def set_figsize(figsize=(3.5, 2.5)):\n",
    "    use_svg_display()\n",
    "    plt.rcParams['figure.figsize'] = figsize"
   ]
  },
  {
   "cell_type": "code",
   "execution_count": 63,
   "metadata": {},
   "outputs": [
    {
     "data": {
      "text/plain": [
       "<matplotlib.collections.PathCollection at 0x7f54d0ec9ee0>"
      ]
     },
     "execution_count": 63,
     "metadata": {},
     "output_type": "execute_result"
    },
    {
     "data": {
      "image/svg+xml": [
       "<?xml version=\"1.0\" encoding=\"utf-8\" standalone=\"no\"?>\n",
       "<!DOCTYPE svg PUBLIC \"-//W3C//DTD SVG 1.1//EN\"\n",
       "  \"http://www.w3.org/Graphics/SVG/1.1/DTD/svg11.dtd\">\n",
       "<!-- Created with matplotlib (https://matplotlib.org/) -->\n",
       "<svg height=\"166.978125pt\" version=\"1.1\" viewBox=\"0 0 237.804688 166.978125\" width=\"237.804688pt\" xmlns=\"http://www.w3.org/2000/svg\" xmlns:xlink=\"http://www.w3.org/1999/xlink\">\n",
       " <defs>\n",
       "  <style type=\"text/css\">\n",
       "*{stroke-linecap:butt;stroke-linejoin:round;}\n",
       "  </style>\n",
       " </defs>\n",
       " <g id=\"figure_1\">\n",
       "  <g id=\"patch_1\">\n",
       "   <path d=\"M 0 166.978125 \n",
       "L 237.804688 166.978125 \n",
       "L 237.804688 0 \n",
       "L 0 0 \n",
       "z\n",
       "\" style=\"fill:none;\"/>\n",
       "  </g>\n",
       "  <g id=\"axes_1\">\n",
       "   <g id=\"patch_2\">\n",
       "    <path d=\"M 35.304688 143.1 \n",
       "L 230.604688 143.1 \n",
       "L 230.604688 7.2 \n",
       "L 35.304688 7.2 \n",
       "z\n",
       "\" style=\"fill:#ffffff;\"/>\n",
       "   </g>\n",
       "   <g id=\"PathCollection_1\">\n",
       "    <defs>\n",
       "     <path d=\"M 0 0.5 \n",
       "C 0.132602 0.5 0.25979 0.447317 0.353553 0.353553 \n",
       "C 0.447317 0.25979 0.5 0.132602 0.5 0 \n",
       "C 0.5 -0.132602 0.447317 -0.25979 0.353553 -0.353553 \n",
       "C 0.25979 -0.447317 0.132602 -0.5 0 -0.5 \n",
       "C -0.132602 -0.5 -0.25979 -0.447317 -0.353553 -0.353553 \n",
       "C -0.447317 -0.25979 -0.5 -0.132602 -0.5 0 \n",
       "C -0.5 0.132602 -0.447317 0.25979 -0.353553 0.353553 \n",
       "C -0.25979 0.447317 -0.132602 0.5 0 0.5 \n",
       "z\n",
       "\" id=\"m383135124e\" style=\"stroke:#1f77b4;\"/>\n",
       "    </defs>\n",
       "    <g clip-path=\"url(#p30b17b45ca)\">\n",
       "     <use style=\"fill:#1f77b4;stroke:#1f77b4;\" x=\"152.793\" xlink:href=\"#m383135124e\" y=\"75.734533\"/>\n",
       "     <use style=\"fill:#1f77b4;stroke:#1f77b4;\" x=\"158.06574\" xlink:href=\"#m383135124e\" y=\"97.038507\"/>\n",
       "     <use style=\"fill:#1f77b4;stroke:#1f77b4;\" x=\"197.61428\" xlink:href=\"#m383135124e\" y=\"112.57313\"/>\n",
       "     <use style=\"fill:#1f77b4;stroke:#1f77b4;\" x=\"166.318439\" xlink:href=\"#m383135124e\" y=\"97.810004\"/>\n",
       "     <use style=\"fill:#1f77b4;stroke:#1f77b4;\" x=\"116.29069\" xlink:href=\"#m383135124e\" y=\"53.029139\"/>\n",
       "     <use style=\"fill:#1f77b4;stroke:#1f77b4;\" x=\"136.158962\" xlink:href=\"#m383135124e\" y=\"71.379629\"/>\n",
       "     <use style=\"fill:#1f77b4;stroke:#1f77b4;\" x=\"130.772456\" xlink:href=\"#m383135124e\" y=\"66.802019\"/>\n",
       "     <use style=\"fill:#1f77b4;stroke:#1f77b4;\" x=\"137.928825\" xlink:href=\"#m383135124e\" y=\"101.817853\"/>\n",
       "     <use style=\"fill:#1f77b4;stroke:#1f77b4;\" x=\"176.60145\" xlink:href=\"#m383135124e\" y=\"97.703944\"/>\n",
       "     <use style=\"fill:#1f77b4;stroke:#1f77b4;\" x=\"117.31522\" xlink:href=\"#m383135124e\" y=\"47.369307\"/>\n",
       "     <use style=\"fill:#1f77b4;stroke:#1f77b4;\" x=\"139.68629\" xlink:href=\"#m383135124e\" y=\"68.755589\"/>\n",
       "     <use style=\"fill:#1f77b4;stroke:#1f77b4;\" x=\"171.635118\" xlink:href=\"#m383135124e\" y=\"99.129961\"/>\n",
       "     <use style=\"fill:#1f77b4;stroke:#1f77b4;\" x=\"119.643261\" xlink:href=\"#m383135124e\" y=\"64.434064\"/>\n",
       "     <use style=\"fill:#1f77b4;stroke:#1f77b4;\" x=\"149.204092\" xlink:href=\"#m383135124e\" y=\"70.233147\"/>\n",
       "     <use style=\"fill:#1f77b4;stroke:#1f77b4;\" x=\"125.304611\" xlink:href=\"#m383135124e\" y=\"59.406426\"/>\n",
       "     <use style=\"fill:#1f77b4;stroke:#1f77b4;\" x=\"171.920879\" xlink:href=\"#m383135124e\" y=\"95.137499\"/>\n",
       "     <use style=\"fill:#1f77b4;stroke:#1f77b4;\" x=\"126.780988\" xlink:href=\"#m383135124e\" y=\"57.868563\"/>\n",
       "     <use style=\"fill:#1f77b4;stroke:#1f77b4;\" x=\"150.768157\" xlink:href=\"#m383135124e\" y=\"74.913069\"/>\n",
       "     <use style=\"fill:#1f77b4;stroke:#1f77b4;\" x=\"155.022281\" xlink:href=\"#m383135124e\" y=\"91.314258\"/>\n",
       "     <use style=\"fill:#1f77b4;stroke:#1f77b4;\" x=\"140.33196\" xlink:href=\"#m383135124e\" y=\"67.661294\"/>\n",
       "     <use style=\"fill:#1f77b4;stroke:#1f77b4;\" x=\"148.475569\" xlink:href=\"#m383135124e\" y=\"89.880285\"/>\n",
       "     <use style=\"fill:#1f77b4;stroke:#1f77b4;\" x=\"148.302569\" xlink:href=\"#m383135124e\" y=\"86.059763\"/>\n",
       "     <use style=\"fill:#1f77b4;stroke:#1f77b4;\" x=\"156.313508\" xlink:href=\"#m383135124e\" y=\"100.059085\"/>\n",
       "     <use style=\"fill:#1f77b4;stroke:#1f77b4;\" x=\"102.263341\" xlink:href=\"#m383135124e\" y=\"51.973679\"/>\n",
       "     <use style=\"fill:#1f77b4;stroke:#1f77b4;\" x=\"120.421438\" xlink:href=\"#m383135124e\" y=\"49.27297\"/>\n",
       "     <use style=\"fill:#1f77b4;stroke:#1f77b4;\" x=\"115.437202\" xlink:href=\"#m383135124e\" y=\"68.307626\"/>\n",
       "     <use style=\"fill:#1f77b4;stroke:#1f77b4;\" x=\"146.961991\" xlink:href=\"#m383135124e\" y=\"86.003336\"/>\n",
       "     <use style=\"fill:#1f77b4;stroke:#1f77b4;\" x=\"120.253365\" xlink:href=\"#m383135124e\" y=\"62.003711\"/>\n",
       "     <use style=\"fill:#1f77b4;stroke:#1f77b4;\" x=\"100.655694\" xlink:href=\"#m383135124e\" y=\"54.376239\"/>\n",
       "     <use style=\"fill:#1f77b4;stroke:#1f77b4;\" x=\"161.356995\" xlink:href=\"#m383135124e\" y=\"97.334951\"/>\n",
       "     <use style=\"fill:#1f77b4;stroke:#1f77b4;\" x=\"165.694202\" xlink:href=\"#m383135124e\" y=\"82.942205\"/>\n",
       "     <use style=\"fill:#1f77b4;stroke:#1f77b4;\" x=\"140.103379\" xlink:href=\"#m383135124e\" y=\"63.368921\"/>\n",
       "     <use style=\"fill:#1f77b4;stroke:#1f77b4;\" x=\"164.937219\" xlink:href=\"#m383135124e\" y=\"89.752214\"/>\n",
       "     <use style=\"fill:#1f77b4;stroke:#1f77b4;\" x=\"90.892619\" xlink:href=\"#m383135124e\" y=\"40.235144\"/>\n",
       "     <use style=\"fill:#1f77b4;stroke:#1f77b4;\" x=\"122.78616\" xlink:href=\"#m383135124e\" y=\"72.501546\"/>\n",
       "     <use style=\"fill:#1f77b4;stroke:#1f77b4;\" x=\"102.13474\" xlink:href=\"#m383135124e\" y=\"43.986049\"/>\n",
       "     <use style=\"fill:#1f77b4;stroke:#1f77b4;\" x=\"158.011532\" xlink:href=\"#m383135124e\" y=\"85.434338\"/>\n",
       "     <use style=\"fill:#1f77b4;stroke:#1f77b4;\" x=\"156.596708\" xlink:href=\"#m383135124e\" y=\"96.288329\"/>\n",
       "     <use style=\"fill:#1f77b4;stroke:#1f77b4;\" x=\"141.775542\" xlink:href=\"#m383135124e\" y=\"88.178528\"/>\n",
       "     <use style=\"fill:#1f77b4;stroke:#1f77b4;\" x=\"203.861273\" xlink:href=\"#m383135124e\" y=\"124.659732\"/>\n",
       "     <use style=\"fill:#1f77b4;stroke:#1f77b4;\" x=\"114.065856\" xlink:href=\"#m383135124e\" y=\"50.541226\"/>\n",
       "     <use style=\"fill:#1f77b4;stroke:#1f77b4;\" x=\"131.136163\" xlink:href=\"#m383135124e\" y=\"49.994188\"/>\n",
       "     <use style=\"fill:#1f77b4;stroke:#1f77b4;\" x=\"126.624545\" xlink:href=\"#m383135124e\" y=\"63.589369\"/>\n",
       "     <use style=\"fill:#1f77b4;stroke:#1f77b4;\" x=\"154.430905\" xlink:href=\"#m383135124e\" y=\"88.770688\"/>\n",
       "     <use style=\"fill:#1f77b4;stroke:#1f77b4;\" x=\"145.076309\" xlink:href=\"#m383135124e\" y=\"74.885619\"/>\n",
       "     <use style=\"fill:#1f77b4;stroke:#1f77b4;\" x=\"78.06064\" xlink:href=\"#m383135124e\" y=\"40.91756\"/>\n",
       "     <use style=\"fill:#1f77b4;stroke:#1f77b4;\" x=\"130.72487\" xlink:href=\"#m383135124e\" y=\"54.796215\"/>\n",
       "     <use style=\"fill:#1f77b4;stroke:#1f77b4;\" x=\"107.700594\" xlink:href=\"#m383135124e\" y=\"66.906948\"/>\n",
       "     <use style=\"fill:#1f77b4;stroke:#1f77b4;\" x=\"144.778299\" xlink:href=\"#m383135124e\" y=\"90.042997\"/>\n",
       "     <use style=\"fill:#1f77b4;stroke:#1f77b4;\" x=\"94.464794\" xlink:href=\"#m383135124e\" y=\"43.615452\"/>\n",
       "     <use style=\"fill:#1f77b4;stroke:#1f77b4;\" x=\"139.015451\" xlink:href=\"#m383135124e\" y=\"65.735364\"/>\n",
       "     <use style=\"fill:#1f77b4;stroke:#1f77b4;\" x=\"176.963295\" xlink:href=\"#m383135124e\" y=\"99.005189\"/>\n",
       "     <use style=\"fill:#1f77b4;stroke:#1f77b4;\" x=\"158.15565\" xlink:href=\"#m383135124e\" y=\"94.172635\"/>\n",
       "     <use style=\"fill:#1f77b4;stroke:#1f77b4;\" x=\"150.942916\" xlink:href=\"#m383135124e\" y=\"81.755717\"/>\n",
       "     <use style=\"fill:#1f77b4;stroke:#1f77b4;\" x=\"137.626885\" xlink:href=\"#m383135124e\" y=\"81.407999\"/>\n",
       "     <use style=\"fill:#1f77b4;stroke:#1f77b4;\" x=\"122.786463\" xlink:href=\"#m383135124e\" y=\"55.67148\"/>\n",
       "     <use style=\"fill:#1f77b4;stroke:#1f77b4;\" x=\"130.514137\" xlink:href=\"#m383135124e\" y=\"72.436604\"/>\n",
       "     <use style=\"fill:#1f77b4;stroke:#1f77b4;\" x=\"153.338606\" xlink:href=\"#m383135124e\" y=\"84.452458\"/>\n",
       "     <use style=\"fill:#1f77b4;stroke:#1f77b4;\" x=\"139.050005\" xlink:href=\"#m383135124e\" y=\"81.013672\"/>\n",
       "     <use style=\"fill:#1f77b4;stroke:#1f77b4;\" x=\"143.351572\" xlink:href=\"#m383135124e\" y=\"63.649152\"/>\n",
       "     <use style=\"fill:#1f77b4;stroke:#1f77b4;\" x=\"127.901697\" xlink:href=\"#m383135124e\" y=\"77.332263\"/>\n",
       "     <use style=\"fill:#1f77b4;stroke:#1f77b4;\" x=\"154.042658\" xlink:href=\"#m383135124e\" y=\"86.231916\"/>\n",
       "     <use style=\"fill:#1f77b4;stroke:#1f77b4;\" x=\"143.697449\" xlink:href=\"#m383135124e\" y=\"82.419036\"/>\n",
       "     <use style=\"fill:#1f77b4;stroke:#1f77b4;\" x=\"153.871861\" xlink:href=\"#m383135124e\" y=\"92.521229\"/>\n",
       "     <use style=\"fill:#1f77b4;stroke:#1f77b4;\" x=\"196.48416\" xlink:href=\"#m383135124e\" y=\"108.956608\"/>\n",
       "     <use style=\"fill:#1f77b4;stroke:#1f77b4;\" x=\"71.647314\" xlink:href=\"#m383135124e\" y=\"29.389221\"/>\n",
       "     <use style=\"fill:#1f77b4;stroke:#1f77b4;\" x=\"147.064229\" xlink:href=\"#m383135124e\" y=\"69.497326\"/>\n",
       "     <use style=\"fill:#1f77b4;stroke:#1f77b4;\" x=\"138.857304\" xlink:href=\"#m383135124e\" y=\"60.59852\"/>\n",
       "     <use style=\"fill:#1f77b4;stroke:#1f77b4;\" x=\"110.754404\" xlink:href=\"#m383135124e\" y=\"52.092677\"/>\n",
       "     <use style=\"fill:#1f77b4;stroke:#1f77b4;\" x=\"161.756957\" xlink:href=\"#m383135124e\" y=\"94.036671\"/>\n",
       "     <use style=\"fill:#1f77b4;stroke:#1f77b4;\" x=\"115.872334\" xlink:href=\"#m383135124e\" y=\"53.222778\"/>\n",
       "     <use style=\"fill:#1f77b4;stroke:#1f77b4;\" x=\"97.686123\" xlink:href=\"#m383135124e\" y=\"52.427942\"/>\n",
       "     <use style=\"fill:#1f77b4;stroke:#1f77b4;\" x=\"174.92171\" xlink:href=\"#m383135124e\" y=\"80.714785\"/>\n",
       "     <use style=\"fill:#1f77b4;stroke:#1f77b4;\" x=\"158.788656\" xlink:href=\"#m383135124e\" y=\"77.85982\"/>\n",
       "     <use style=\"fill:#1f77b4;stroke:#1f77b4;\" x=\"184.187012\" xlink:href=\"#m383135124e\" y=\"102.830455\"/>\n",
       "     <use style=\"fill:#1f77b4;stroke:#1f77b4;\" x=\"127.903023\" xlink:href=\"#m383135124e\" y=\"70.834214\"/>\n",
       "     <use style=\"fill:#1f77b4;stroke:#1f77b4;\" x=\"116.032651\" xlink:href=\"#m383135124e\" y=\"43.476292\"/>\n",
       "     <use style=\"fill:#1f77b4;stroke:#1f77b4;\" x=\"87.834386\" xlink:href=\"#m383135124e\" y=\"42.211116\"/>\n",
       "     <use style=\"fill:#1f77b4;stroke:#1f77b4;\" x=\"97.150307\" xlink:href=\"#m383135124e\" y=\"46.208788\"/>\n",
       "     <use style=\"fill:#1f77b4;stroke:#1f77b4;\" x=\"115.973965\" xlink:href=\"#m383135124e\" y=\"56.389413\"/>\n",
       "     <use style=\"fill:#1f77b4;stroke:#1f77b4;\" x=\"168.972876\" xlink:href=\"#m383135124e\" y=\"92.942471\"/>\n",
       "     <use style=\"fill:#1f77b4;stroke:#1f77b4;\" x=\"133.050151\" xlink:href=\"#m383135124e\" y=\"69.024938\"/>\n",
       "     <use style=\"fill:#1f77b4;stroke:#1f77b4;\" x=\"175.777026\" xlink:href=\"#m383135124e\" y=\"112.134996\"/>\n",
       "     <use style=\"fill:#1f77b4;stroke:#1f77b4;\" x=\"144.177223\" xlink:href=\"#m383135124e\" y=\"73.633808\"/>\n",
       "     <use style=\"fill:#1f77b4;stroke:#1f77b4;\" x=\"85.630291\" xlink:href=\"#m383135124e\" y=\"54.153369\"/>\n",
       "     <use style=\"fill:#1f77b4;stroke:#1f77b4;\" x=\"133.172069\" xlink:href=\"#m383135124e\" y=\"60.915512\"/>\n",
       "     <use style=\"fill:#1f77b4;stroke:#1f77b4;\" x=\"160.270718\" xlink:href=\"#m383135124e\" y=\"95.178704\"/>\n",
       "     <use style=\"fill:#1f77b4;stroke:#1f77b4;\" x=\"111.834044\" xlink:href=\"#m383135124e\" y=\"46.407631\"/>\n",
       "     <use style=\"fill:#1f77b4;stroke:#1f77b4;\" x=\"119.479385\" xlink:href=\"#m383135124e\" y=\"56.976601\"/>\n",
       "     <use style=\"fill:#1f77b4;stroke:#1f77b4;\" x=\"124.257989\" xlink:href=\"#m383135124e\" y=\"65.598139\"/>\n",
       "     <use style=\"fill:#1f77b4;stroke:#1f77b4;\" x=\"146.045782\" xlink:href=\"#m383135124e\" y=\"68.730494\"/>\n",
       "     <use style=\"fill:#1f77b4;stroke:#1f77b4;\" x=\"128.428061\" xlink:href=\"#m383135124e\" y=\"64.185213\"/>\n",
       "     <use style=\"fill:#1f77b4;stroke:#1f77b4;\" x=\"139.29641\" xlink:href=\"#m383135124e\" y=\"62.426345\"/>\n",
       "     <use style=\"fill:#1f77b4;stroke:#1f77b4;\" x=\"129.818402\" xlink:href=\"#m383135124e\" y=\"74.076585\"/>\n",
       "     <use style=\"fill:#1f77b4;stroke:#1f77b4;\" x=\"122.437664\" xlink:href=\"#m383135124e\" y=\"57.722925\"/>\n",
       "     <use style=\"fill:#1f77b4;stroke:#1f77b4;\" x=\"137.056307\" xlink:href=\"#m383135124e\" y=\"63.966899\"/>\n",
       "     <use style=\"fill:#1f77b4;stroke:#1f77b4;\" x=\"211.735659\" xlink:href=\"#m383135124e\" y=\"127.714047\"/>\n",
       "     <use style=\"fill:#1f77b4;stroke:#1f77b4;\" x=\"151.004142\" xlink:href=\"#m383135124e\" y=\"77.087951\"/>\n",
       "     <use style=\"fill:#1f77b4;stroke:#1f77b4;\" x=\"142.916712\" xlink:href=\"#m383135124e\" y=\"62.518611\"/>\n",
       "     <use style=\"fill:#1f77b4;stroke:#1f77b4;\" x=\"157.380947\" xlink:href=\"#m383135124e\" y=\"79.196061\"/>\n",
       "     <use style=\"fill:#1f77b4;stroke:#1f77b4;\" x=\"137.8012\" xlink:href=\"#m383135124e\" y=\"76.87\"/>\n",
       "     <use style=\"fill:#1f77b4;stroke:#1f77b4;\" x=\"153.504041\" xlink:href=\"#m383135124e\" y=\"72.457747\"/>\n",
       "     <use style=\"fill:#1f77b4;stroke:#1f77b4;\" x=\"97.39713\" xlink:href=\"#m383135124e\" y=\"53.703335\"/>\n",
       "     <use style=\"fill:#1f77b4;stroke:#1f77b4;\" x=\"116.749758\" xlink:href=\"#m383135124e\" y=\"49.571781\"/>\n",
       "     <use style=\"fill:#1f77b4;stroke:#1f77b4;\" x=\"136.176559\" xlink:href=\"#m383135124e\" y=\"69.313363\"/>\n",
       "     <use style=\"fill:#1f77b4;stroke:#1f77b4;\" x=\"147.312518\" xlink:href=\"#m383135124e\" y=\"76.064209\"/>\n",
       "     <use style=\"fill:#1f77b4;stroke:#1f77b4;\" x=\"151.645347\" xlink:href=\"#m383135124e\" y=\"84.652171\"/>\n",
       "     <use style=\"fill:#1f77b4;stroke:#1f77b4;\" x=\"134.343914\" xlink:href=\"#m383135124e\" y=\"59.958774\"/>\n",
       "     <use style=\"fill:#1f77b4;stroke:#1f77b4;\" x=\"176.379751\" xlink:href=\"#m383135124e\" y=\"104.049415\"/>\n",
       "     <use style=\"fill:#1f77b4;stroke:#1f77b4;\" x=\"131.612959\" xlink:href=\"#m383135124e\" y=\"67.549699\"/>\n",
       "     <use style=\"fill:#1f77b4;stroke:#1f77b4;\" x=\"162.621686\" xlink:href=\"#m383135124e\" y=\"90.230248\"/>\n",
       "     <use style=\"fill:#1f77b4;stroke:#1f77b4;\" x=\"135.942326\" xlink:href=\"#m383135124e\" y=\"60.75392\"/>\n",
       "     <use style=\"fill:#1f77b4;stroke:#1f77b4;\" x=\"147.485278\" xlink:href=\"#m383135124e\" y=\"73.046363\"/>\n",
       "     <use style=\"fill:#1f77b4;stroke:#1f77b4;\" x=\"162.04758\" xlink:href=\"#m383135124e\" y=\"79.203501\"/>\n",
       "     <use style=\"fill:#1f77b4;stroke:#1f77b4;\" x=\"146.413788\" xlink:href=\"#m383135124e\" y=\"79.10551\"/>\n",
       "     <use style=\"fill:#1f77b4;stroke:#1f77b4;\" x=\"143.504235\" xlink:href=\"#m383135124e\" y=\"78.381917\"/>\n",
       "     <use style=\"fill:#1f77b4;stroke:#1f77b4;\" x=\"129.189135\" xlink:href=\"#m383135124e\" y=\"70.733581\"/>\n",
       "     <use style=\"fill:#1f77b4;stroke:#1f77b4;\" x=\"107.861736\" xlink:href=\"#m383135124e\" y=\"58.185729\"/>\n",
       "     <use style=\"fill:#1f77b4;stroke:#1f77b4;\" x=\"145.034615\" xlink:href=\"#m383135124e\" y=\"72.031332\"/>\n",
       "     <use style=\"fill:#1f77b4;stroke:#1f77b4;\" x=\"166.377144\" xlink:href=\"#m383135124e\" y=\"91.946561\"/>\n",
       "     <use style=\"fill:#1f77b4;stroke:#1f77b4;\" x=\"122.093129\" xlink:href=\"#m383135124e\" y=\"64.54861\"/>\n",
       "     <use style=\"fill:#1f77b4;stroke:#1f77b4;\" x=\"153.828364\" xlink:href=\"#m383135124e\" y=\"82.43875\"/>\n",
       "     <use style=\"fill:#1f77b4;stroke:#1f77b4;\" x=\"139.498227\" xlink:href=\"#m383135124e\" y=\"59.98412\"/>\n",
       "     <use style=\"fill:#1f77b4;stroke:#1f77b4;\" x=\"155.938555\" xlink:href=\"#m383135124e\" y=\"80.480794\"/>\n",
       "     <use style=\"fill:#1f77b4;stroke:#1f77b4;\" x=\"147.215209\" xlink:href=\"#m383135124e\" y=\"62.225446\"/>\n",
       "     <use style=\"fill:#1f77b4;stroke:#1f77b4;\" x=\"145.70491\" xlink:href=\"#m383135124e\" y=\"65.307474\"/>\n",
       "     <use style=\"fill:#1f77b4;stroke:#1f77b4;\" x=\"103.859143\" xlink:href=\"#m383135124e\" y=\"54.162165\"/>\n",
       "     <use style=\"fill:#1f77b4;stroke:#1f77b4;\" x=\"159.308888\" xlink:href=\"#m383135124e\" y=\"81.027599\"/>\n",
       "     <use style=\"fill:#1f77b4;stroke:#1f77b4;\" x=\"160.36358\" xlink:href=\"#m383135124e\" y=\"73.46741\"/>\n",
       "     <use style=\"fill:#1f77b4;stroke:#1f77b4;\" x=\"151.184809\" xlink:href=\"#m383135124e\" y=\"70.529001\"/>\n",
       "     <use style=\"fill:#1f77b4;stroke:#1f77b4;\" x=\"97.489984\" xlink:href=\"#m383135124e\" y=\"39.635763\"/>\n",
       "     <use style=\"fill:#1f77b4;stroke:#1f77b4;\" x=\"153.106109\" xlink:href=\"#m383135124e\" y=\"77.085527\"/>\n",
       "     <use style=\"fill:#1f77b4;stroke:#1f77b4;\" x=\"162.9418\" xlink:href=\"#m383135124e\" y=\"98.460426\"/>\n",
       "     <use style=\"fill:#1f77b4;stroke:#1f77b4;\" x=\"109.851783\" xlink:href=\"#m383135124e\" y=\"46.490761\"/>\n",
       "     <use style=\"fill:#1f77b4;stroke:#1f77b4;\" x=\"113.544523\" xlink:href=\"#m383135124e\" y=\"64.390263\"/>\n",
       "     <use style=\"fill:#1f77b4;stroke:#1f77b4;\" x=\"161.183578\" xlink:href=\"#m383135124e\" y=\"67.608394\"/>\n",
       "     <use style=\"fill:#1f77b4;stroke:#1f77b4;\" x=\"121.840231\" xlink:href=\"#m383135124e\" y=\"74.658073\"/>\n",
       "     <use style=\"fill:#1f77b4;stroke:#1f77b4;\" x=\"118.043874\" xlink:href=\"#m383135124e\" y=\"67.196341\"/>\n",
       "     <use style=\"fill:#1f77b4;stroke:#1f77b4;\" x=\"153.752694\" xlink:href=\"#m383135124e\" y=\"72.276983\"/>\n",
       "     <use style=\"fill:#1f77b4;stroke:#1f77b4;\" x=\"147.963856\" xlink:href=\"#m383135124e\" y=\"67.517205\"/>\n",
       "     <use style=\"fill:#1f77b4;stroke:#1f77b4;\" x=\"181.426327\" xlink:href=\"#m383135124e\" y=\"83.137929\"/>\n",
       "     <use style=\"fill:#1f77b4;stroke:#1f77b4;\" x=\"154.284051\" xlink:href=\"#m383135124e\" y=\"98.261104\"/>\n",
       "     <use style=\"fill:#1f77b4;stroke:#1f77b4;\" x=\"160.208048\" xlink:href=\"#m383135124e\" y=\"81.502488\"/>\n",
       "     <use style=\"fill:#1f77b4;stroke:#1f77b4;\" x=\"118.129013\" xlink:href=\"#m383135124e\" y=\"58.290623\"/>\n",
       "     <use style=\"fill:#1f77b4;stroke:#1f77b4;\" x=\"141.919653\" xlink:href=\"#m383135124e\" y=\"88.174325\"/>\n",
       "     <use style=\"fill:#1f77b4;stroke:#1f77b4;\" x=\"146.201823\" xlink:href=\"#m383135124e\" y=\"79.225174\"/>\n",
       "     <use style=\"fill:#1f77b4;stroke:#1f77b4;\" x=\"159.403358\" xlink:href=\"#m383135124e\" y=\"88.662623\"/>\n",
       "     <use style=\"fill:#1f77b4;stroke:#1f77b4;\" x=\"131.062282\" xlink:href=\"#m383135124e\" y=\"72.916898\"/>\n",
       "     <use style=\"fill:#1f77b4;stroke:#1f77b4;\" x=\"132.621234\" xlink:href=\"#m383135124e\" y=\"78.294079\"/>\n",
       "     <use style=\"fill:#1f77b4;stroke:#1f77b4;\" x=\"162.589373\" xlink:href=\"#m383135124e\" y=\"97.813062\"/>\n",
       "     <use style=\"fill:#1f77b4;stroke:#1f77b4;\" x=\"170.792812\" xlink:href=\"#m383135124e\" y=\"104.996313\"/>\n",
       "     <use style=\"fill:#1f77b4;stroke:#1f77b4;\" x=\"100.699628\" xlink:href=\"#m383135124e\" y=\"54.020938\"/>\n",
       "     <use style=\"fill:#1f77b4;stroke:#1f77b4;\" x=\"118.346713\" xlink:href=\"#m383135124e\" y=\"56.663862\"/>\n",
       "     <use style=\"fill:#1f77b4;stroke:#1f77b4;\" x=\"146.342545\" xlink:href=\"#m383135124e\" y=\"70.121655\"/>\n",
       "     <use style=\"fill:#1f77b4;stroke:#1f77b4;\" x=\"97.073112\" xlink:href=\"#m383135124e\" y=\"41.384896\"/>\n",
       "     <use style=\"fill:#1f77b4;stroke:#1f77b4;\" x=\"148.228199\" xlink:href=\"#m383135124e\" y=\"77.70593\"/>\n",
       "     <use style=\"fill:#1f77b4;stroke:#1f77b4;\" x=\"168.485777\" xlink:href=\"#m383135124e\" y=\"104.352639\"/>\n",
       "     <use style=\"fill:#1f77b4;stroke:#1f77b4;\" x=\"115.958109\" xlink:href=\"#m383135124e\" y=\"42.071228\"/>\n",
       "     <use style=\"fill:#1f77b4;stroke:#1f77b4;\" x=\"126.890569\" xlink:href=\"#m383135124e\" y=\"67.624207\"/>\n",
       "     <use style=\"fill:#1f77b4;stroke:#1f77b4;\" x=\"166.955566\" xlink:href=\"#m383135124e\" y=\"92.439965\"/>\n",
       "     <use style=\"fill:#1f77b4;stroke:#1f77b4;\" x=\"139.431018\" xlink:href=\"#m383135124e\" y=\"73.605683\"/>\n",
       "     <use style=\"fill:#1f77b4;stroke:#1f77b4;\" x=\"183.348195\" xlink:href=\"#m383135124e\" y=\"113.721552\"/>\n",
       "     <use style=\"fill:#1f77b4;stroke:#1f77b4;\" x=\"146.306924\" xlink:href=\"#m383135124e\" y=\"74.698066\"/>\n",
       "     <use style=\"fill:#1f77b4;stroke:#1f77b4;\" x=\"81.22327\" xlink:href=\"#m383135124e\" y=\"39.775174\"/>\n",
       "     <use style=\"fill:#1f77b4;stroke:#1f77b4;\" x=\"176.5915\" xlink:href=\"#m383135124e\" y=\"110.791765\"/>\n",
       "     <use style=\"fill:#1f77b4;stroke:#1f77b4;\" x=\"165.809798\" xlink:href=\"#m383135124e\" y=\"86.905258\"/>\n",
       "     <use style=\"fill:#1f77b4;stroke:#1f77b4;\" x=\"162.426903\" xlink:href=\"#m383135124e\" y=\"96.531004\"/>\n",
       "     <use style=\"fill:#1f77b4;stroke:#1f77b4;\" x=\"156.81423\" xlink:href=\"#m383135124e\" y=\"104.038713\"/>\n",
       "     <use style=\"fill:#1f77b4;stroke:#1f77b4;\" x=\"123.213381\" xlink:href=\"#m383135124e\" y=\"65.790199\"/>\n",
       "     <use style=\"fill:#1f77b4;stroke:#1f77b4;\" x=\"201.430441\" xlink:href=\"#m383135124e\" y=\"101.163549\"/>\n",
       "     <use style=\"fill:#1f77b4;stroke:#1f77b4;\" x=\"148.375437\" xlink:href=\"#m383135124e\" y=\"76.782391\"/>\n",
       "     <use style=\"fill:#1f77b4;stroke:#1f77b4;\" x=\"143.450796\" xlink:href=\"#m383135124e\" y=\"81.376709\"/>\n",
       "     <use style=\"fill:#1f77b4;stroke:#1f77b4;\" x=\"125.946723\" xlink:href=\"#m383135124e\" y=\"57.082739\"/>\n",
       "     <use style=\"fill:#1f77b4;stroke:#1f77b4;\" x=\"124.288504\" xlink:href=\"#m383135124e\" y=\"61.631678\"/>\n",
       "     <use style=\"fill:#1f77b4;stroke:#1f77b4;\" x=\"151.964846\" xlink:href=\"#m383135124e\" y=\"93.95923\"/>\n",
       "     <use style=\"fill:#1f77b4;stroke:#1f77b4;\" x=\"145.765023\" xlink:href=\"#m383135124e\" y=\"63.291849\"/>\n",
       "     <use style=\"fill:#1f77b4;stroke:#1f77b4;\" x=\"179.377439\" xlink:href=\"#m383135124e\" y=\"101.170713\"/>\n",
       "     <use style=\"fill:#1f77b4;stroke:#1f77b4;\" x=\"138.289531\" xlink:href=\"#m383135124e\" y=\"90.934453\"/>\n",
       "     <use style=\"fill:#1f77b4;stroke:#1f77b4;\" x=\"132.194497\" xlink:href=\"#m383135124e\" y=\"65.949176\"/>\n",
       "     <use style=\"fill:#1f77b4;stroke:#1f77b4;\" x=\"149.661846\" xlink:href=\"#m383135124e\" y=\"67.440889\"/>\n",
       "     <use style=\"fill:#1f77b4;stroke:#1f77b4;\" x=\"147.602425\" xlink:href=\"#m383135124e\" y=\"78.113532\"/>\n",
       "     <use style=\"fill:#1f77b4;stroke:#1f77b4;\" x=\"142.986685\" xlink:href=\"#m383135124e\" y=\"71.69454\"/>\n",
       "     <use style=\"fill:#1f77b4;stroke:#1f77b4;\" x=\"128.022199\" xlink:href=\"#m383135124e\" y=\"70.420817\"/>\n",
       "     <use style=\"fill:#1f77b4;stroke:#1f77b4;\" x=\"184.076841\" xlink:href=\"#m383135124e\" y=\"110.629777\"/>\n",
       "     <use style=\"fill:#1f77b4;stroke:#1f77b4;\" x=\"103.734992\" xlink:href=\"#m383135124e\" y=\"54.146419\"/>\n",
       "     <use style=\"fill:#1f77b4;stroke:#1f77b4;\" x=\"158.569887\" xlink:href=\"#m383135124e\" y=\"80.241548\"/>\n",
       "     <use style=\"fill:#1f77b4;stroke:#1f77b4;\" x=\"124.340515\" xlink:href=\"#m383135124e\" y=\"56.415461\"/>\n",
       "     <use style=\"fill:#1f77b4;stroke:#1f77b4;\" x=\"152.980795\" xlink:href=\"#m383135124e\" y=\"95.002187\"/>\n",
       "     <use style=\"fill:#1f77b4;stroke:#1f77b4;\" x=\"134.273697\" xlink:href=\"#m383135124e\" y=\"85.966833\"/>\n",
       "     <use style=\"fill:#1f77b4;stroke:#1f77b4;\" x=\"173.146189\" xlink:href=\"#m383135124e\" y=\"98.405635\"/>\n",
       "     <use style=\"fill:#1f77b4;stroke:#1f77b4;\" x=\"147.325976\" xlink:href=\"#m383135124e\" y=\"74.840933\"/>\n",
       "     <use style=\"fill:#1f77b4;stroke:#1f77b4;\" x=\"189.351285\" xlink:href=\"#m383135124e\" y=\"93.588984\"/>\n",
       "     <use style=\"fill:#1f77b4;stroke:#1f77b4;\" x=\"191.740432\" xlink:href=\"#m383135124e\" y=\"116.488036\"/>\n",
       "     <use style=\"fill:#1f77b4;stroke:#1f77b4;\" x=\"140.865567\" xlink:href=\"#m383135124e\" y=\"73.178822\"/>\n",
       "     <use style=\"fill:#1f77b4;stroke:#1f77b4;\" x=\"221.727415\" xlink:href=\"#m383135124e\" y=\"129.034419\"/>\n",
       "     <use style=\"fill:#1f77b4;stroke:#1f77b4;\" x=\"151.404111\" xlink:href=\"#m383135124e\" y=\"81.866029\"/>\n",
       "     <use style=\"fill:#1f77b4;stroke:#1f77b4;\" x=\"135.050137\" xlink:href=\"#m383135124e\" y=\"74.876591\"/>\n",
       "     <use style=\"fill:#1f77b4;stroke:#1f77b4;\" x=\"160.637992\" xlink:href=\"#m383135124e\" y=\"103.82886\"/>\n",
       "     <use style=\"fill:#1f77b4;stroke:#1f77b4;\" x=\"94.327798\" xlink:href=\"#m383135124e\" y=\"42.654937\"/>\n",
       "     <use style=\"fill:#1f77b4;stroke:#1f77b4;\" x=\"161.451404\" xlink:href=\"#m383135124e\" y=\"78.65611\"/>\n",
       "     <use style=\"fill:#1f77b4;stroke:#1f77b4;\" x=\"155.564141\" xlink:href=\"#m383135124e\" y=\"87.486778\"/>\n",
       "     <use style=\"fill:#1f77b4;stroke:#1f77b4;\" x=\"150.43583\" xlink:href=\"#m383135124e\" y=\"70.644478\"/>\n",
       "     <use style=\"fill:#1f77b4;stroke:#1f77b4;\" x=\"125.320592\" xlink:href=\"#m383135124e\" y=\"67.959442\"/>\n",
       "     <use style=\"fill:#1f77b4;stroke:#1f77b4;\" x=\"131.493055\" xlink:href=\"#m383135124e\" y=\"79.023105\"/>\n",
       "     <use style=\"fill:#1f77b4;stroke:#1f77b4;\" x=\"114.211725\" xlink:href=\"#m383135124e\" y=\"67.823029\"/>\n",
       "     <use style=\"fill:#1f77b4;stroke:#1f77b4;\" x=\"167.649681\" xlink:href=\"#m383135124e\" y=\"73.444386\"/>\n",
       "     <use style=\"fill:#1f77b4;stroke:#1f77b4;\" x=\"106.126659\" xlink:href=\"#m383135124e\" y=\"53.565353\"/>\n",
       "     <use style=\"fill:#1f77b4;stroke:#1f77b4;\" x=\"105.508371\" xlink:href=\"#m383135124e\" y=\"55.120206\"/>\n",
       "     <use style=\"fill:#1f77b4;stroke:#1f77b4;\" x=\"141.052829\" xlink:href=\"#m383135124e\" y=\"63.185911\"/>\n",
       "     <use style=\"fill:#1f77b4;stroke:#1f77b4;\" x=\"154.306771\" xlink:href=\"#m383135124e\" y=\"69.922639\"/>\n",
       "     <use style=\"fill:#1f77b4;stroke:#1f77b4;\" x=\"159.932393\" xlink:href=\"#m383135124e\" y=\"80.310042\"/>\n",
       "     <use style=\"fill:#1f77b4;stroke:#1f77b4;\" x=\"134.460246\" xlink:href=\"#m383135124e\" y=\"72.268105\"/>\n",
       "     <use style=\"fill:#1f77b4;stroke:#1f77b4;\" x=\"144.710965\" xlink:href=\"#m383135124e\" y=\"78.042345\"/>\n",
       "     <use style=\"fill:#1f77b4;stroke:#1f77b4;\" x=\"130.89869\" xlink:href=\"#m383135124e\" y=\"66.400822\"/>\n",
       "     <use style=\"fill:#1f77b4;stroke:#1f77b4;\" x=\"184.454958\" xlink:href=\"#m383135124e\" y=\"96.310781\"/>\n",
       "     <use style=\"fill:#1f77b4;stroke:#1f77b4;\" x=\"192.257133\" xlink:href=\"#m383135124e\" y=\"115.502949\"/>\n",
       "     <use style=\"fill:#1f77b4;stroke:#1f77b4;\" x=\"133.32981\" xlink:href=\"#m383135124e\" y=\"61.984765\"/>\n",
       "     <use style=\"fill:#1f77b4;stroke:#1f77b4;\" x=\"102.946785\" xlink:href=\"#m383135124e\" y=\"47.804518\"/>\n",
       "     <use style=\"fill:#1f77b4;stroke:#1f77b4;\" x=\"137.791413\" xlink:href=\"#m383135124e\" y=\"82.301413\"/>\n",
       "     <use style=\"fill:#1f77b4;stroke:#1f77b4;\" x=\"151.692479\" xlink:href=\"#m383135124e\" y=\"71.330328\"/>\n",
       "     <use style=\"fill:#1f77b4;stroke:#1f77b4;\" x=\"163.084517\" xlink:href=\"#m383135124e\" y=\"75.188782\"/>\n",
       "     <use style=\"fill:#1f77b4;stroke:#1f77b4;\" x=\"114.927443\" xlink:href=\"#m383135124e\" y=\"60.373704\"/>\n",
       "     <use style=\"fill:#1f77b4;stroke:#1f77b4;\" x=\"127.592101\" xlink:href=\"#m383135124e\" y=\"65.309473\"/>\n",
       "     <use style=\"fill:#1f77b4;stroke:#1f77b4;\" x=\"104.304389\" xlink:href=\"#m383135124e\" y=\"56.943727\"/>\n",
       "     <use style=\"fill:#1f77b4;stroke:#1f77b4;\" x=\"108.54968\" xlink:href=\"#m383135124e\" y=\"71.246995\"/>\n",
       "     <use style=\"fill:#1f77b4;stroke:#1f77b4;\" x=\"146.407159\" xlink:href=\"#m383135124e\" y=\"67.401966\"/>\n",
       "     <use style=\"fill:#1f77b4;stroke:#1f77b4;\" x=\"165.381085\" xlink:href=\"#m383135124e\" y=\"70.14776\"/>\n",
       "     <use style=\"fill:#1f77b4;stroke:#1f77b4;\" x=\"152.284389\" xlink:href=\"#m383135124e\" y=\"101.085825\"/>\n",
       "     <use style=\"fill:#1f77b4;stroke:#1f77b4;\" x=\"160.006726\" xlink:href=\"#m383135124e\" y=\"100.816852\"/>\n",
       "     <use style=\"fill:#1f77b4;stroke:#1f77b4;\" x=\"120.227066\" xlink:href=\"#m383135124e\" y=\"42.920267\"/>\n",
       "     <use style=\"fill:#1f77b4;stroke:#1f77b4;\" x=\"126.294629\" xlink:href=\"#m383135124e\" y=\"57.436548\"/>\n",
       "     <use style=\"fill:#1f77b4;stroke:#1f77b4;\" x=\"110.439763\" xlink:href=\"#m383135124e\" y=\"48.994078\"/>\n",
       "     <use style=\"fill:#1f77b4;stroke:#1f77b4;\" x=\"152.02841\" xlink:href=\"#m383135124e\" y=\"84.602732\"/>\n",
       "     <use style=\"fill:#1f77b4;stroke:#1f77b4;\" x=\"110.664535\" xlink:href=\"#m383135124e\" y=\"55.400201\"/>\n",
       "     <use style=\"fill:#1f77b4;stroke:#1f77b4;\" x=\"169.675479\" xlink:href=\"#m383135124e\" y=\"95.235613\"/>\n",
       "     <use style=\"fill:#1f77b4;stroke:#1f77b4;\" x=\"98.291523\" xlink:href=\"#m383135124e\" y=\"44.434085\"/>\n",
       "     <use style=\"fill:#1f77b4;stroke:#1f77b4;\" x=\"119.810442\" xlink:href=\"#m383135124e\" y=\"47.069967\"/>\n",
       "     <use style=\"fill:#1f77b4;stroke:#1f77b4;\" x=\"133.598866\" xlink:href=\"#m383135124e\" y=\"69.683262\"/>\n",
       "     <use style=\"fill:#1f77b4;stroke:#1f77b4;\" x=\"151.025497\" xlink:href=\"#m383135124e\" y=\"64.88022\"/>\n",
       "     <use style=\"fill:#1f77b4;stroke:#1f77b4;\" x=\"129.077788\" xlink:href=\"#m383135124e\" y=\"65.313542\"/>\n",
       "     <use style=\"fill:#1f77b4;stroke:#1f77b4;\" x=\"109.934226\" xlink:href=\"#m383135124e\" y=\"39.344504\"/>\n",
       "     <use style=\"fill:#1f77b4;stroke:#1f77b4;\" x=\"163.870384\" xlink:href=\"#m383135124e\" y=\"68.574934\"/>\n",
       "     <use style=\"fill:#1f77b4;stroke:#1f77b4;\" x=\"132.453311\" xlink:href=\"#m383135124e\" y=\"80.792262\"/>\n",
       "     <use style=\"fill:#1f77b4;stroke:#1f77b4;\" x=\"119.208416\" xlink:href=\"#m383135124e\" y=\"54.783632\"/>\n",
       "     <use style=\"fill:#1f77b4;stroke:#1f77b4;\" x=\"170.392065\" xlink:href=\"#m383135124e\" y=\"100.21824\"/>\n",
       "     <use style=\"fill:#1f77b4;stroke:#1f77b4;\" x=\"159.770955\" xlink:href=\"#m383135124e\" y=\"74.297918\"/>\n",
       "     <use style=\"fill:#1f77b4;stroke:#1f77b4;\" x=\"129.576634\" xlink:href=\"#m383135124e\" y=\"55.857363\"/>\n",
       "     <use style=\"fill:#1f77b4;stroke:#1f77b4;\" x=\"158.044618\" xlink:href=\"#m383135124e\" y=\"81.501848\"/>\n",
       "     <use style=\"fill:#1f77b4;stroke:#1f77b4;\" x=\"132.572467\" xlink:href=\"#m383135124e\" y=\"78.144907\"/>\n",
       "     <use style=\"fill:#1f77b4;stroke:#1f77b4;\" x=\"112.596906\" xlink:href=\"#m383135124e\" y=\"49.384017\"/>\n",
       "     <use style=\"fill:#1f77b4;stroke:#1f77b4;\" x=\"130.543571\" xlink:href=\"#m383135124e\" y=\"61.594542\"/>\n",
       "     <use style=\"fill:#1f77b4;stroke:#1f77b4;\" x=\"107.908298\" xlink:href=\"#m383135124e\" y=\"63.95469\"/>\n",
       "     <use style=\"fill:#1f77b4;stroke:#1f77b4;\" x=\"107.781388\" xlink:href=\"#m383135124e\" y=\"68.379981\"/>\n",
       "     <use style=\"fill:#1f77b4;stroke:#1f77b4;\" x=\"143.931485\" xlink:href=\"#m383135124e\" y=\"82.751682\"/>\n",
       "     <use style=\"fill:#1f77b4;stroke:#1f77b4;\" x=\"133.180934\" xlink:href=\"#m383135124e\" y=\"75.436788\"/>\n",
       "     <use style=\"fill:#1f77b4;stroke:#1f77b4;\" x=\"165.496131\" xlink:href=\"#m383135124e\" y=\"92.214545\"/>\n",
       "     <use style=\"fill:#1f77b4;stroke:#1f77b4;\" x=\"82.718765\" xlink:href=\"#m383135124e\" y=\"45.35367\"/>\n",
       "     <use style=\"fill:#1f77b4;stroke:#1f77b4;\" x=\"174.456142\" xlink:href=\"#m383135124e\" y=\"73.641573\"/>\n",
       "     <use style=\"fill:#1f77b4;stroke:#1f77b4;\" x=\"162.187567\" xlink:href=\"#m383135124e\" y=\"81.738863\"/>\n",
       "     <use style=\"fill:#1f77b4;stroke:#1f77b4;\" x=\"151.385701\" xlink:href=\"#m383135124e\" y=\"80.218531\"/>\n",
       "     <use style=\"fill:#1f77b4;stroke:#1f77b4;\" x=\"174.616466\" xlink:href=\"#m383135124e\" y=\"76.754086\"/>\n",
       "     <use style=\"fill:#1f77b4;stroke:#1f77b4;\" x=\"103.986704\" xlink:href=\"#m383135124e\" y=\"30.206065\"/>\n",
       "     <use style=\"fill:#1f77b4;stroke:#1f77b4;\" x=\"141.4893\" xlink:href=\"#m383135124e\" y=\"74.628332\"/>\n",
       "     <use style=\"fill:#1f77b4;stroke:#1f77b4;\" x=\"122.027137\" xlink:href=\"#m383135124e\" y=\"66.881069\"/>\n",
       "     <use style=\"fill:#1f77b4;stroke:#1f77b4;\" x=\"140.671741\" xlink:href=\"#m383135124e\" y=\"73.487102\"/>\n",
       "     <use style=\"fill:#1f77b4;stroke:#1f77b4;\" x=\"137.600079\" xlink:href=\"#m383135124e\" y=\"91.253598\"/>\n",
       "     <use style=\"fill:#1f77b4;stroke:#1f77b4;\" x=\"149.902483\" xlink:href=\"#m383135124e\" y=\"72.313771\"/>\n",
       "     <use style=\"fill:#1f77b4;stroke:#1f77b4;\" x=\"91.785376\" xlink:href=\"#m383135124e\" y=\"47.641401\"/>\n",
       "     <use style=\"fill:#1f77b4;stroke:#1f77b4;\" x=\"120.576125\" xlink:href=\"#m383135124e\" y=\"50.643261\"/>\n",
       "     <use style=\"fill:#1f77b4;stroke:#1f77b4;\" x=\"101.850088\" xlink:href=\"#m383135124e\" y=\"49.889631\"/>\n",
       "     <use style=\"fill:#1f77b4;stroke:#1f77b4;\" x=\"165.063631\" xlink:href=\"#m383135124e\" y=\"84.305182\"/>\n",
       "     <use style=\"fill:#1f77b4;stroke:#1f77b4;\" x=\"141.634069\" xlink:href=\"#m383135124e\" y=\"70.285505\"/>\n",
       "     <use style=\"fill:#1f77b4;stroke:#1f77b4;\" x=\"124.581388\" xlink:href=\"#m383135124e\" y=\"46.537259\"/>\n",
       "     <use style=\"fill:#1f77b4;stroke:#1f77b4;\" x=\"131.707924\" xlink:href=\"#m383135124e\" y=\"69.588158\"/>\n",
       "     <use style=\"fill:#1f77b4;stroke:#1f77b4;\" x=\"139.60999\" xlink:href=\"#m383135124e\" y=\"86.392463\"/>\n",
       "     <use style=\"fill:#1f77b4;stroke:#1f77b4;\" x=\"142.958454\" xlink:href=\"#m383135124e\" y=\"68.189003\"/>\n",
       "     <use style=\"fill:#1f77b4;stroke:#1f77b4;\" x=\"166.022903\" xlink:href=\"#m383135124e\" y=\"106.651544\"/>\n",
       "     <use style=\"fill:#1f77b4;stroke:#1f77b4;\" x=\"147.023843\" xlink:href=\"#m383135124e\" y=\"63.662697\"/>\n",
       "     <use style=\"fill:#1f77b4;stroke:#1f77b4;\" x=\"139.127761\" xlink:href=\"#m383135124e\" y=\"71.276087\"/>\n",
       "     <use style=\"fill:#1f77b4;stroke:#1f77b4;\" x=\"143.545669\" xlink:href=\"#m383135124e\" y=\"72.332923\"/>\n",
       "     <use style=\"fill:#1f77b4;stroke:#1f77b4;\" x=\"150.209915\" xlink:href=\"#m383135124e\" y=\"97.649506\"/>\n",
       "     <use style=\"fill:#1f77b4;stroke:#1f77b4;\" x=\"123.982197\" xlink:href=\"#m383135124e\" y=\"46.465768\"/>\n",
       "     <use style=\"fill:#1f77b4;stroke:#1f77b4;\" x=\"166.448685\" xlink:href=\"#m383135124e\" y=\"96.715407\"/>\n",
       "     <use style=\"fill:#1f77b4;stroke:#1f77b4;\" x=\"166.773507\" xlink:href=\"#m383135124e\" y=\"84.772434\"/>\n",
       "     <use style=\"fill:#1f77b4;stroke:#1f77b4;\" x=\"101.89572\" xlink:href=\"#m383135124e\" y=\"60.162689\"/>\n",
       "     <use style=\"fill:#1f77b4;stroke:#1f77b4;\" x=\"181.712634\" xlink:href=\"#m383135124e\" y=\"112.033993\"/>\n",
       "     <use style=\"fill:#1f77b4;stroke:#1f77b4;\" x=\"131.506859\" xlink:href=\"#m383135124e\" y=\"64.474773\"/>\n",
       "     <use style=\"fill:#1f77b4;stroke:#1f77b4;\" x=\"128.914231\" xlink:href=\"#m383135124e\" y=\"79.78939\"/>\n",
       "     <use style=\"fill:#1f77b4;stroke:#1f77b4;\" x=\"110.211821\" xlink:href=\"#m383135124e\" y=\"42.875281\"/>\n",
       "     <use style=\"fill:#1f77b4;stroke:#1f77b4;\" x=\"126.896777\" xlink:href=\"#m383135124e\" y=\"71.17962\"/>\n",
       "     <use style=\"fill:#1f77b4;stroke:#1f77b4;\" x=\"122.966031\" xlink:href=\"#m383135124e\" y=\"74.413577\"/>\n",
       "     <use style=\"fill:#1f77b4;stroke:#1f77b4;\" x=\"123.815398\" xlink:href=\"#m383135124e\" y=\"58.718394\"/>\n",
       "     <use style=\"fill:#1f77b4;stroke:#1f77b4;\" x=\"183.013999\" xlink:href=\"#m383135124e\" y=\"95.625431\"/>\n",
       "     <use style=\"fill:#1f77b4;stroke:#1f77b4;\" x=\"149.883997\" xlink:href=\"#m383135124e\" y=\"78.931914\"/>\n",
       "     <use style=\"fill:#1f77b4;stroke:#1f77b4;\" x=\"128.232636\" xlink:href=\"#m383135124e\" y=\"58.320062\"/>\n",
       "     <use style=\"fill:#1f77b4;stroke:#1f77b4;\" x=\"157.580062\" xlink:href=\"#m383135124e\" y=\"92.972657\"/>\n",
       "     <use style=\"fill:#1f77b4;stroke:#1f77b4;\" x=\"109.357757\" xlink:href=\"#m383135124e\" y=\"53.858492\"/>\n",
       "     <use style=\"fill:#1f77b4;stroke:#1f77b4;\" x=\"139.2505\" xlink:href=\"#m383135124e\" y=\"64.208704\"/>\n",
       "     <use style=\"fill:#1f77b4;stroke:#1f77b4;\" x=\"130.399477\" xlink:href=\"#m383135124e\" y=\"80.019718\"/>\n",
       "     <use style=\"fill:#1f77b4;stroke:#1f77b4;\" x=\"141.388952\" xlink:href=\"#m383135124e\" y=\"81.416179\"/>\n",
       "     <use style=\"fill:#1f77b4;stroke:#1f77b4;\" x=\"197.855084\" xlink:href=\"#m383135124e\" y=\"107.562131\"/>\n",
       "     <use style=\"fill:#1f77b4;stroke:#1f77b4;\" x=\"141.1077\" xlink:href=\"#m383135124e\" y=\"73.530416\"/>\n",
       "     <use style=\"fill:#1f77b4;stroke:#1f77b4;\" x=\"150.330487\" xlink:href=\"#m383135124e\" y=\"76.027517\"/>\n",
       "     <use style=\"fill:#1f77b4;stroke:#1f77b4;\" x=\"146.075655\" xlink:href=\"#m383135124e\" y=\"65.421742\"/>\n",
       "     <use style=\"fill:#1f77b4;stroke:#1f77b4;\" x=\"131.637467\" xlink:href=\"#m383135124e\" y=\"68.696755\"/>\n",
       "     <use style=\"fill:#1f77b4;stroke:#1f77b4;\" x=\"130.029923\" xlink:href=\"#m383135124e\" y=\"51.26315\"/>\n",
       "     <use style=\"fill:#1f77b4;stroke:#1f77b4;\" x=\"120.898201\" xlink:href=\"#m383135124e\" y=\"58.676988\"/>\n",
       "     <use style=\"fill:#1f77b4;stroke:#1f77b4;\" x=\"178.174333\" xlink:href=\"#m383135124e\" y=\"108.981757\"/>\n",
       "     <use style=\"fill:#1f77b4;stroke:#1f77b4;\" x=\"136.721984\" xlink:href=\"#m383135124e\" y=\"66.113227\"/>\n",
       "     <use style=\"fill:#1f77b4;stroke:#1f77b4;\" x=\"141.244636\" xlink:href=\"#m383135124e\" y=\"73.112236\"/>\n",
       "     <use style=\"fill:#1f77b4;stroke:#1f77b4;\" x=\"73.51986\" xlink:href=\"#m383135124e\" y=\"34.936042\"/>\n",
       "     <use style=\"fill:#1f77b4;stroke:#1f77b4;\" x=\"115.541531\" xlink:href=\"#m383135124e\" y=\"76.782344\"/>\n",
       "     <use style=\"fill:#1f77b4;stroke:#1f77b4;\" x=\"131.497972\" xlink:href=\"#m383135124e\" y=\"66.191382\"/>\n",
       "     <use style=\"fill:#1f77b4;stroke:#1f77b4;\" x=\"161.053277\" xlink:href=\"#m383135124e\" y=\"91.535192\"/>\n",
       "     <use style=\"fill:#1f77b4;stroke:#1f77b4;\" x=\"44.18196\" xlink:href=\"#m383135124e\" y=\"18.598531\"/>\n",
       "     <use style=\"fill:#1f77b4;stroke:#1f77b4;\" x=\"159.280444\" xlink:href=\"#m383135124e\" y=\"77.396506\"/>\n",
       "     <use style=\"fill:#1f77b4;stroke:#1f77b4;\" x=\"153.941379\" xlink:href=\"#m383135124e\" y=\"85.009114\"/>\n",
       "     <use style=\"fill:#1f77b4;stroke:#1f77b4;\" x=\"135.973301\" xlink:href=\"#m383135124e\" y=\"74.748689\"/>\n",
       "     <use style=\"fill:#1f77b4;stroke:#1f77b4;\" x=\"126.467288\" xlink:href=\"#m383135124e\" y=\"71.548739\"/>\n",
       "     <use style=\"fill:#1f77b4;stroke:#1f77b4;\" x=\"123.100209\" xlink:href=\"#m383135124e\" y=\"66.395157\"/>\n",
       "     <use style=\"fill:#1f77b4;stroke:#1f77b4;\" x=\"122.910185\" xlink:href=\"#m383135124e\" y=\"66.941866\"/>\n",
       "     <use style=\"fill:#1f77b4;stroke:#1f77b4;\" x=\"169.700452\" xlink:href=\"#m383135124e\" y=\"93.930661\"/>\n",
       "     <use style=\"fill:#1f77b4;stroke:#1f77b4;\" x=\"131.185683\" xlink:href=\"#m383135124e\" y=\"79.018645\"/>\n",
       "     <use style=\"fill:#1f77b4;stroke:#1f77b4;\" x=\"180.171663\" xlink:href=\"#m383135124e\" y=\"90.44133\"/>\n",
       "     <use style=\"fill:#1f77b4;stroke:#1f77b4;\" x=\"184.997878\" xlink:href=\"#m383135124e\" y=\"96.899782\"/>\n",
       "     <use style=\"fill:#1f77b4;stroke:#1f77b4;\" x=\"109.194366\" xlink:href=\"#m383135124e\" y=\"46.508968\"/>\n",
       "     <use style=\"fill:#1f77b4;stroke:#1f77b4;\" x=\"134.762135\" xlink:href=\"#m383135124e\" y=\"67.411817\"/>\n",
       "     <use style=\"fill:#1f77b4;stroke:#1f77b4;\" x=\"113.375035\" xlink:href=\"#m383135124e\" y=\"54.294353\"/>\n",
       "     <use style=\"fill:#1f77b4;stroke:#1f77b4;\" x=\"147.366489\" xlink:href=\"#m383135124e\" y=\"73.371595\"/>\n",
       "     <use style=\"fill:#1f77b4;stroke:#1f77b4;\" x=\"99.548985\" xlink:href=\"#m383135124e\" y=\"31.796366\"/>\n",
       "     <use style=\"fill:#1f77b4;stroke:#1f77b4;\" x=\"117.066051\" xlink:href=\"#m383135124e\" y=\"61.408788\"/>\n",
       "     <use style=\"fill:#1f77b4;stroke:#1f77b4;\" x=\"137.943259\" xlink:href=\"#m383135124e\" y=\"84.174503\"/>\n",
       "     <use style=\"fill:#1f77b4;stroke:#1f77b4;\" x=\"127.04686\" xlink:href=\"#m383135124e\" y=\"60.123096\"/>\n",
       "     <use style=\"fill:#1f77b4;stroke:#1f77b4;\" x=\"96.352366\" xlink:href=\"#m383135124e\" y=\"43.692329\"/>\n",
       "     <use style=\"fill:#1f77b4;stroke:#1f77b4;\" x=\"170.199456\" xlink:href=\"#m383135124e\" y=\"80.110642\"/>\n",
       "     <use style=\"fill:#1f77b4;stroke:#1f77b4;\" x=\"132.692135\" xlink:href=\"#m383135124e\" y=\"65.400606\"/>\n",
       "     <use style=\"fill:#1f77b4;stroke:#1f77b4;\" x=\"163.81481\" xlink:href=\"#m383135124e\" y=\"91.320428\"/>\n",
       "     <use style=\"fill:#1f77b4;stroke:#1f77b4;\" x=\"149.333502\" xlink:href=\"#m383135124e\" y=\"78.746554\"/>\n",
       "     <use style=\"fill:#1f77b4;stroke:#1f77b4;\" x=\"138.597417\" xlink:href=\"#m383135124e\" y=\"69.91907\"/>\n",
       "     <use style=\"fill:#1f77b4;stroke:#1f77b4;\" x=\"152.205981\" xlink:href=\"#m383135124e\" y=\"80.707018\"/>\n",
       "     <use style=\"fill:#1f77b4;stroke:#1f77b4;\" x=\"131.534132\" xlink:href=\"#m383135124e\" y=\"58.791803\"/>\n",
       "     <use style=\"fill:#1f77b4;stroke:#1f77b4;\" x=\"125.572725\" xlink:href=\"#m383135124e\" y=\"67.95463\"/>\n",
       "     <use style=\"fill:#1f77b4;stroke:#1f77b4;\" x=\"165.049344\" xlink:href=\"#m383135124e\" y=\"84.491294\"/>\n",
       "     <use style=\"fill:#1f77b4;stroke:#1f77b4;\" x=\"156.238544\" xlink:href=\"#m383135124e\" y=\"71.804931\"/>\n",
       "     <use style=\"fill:#1f77b4;stroke:#1f77b4;\" x=\"95.342761\" xlink:href=\"#m383135124e\" y=\"55.912503\"/>\n",
       "     <use style=\"fill:#1f77b4;stroke:#1f77b4;\" x=\"177.343194\" xlink:href=\"#m383135124e\" y=\"90.031021\"/>\n",
       "     <use style=\"fill:#1f77b4;stroke:#1f77b4;\" x=\"145.53229\" xlink:href=\"#m383135124e\" y=\"67.801633\"/>\n",
       "     <use style=\"fill:#1f77b4;stroke:#1f77b4;\" x=\"103.402122\" xlink:href=\"#m383135124e\" y=\"50.214714\"/>\n",
       "     <use style=\"fill:#1f77b4;stroke:#1f77b4;\" x=\"171.855798\" xlink:href=\"#m383135124e\" y=\"83.368183\"/>\n",
       "     <use style=\"fill:#1f77b4;stroke:#1f77b4;\" x=\"104.535565\" xlink:href=\"#m383135124e\" y=\"33.211395\"/>\n",
       "     <use style=\"fill:#1f77b4;stroke:#1f77b4;\" x=\"115.607829\" xlink:href=\"#m383135124e\" y=\"51.419157\"/>\n",
       "     <use style=\"fill:#1f77b4;stroke:#1f77b4;\" x=\"89.653108\" xlink:href=\"#m383135124e\" y=\"39.23386\"/>\n",
       "     <use style=\"fill:#1f77b4;stroke:#1f77b4;\" x=\"147.340782\" xlink:href=\"#m383135124e\" y=\"69.773289\"/>\n",
       "     <use style=\"fill:#1f77b4;stroke:#1f77b4;\" x=\"183.451123\" xlink:href=\"#m383135124e\" y=\"88.680405\"/>\n",
       "     <use style=\"fill:#1f77b4;stroke:#1f77b4;\" x=\"167.855114\" xlink:href=\"#m383135124e\" y=\"96.457341\"/>\n",
       "     <use style=\"fill:#1f77b4;stroke:#1f77b4;\" x=\"104.005898\" xlink:href=\"#m383135124e\" y=\"60.155873\"/>\n",
       "     <use style=\"fill:#1f77b4;stroke:#1f77b4;\" x=\"107.896895\" xlink:href=\"#m383135124e\" y=\"36.352692\"/>\n",
       "     <use style=\"fill:#1f77b4;stroke:#1f77b4;\" x=\"131.579404\" xlink:href=\"#m383135124e\" y=\"61.663539\"/>\n",
       "     <use style=\"fill:#1f77b4;stroke:#1f77b4;\" x=\"153.170465\" xlink:href=\"#m383135124e\" y=\"94.983606\"/>\n",
       "     <use style=\"fill:#1f77b4;stroke:#1f77b4;\" x=\"171.6806\" xlink:href=\"#m383135124e\" y=\"70.665002\"/>\n",
       "     <use style=\"fill:#1f77b4;stroke:#1f77b4;\" x=\"163.21268\" xlink:href=\"#m383135124e\" y=\"82.672653\"/>\n",
       "     <use style=\"fill:#1f77b4;stroke:#1f77b4;\" x=\"69.640187\" xlink:href=\"#m383135124e\" y=\"30.716588\"/>\n",
       "     <use style=\"fill:#1f77b4;stroke:#1f77b4;\" x=\"144.421692\" xlink:href=\"#m383135124e\" y=\"73.605123\"/>\n",
       "     <use style=\"fill:#1f77b4;stroke:#1f77b4;\" x=\"105.61631\" xlink:href=\"#m383135124e\" y=\"62.097896\"/>\n",
       "     <use style=\"fill:#1f77b4;stroke:#1f77b4;\" x=\"174.140644\" xlink:href=\"#m383135124e\" y=\"105.857882\"/>\n",
       "     <use style=\"fill:#1f77b4;stroke:#1f77b4;\" x=\"131.638856\" xlink:href=\"#m383135124e\" y=\"78.454995\"/>\n",
       "     <use style=\"fill:#1f77b4;stroke:#1f77b4;\" x=\"95.948168\" xlink:href=\"#m383135124e\" y=\"39.493743\"/>\n",
       "     <use style=\"fill:#1f77b4;stroke:#1f77b4;\" x=\"137.648315\" xlink:href=\"#m383135124e\" y=\"79.336077\"/>\n",
       "     <use style=\"fill:#1f77b4;stroke:#1f77b4;\" x=\"155.761584\" xlink:href=\"#m383135124e\" y=\"91.965585\"/>\n",
       "     <use style=\"fill:#1f77b4;stroke:#1f77b4;\" x=\"134.431371\" xlink:href=\"#m383135124e\" y=\"54.917779\"/>\n",
       "     <use style=\"fill:#1f77b4;stroke:#1f77b4;\" x=\"127.909154\" xlink:href=\"#m383135124e\" y=\"64.226665\"/>\n",
       "     <use style=\"fill:#1f77b4;stroke:#1f77b4;\" x=\"118.672068\" xlink:href=\"#m383135124e\" y=\"59.758672\"/>\n",
       "     <use style=\"fill:#1f77b4;stroke:#1f77b4;\" x=\"100.252628\" xlink:href=\"#m383135124e\" y=\"60.21955\"/>\n",
       "     <use style=\"fill:#1f77b4;stroke:#1f77b4;\" x=\"130.1199\" xlink:href=\"#m383135124e\" y=\"62.91154\"/>\n",
       "     <use style=\"fill:#1f77b4;stroke:#1f77b4;\" x=\"207.214774\" xlink:href=\"#m383135124e\" y=\"136.922727\"/>\n",
       "     <use style=\"fill:#1f77b4;stroke:#1f77b4;\" x=\"175.747309\" xlink:href=\"#m383135124e\" y=\"95.435576\"/>\n",
       "     <use style=\"fill:#1f77b4;stroke:#1f77b4;\" x=\"121.065776\" xlink:href=\"#m383135124e\" y=\"55.004886\"/>\n",
       "     <use style=\"fill:#1f77b4;stroke:#1f77b4;\" x=\"114.3505\" xlink:href=\"#m383135124e\" y=\"55.386344\"/>\n",
       "     <use style=\"fill:#1f77b4;stroke:#1f77b4;\" x=\"117.888606\" xlink:href=\"#m383135124e\" y=\"58.865937\"/>\n",
       "     <use style=\"fill:#1f77b4;stroke:#1f77b4;\" x=\"141.639596\" xlink:href=\"#m383135124e\" y=\"62.455942\"/>\n",
       "     <use style=\"fill:#1f77b4;stroke:#1f77b4;\" x=\"91.283473\" xlink:href=\"#m383135124e\" y=\"13.377273\"/>\n",
       "     <use style=\"fill:#1f77b4;stroke:#1f77b4;\" x=\"144.532169\" xlink:href=\"#m383135124e\" y=\"71.423514\"/>\n",
       "     <use style=\"fill:#1f77b4;stroke:#1f77b4;\" x=\"183.381635\" xlink:href=\"#m383135124e\" y=\"99.926702\"/>\n",
       "     <use style=\"fill:#1f77b4;stroke:#1f77b4;\" x=\"115.337314\" xlink:href=\"#m383135124e\" y=\"52.319707\"/>\n",
       "     <use style=\"fill:#1f77b4;stroke:#1f77b4;\" x=\"174.767859\" xlink:href=\"#m383135124e\" y=\"97.81014\"/>\n",
       "     <use style=\"fill:#1f77b4;stroke:#1f77b4;\" x=\"146.997979\" xlink:href=\"#m383135124e\" y=\"77.954672\"/>\n",
       "     <use style=\"fill:#1f77b4;stroke:#1f77b4;\" x=\"147.201484\" xlink:href=\"#m383135124e\" y=\"68.91992\"/>\n",
       "     <use style=\"fill:#1f77b4;stroke:#1f77b4;\" x=\"132.702543\" xlink:href=\"#m383135124e\" y=\"69.689709\"/>\n",
       "     <use style=\"fill:#1f77b4;stroke:#1f77b4;\" x=\"93.814119\" xlink:href=\"#m383135124e\" y=\"37.012867\"/>\n",
       "     <use style=\"fill:#1f77b4;stroke:#1f77b4;\" x=\"110.178204\" xlink:href=\"#m383135124e\" y=\"59.804606\"/>\n",
       "     <use style=\"fill:#1f77b4;stroke:#1f77b4;\" x=\"182.754916\" xlink:href=\"#m383135124e\" y=\"105.087284\"/>\n",
       "     <use style=\"fill:#1f77b4;stroke:#1f77b4;\" x=\"120.24535\" xlink:href=\"#m383135124e\" y=\"55.140064\"/>\n",
       "     <use style=\"fill:#1f77b4;stroke:#1f77b4;\" x=\"122.111072\" xlink:href=\"#m383135124e\" y=\"78.416747\"/>\n",
       "     <use style=\"fill:#1f77b4;stroke:#1f77b4;\" x=\"119.330726\" xlink:href=\"#m383135124e\" y=\"81.832694\"/>\n",
       "     <use style=\"fill:#1f77b4;stroke:#1f77b4;\" x=\"105.464586\" xlink:href=\"#m383135124e\" y=\"59.418493\"/>\n",
       "     <use style=\"fill:#1f77b4;stroke:#1f77b4;\" x=\"136.200738\" xlink:href=\"#m383135124e\" y=\"65.127925\"/>\n",
       "     <use style=\"fill:#1f77b4;stroke:#1f77b4;\" x=\"141.778985\" xlink:href=\"#m383135124e\" y=\"86.388603\"/>\n",
       "     <use style=\"fill:#1f77b4;stroke:#1f77b4;\" x=\"160.201503\" xlink:href=\"#m383135124e\" y=\"86.461397\"/>\n",
       "     <use style=\"fill:#1f77b4;stroke:#1f77b4;\" x=\"140.499737\" xlink:href=\"#m383135124e\" y=\"85.345433\"/>\n",
       "     <use style=\"fill:#1f77b4;stroke:#1f77b4;\" x=\"141.307022\" xlink:href=\"#m383135124e\" y=\"69.422629\"/>\n",
       "     <use style=\"fill:#1f77b4;stroke:#1f77b4;\" x=\"132.919281\" xlink:href=\"#m383135124e\" y=\"81.758107\"/>\n",
       "     <use style=\"fill:#1f77b4;stroke:#1f77b4;\" x=\"118.933312\" xlink:href=\"#m383135124e\" y=\"62.120801\"/>\n",
       "     <use style=\"fill:#1f77b4;stroke:#1f77b4;\" x=\"107.996461\" xlink:href=\"#m383135124e\" y=\"47.561053\"/>\n",
       "     <use style=\"fill:#1f77b4;stroke:#1f77b4;\" x=\"144.047516\" xlink:href=\"#m383135124e\" y=\"76.668386\"/>\n",
       "     <use style=\"fill:#1f77b4;stroke:#1f77b4;\" x=\"160.182616\" xlink:href=\"#m383135124e\" y=\"74.698363\"/>\n",
       "     <use style=\"fill:#1f77b4;stroke:#1f77b4;\" x=\"166.952443\" xlink:href=\"#m383135124e\" y=\"92.789306\"/>\n",
       "     <use style=\"fill:#1f77b4;stroke:#1f77b4;\" x=\"170.204685\" xlink:href=\"#m383135124e\" y=\"108.846861\"/>\n",
       "     <use style=\"fill:#1f77b4;stroke:#1f77b4;\" x=\"182.531985\" xlink:href=\"#m383135124e\" y=\"102.559064\"/>\n",
       "     <use style=\"fill:#1f77b4;stroke:#1f77b4;\" x=\"145.748052\" xlink:href=\"#m383135124e\" y=\"86.2859\"/>\n",
       "     <use style=\"fill:#1f77b4;stroke:#1f77b4;\" x=\"133.474266\" xlink:href=\"#m383135124e\" y=\"62.082683\"/>\n",
       "     <use style=\"fill:#1f77b4;stroke:#1f77b4;\" x=\"180.736289\" xlink:href=\"#m383135124e\" y=\"95.976131\"/>\n",
       "     <use style=\"fill:#1f77b4;stroke:#1f77b4;\" x=\"87.238268\" xlink:href=\"#m383135124e\" y=\"48.638187\"/>\n",
       "     <use style=\"fill:#1f77b4;stroke:#1f77b4;\" x=\"136.237928\" xlink:href=\"#m383135124e\" y=\"58.457478\"/>\n",
       "     <use style=\"fill:#1f77b4;stroke:#1f77b4;\" x=\"108.194727\" xlink:href=\"#m383135124e\" y=\"61.168493\"/>\n",
       "     <use style=\"fill:#1f77b4;stroke:#1f77b4;\" x=\"100.526335\" xlink:href=\"#m383135124e\" y=\"33.923891\"/>\n",
       "     <use style=\"fill:#1f77b4;stroke:#1f77b4;\" x=\"151.325621\" xlink:href=\"#m383135124e\" y=\"64.353331\"/>\n",
       "     <use style=\"fill:#1f77b4;stroke:#1f77b4;\" x=\"188.91051\" xlink:href=\"#m383135124e\" y=\"96.171423\"/>\n",
       "     <use style=\"fill:#1f77b4;stroke:#1f77b4;\" x=\"85.245582\" xlink:href=\"#m383135124e\" y=\"41.241264\"/>\n",
       "     <use style=\"fill:#1f77b4;stroke:#1f77b4;\" x=\"107.464773\" xlink:href=\"#m383135124e\" y=\"54.354968\"/>\n",
       "     <use style=\"fill:#1f77b4;stroke:#1f77b4;\" x=\"131.533267\" xlink:href=\"#m383135124e\" y=\"70.655424\"/>\n",
       "     <use style=\"fill:#1f77b4;stroke:#1f77b4;\" x=\"165.360109\" xlink:href=\"#m383135124e\" y=\"75.750491\"/>\n",
       "     <use style=\"fill:#1f77b4;stroke:#1f77b4;\" x=\"128.598542\" xlink:href=\"#m383135124e\" y=\"65.854772\"/>\n",
       "     <use style=\"fill:#1f77b4;stroke:#1f77b4;\" x=\"140.408866\" xlink:href=\"#m383135124e\" y=\"62.964616\"/>\n",
       "     <use style=\"fill:#1f77b4;stroke:#1f77b4;\" x=\"184.296481\" xlink:href=\"#m383135124e\" y=\"114.852325\"/>\n",
       "     <use style=\"fill:#1f77b4;stroke:#1f77b4;\" x=\"147.192524\" xlink:href=\"#m383135124e\" y=\"72.019048\"/>\n",
       "     <use style=\"fill:#1f77b4;stroke:#1f77b4;\" x=\"116.117167\" xlink:href=\"#m383135124e\" y=\"60.519117\"/>\n",
       "     <use style=\"fill:#1f77b4;stroke:#1f77b4;\" x=\"152.470266\" xlink:href=\"#m383135124e\" y=\"71.411096\"/>\n",
       "     <use style=\"fill:#1f77b4;stroke:#1f77b4;\" x=\"122.97834\" xlink:href=\"#m383135124e\" y=\"76.167273\"/>\n",
       "     <use style=\"fill:#1f77b4;stroke:#1f77b4;\" x=\"103.860038\" xlink:href=\"#m383135124e\" y=\"46.294218\"/>\n",
       "     <use style=\"fill:#1f77b4;stroke:#1f77b4;\" x=\"113.348485\" xlink:href=\"#m383135124e\" y=\"58.56838\"/>\n",
       "     <use style=\"fill:#1f77b4;stroke:#1f77b4;\" x=\"135.277233\" xlink:href=\"#m383135124e\" y=\"63.331246\"/>\n",
       "     <use style=\"fill:#1f77b4;stroke:#1f77b4;\" x=\"157.982865\" xlink:href=\"#m383135124e\" y=\"92.012387\"/>\n",
       "     <use style=\"fill:#1f77b4;stroke:#1f77b4;\" x=\"153.272646\" xlink:href=\"#m383135124e\" y=\"79.934646\"/>\n",
       "     <use style=\"fill:#1f77b4;stroke:#1f77b4;\" x=\"127.187019\" xlink:href=\"#m383135124e\" y=\"85.367338\"/>\n",
       "     <use style=\"fill:#1f77b4;stroke:#1f77b4;\" x=\"155.370123\" xlink:href=\"#m383135124e\" y=\"92.273124\"/>\n",
       "     <use style=\"fill:#1f77b4;stroke:#1f77b4;\" x=\"159.102092\" xlink:href=\"#m383135124e\" y=\"104.862532\"/>\n",
       "     <use style=\"fill:#1f77b4;stroke:#1f77b4;\" x=\"181.64813\" xlink:href=\"#m383135124e\" y=\"93.08864\"/>\n",
       "     <use style=\"fill:#1f77b4;stroke:#1f77b4;\" x=\"87.308042\" xlink:href=\"#m383135124e\" y=\"37.231529\"/>\n",
       "     <use style=\"fill:#1f77b4;stroke:#1f77b4;\" x=\"141.780953\" xlink:href=\"#m383135124e\" y=\"85.101342\"/>\n",
       "     <use style=\"fill:#1f77b4;stroke:#1f77b4;\" x=\"167.50085\" xlink:href=\"#m383135124e\" y=\"79.775903\"/>\n",
       "     <use style=\"fill:#1f77b4;stroke:#1f77b4;\" x=\"120.393944\" xlink:href=\"#m383135124e\" y=\"65.955465\"/>\n",
       "     <use style=\"fill:#1f77b4;stroke:#1f77b4;\" x=\"108.576632\" xlink:href=\"#m383135124e\" y=\"71.92001\"/>\n",
       "     <use style=\"fill:#1f77b4;stroke:#1f77b4;\" x=\"155.576161\" xlink:href=\"#m383135124e\" y=\"72.458048\"/>\n",
       "     <use style=\"fill:#1f77b4;stroke:#1f77b4;\" x=\"165.566703\" xlink:href=\"#m383135124e\" y=\"90.768459\"/>\n",
       "     <use style=\"fill:#1f77b4;stroke:#1f77b4;\" x=\"106.96427\" xlink:href=\"#m383135124e\" y=\"53.178534\"/>\n",
       "     <use style=\"fill:#1f77b4;stroke:#1f77b4;\" x=\"143.252072\" xlink:href=\"#m383135124e\" y=\"84.038962\"/>\n",
       "     <use style=\"fill:#1f77b4;stroke:#1f77b4;\" x=\"168.636975\" xlink:href=\"#m383135124e\" y=\"81.485583\"/>\n",
       "     <use style=\"fill:#1f77b4;stroke:#1f77b4;\" x=\"143.620942\" xlink:href=\"#m383135124e\" y=\"88.27385\"/>\n",
       "     <use style=\"fill:#1f77b4;stroke:#1f77b4;\" x=\"131.453072\" xlink:href=\"#m383135124e\" y=\"62.892906\"/>\n",
       "     <use style=\"fill:#1f77b4;stroke:#1f77b4;\" x=\"136.971466\" xlink:href=\"#m383135124e\" y=\"75.521122\"/>\n",
       "     <use style=\"fill:#1f77b4;stroke:#1f77b4;\" x=\"156.320232\" xlink:href=\"#m383135124e\" y=\"67.05917\"/>\n",
       "     <use style=\"fill:#1f77b4;stroke:#1f77b4;\" x=\"147.724533\" xlink:href=\"#m383135124e\" y=\"76.40254\"/>\n",
       "     <use style=\"fill:#1f77b4;stroke:#1f77b4;\" x=\"133.545748\" xlink:href=\"#m383135124e\" y=\"76.046507\"/>\n",
       "     <use style=\"fill:#1f77b4;stroke:#1f77b4;\" x=\"132.624167\" xlink:href=\"#m383135124e\" y=\"71.040306\"/>\n",
       "     <use style=\"fill:#1f77b4;stroke:#1f77b4;\" x=\"151.610051\" xlink:href=\"#m383135124e\" y=\"79.950134\"/>\n",
       "     <use style=\"fill:#1f77b4;stroke:#1f77b4;\" x=\"126.170097\" xlink:href=\"#m383135124e\" y=\"61.928557\"/>\n",
       "     <use style=\"fill:#1f77b4;stroke:#1f77b4;\" x=\"133.847801\" xlink:href=\"#m383135124e\" y=\"70.556195\"/>\n",
       "     <use style=\"fill:#1f77b4;stroke:#1f77b4;\" x=\"165.373761\" xlink:href=\"#m383135124e\" y=\"94.115005\"/>\n",
       "     <use style=\"fill:#1f77b4;stroke:#1f77b4;\" x=\"134.213411\" xlink:href=\"#m383135124e\" y=\"75.924912\"/>\n",
       "     <use style=\"fill:#1f77b4;stroke:#1f77b4;\" x=\"117.244114\" xlink:href=\"#m383135124e\" y=\"60.376276\"/>\n",
       "     <use style=\"fill:#1f77b4;stroke:#1f77b4;\" x=\"68.19033\" xlink:href=\"#m383135124e\" y=\"19.723749\"/>\n",
       "     <use style=\"fill:#1f77b4;stroke:#1f77b4;\" x=\"123.956266\" xlink:href=\"#m383135124e\" y=\"51.481956\"/>\n",
       "     <use style=\"fill:#1f77b4;stroke:#1f77b4;\" x=\"140.488599\" xlink:href=\"#m383135124e\" y=\"66.029684\"/>\n",
       "     <use style=\"fill:#1f77b4;stroke:#1f77b4;\" x=\"155.435143\" xlink:href=\"#m383135124e\" y=\"82.781063\"/>\n",
       "     <use style=\"fill:#1f77b4;stroke:#1f77b4;\" x=\"150.061806\" xlink:href=\"#m383135124e\" y=\"84.241358\"/>\n",
       "     <use style=\"fill:#1f77b4;stroke:#1f77b4;\" x=\"96.544765\" xlink:href=\"#m383135124e\" y=\"62.189295\"/>\n",
       "     <use style=\"fill:#1f77b4;stroke:#1f77b4;\" x=\"164.237361\" xlink:href=\"#m383135124e\" y=\"92.223089\"/>\n",
       "     <use style=\"fill:#1f77b4;stroke:#1f77b4;\" x=\"105.22168\" xlink:href=\"#m383135124e\" y=\"61.44808\"/>\n",
       "     <use style=\"fill:#1f77b4;stroke:#1f77b4;\" x=\"177.034069\" xlink:href=\"#m383135124e\" y=\"94.653503\"/>\n",
       "     <use style=\"fill:#1f77b4;stroke:#1f77b4;\" x=\"147.900101\" xlink:href=\"#m383135124e\" y=\"74.747983\"/>\n",
       "     <use style=\"fill:#1f77b4;stroke:#1f77b4;\" x=\"144.671662\" xlink:href=\"#m383135124e\" y=\"78.279425\"/>\n",
       "     <use style=\"fill:#1f77b4;stroke:#1f77b4;\" x=\"168.061626\" xlink:href=\"#m383135124e\" y=\"88.579722\"/>\n",
       "     <use style=\"fill:#1f77b4;stroke:#1f77b4;\" x=\"129.953876\" xlink:href=\"#m383135124e\" y=\"70.084772\"/>\n",
       "     <use style=\"fill:#1f77b4;stroke:#1f77b4;\" x=\"144.167643\" xlink:href=\"#m383135124e\" y=\"76.55365\"/>\n",
       "     <use style=\"fill:#1f77b4;stroke:#1f77b4;\" x=\"162.143196\" xlink:href=\"#m383135124e\" y=\"83.719045\"/>\n",
       "     <use style=\"fill:#1f77b4;stroke:#1f77b4;\" x=\"121.578914\" xlink:href=\"#m383135124e\" y=\"55.901846\"/>\n",
       "     <use style=\"fill:#1f77b4;stroke:#1f77b4;\" x=\"115.398836\" xlink:href=\"#m383135124e\" y=\"52.719647\"/>\n",
       "     <use style=\"fill:#1f77b4;stroke:#1f77b4;\" x=\"152.955737\" xlink:href=\"#m383135124e\" y=\"74.382056\"/>\n",
       "     <use style=\"fill:#1f77b4;stroke:#1f77b4;\" x=\"130.735083\" xlink:href=\"#m383135124e\" y=\"63.889467\"/>\n",
       "     <use style=\"fill:#1f77b4;stroke:#1f77b4;\" x=\"167.240207\" xlink:href=\"#m383135124e\" y=\"91.186519\"/>\n",
       "     <use style=\"fill:#1f77b4;stroke:#1f77b4;\" x=\"126.996446\" xlink:href=\"#m383135124e\" y=\"85.718957\"/>\n",
       "     <use style=\"fill:#1f77b4;stroke:#1f77b4;\" x=\"163.335026\" xlink:href=\"#m383135124e\" y=\"92.569051\"/>\n",
       "     <use style=\"fill:#1f77b4;stroke:#1f77b4;\" x=\"139.716204\" xlink:href=\"#m383135124e\" y=\"67.745281\"/>\n",
       "     <use style=\"fill:#1f77b4;stroke:#1f77b4;\" x=\"119.031094\" xlink:href=\"#m383135124e\" y=\"48.328864\"/>\n",
       "     <use style=\"fill:#1f77b4;stroke:#1f77b4;\" x=\"109.206621\" xlink:href=\"#m383135124e\" y=\"65.207003\"/>\n",
       "     <use style=\"fill:#1f77b4;stroke:#1f77b4;\" x=\"150.323925\" xlink:href=\"#m383135124e\" y=\"87.212936\"/>\n",
       "     <use style=\"fill:#1f77b4;stroke:#1f77b4;\" x=\"152.855478\" xlink:href=\"#m383135124e\" y=\"89.29141\"/>\n",
       "     <use style=\"fill:#1f77b4;stroke:#1f77b4;\" x=\"100.553381\" xlink:href=\"#m383135124e\" y=\"53.190328\"/>\n",
       "     <use style=\"fill:#1f77b4;stroke:#1f77b4;\" x=\"156.536219\" xlink:href=\"#m383135124e\" y=\"80.214763\"/>\n",
       "     <use style=\"fill:#1f77b4;stroke:#1f77b4;\" x=\"169.845785\" xlink:href=\"#m383135124e\" y=\"74.469528\"/>\n",
       "     <use style=\"fill:#1f77b4;stroke:#1f77b4;\" x=\"102.248528\" xlink:href=\"#m383135124e\" y=\"67.965101\"/>\n",
       "     <use style=\"fill:#1f77b4;stroke:#1f77b4;\" x=\"145.164426\" xlink:href=\"#m383135124e\" y=\"81.863083\"/>\n",
       "     <use style=\"fill:#1f77b4;stroke:#1f77b4;\" x=\"136.683044\" xlink:href=\"#m383135124e\" y=\"65.684435\"/>\n",
       "     <use style=\"fill:#1f77b4;stroke:#1f77b4;\" x=\"142.773684\" xlink:href=\"#m383135124e\" y=\"59.740196\"/>\n",
       "     <use style=\"fill:#1f77b4;stroke:#1f77b4;\" x=\"168.314762\" xlink:href=\"#m383135124e\" y=\"88.686838\"/>\n",
       "     <use style=\"fill:#1f77b4;stroke:#1f77b4;\" x=\"115.557536\" xlink:href=\"#m383135124e\" y=\"60.547557\"/>\n",
       "     <use style=\"fill:#1f77b4;stroke:#1f77b4;\" x=\"140.125485\" xlink:href=\"#m383135124e\" y=\"54.267562\"/>\n",
       "     <use style=\"fill:#1f77b4;stroke:#1f77b4;\" x=\"173.7461\" xlink:href=\"#m383135124e\" y=\"86.965987\"/>\n",
       "     <use style=\"fill:#1f77b4;stroke:#1f77b4;\" x=\"165.572121\" xlink:href=\"#m383135124e\" y=\"92.17059\"/>\n",
       "     <use style=\"fill:#1f77b4;stroke:#1f77b4;\" x=\"127.259903\" xlink:href=\"#m383135124e\" y=\"61.396521\"/>\n",
       "     <use style=\"fill:#1f77b4;stroke:#1f77b4;\" x=\"129.906614\" xlink:href=\"#m383135124e\" y=\"65.358335\"/>\n",
       "     <use style=\"fill:#1f77b4;stroke:#1f77b4;\" x=\"148.309488\" xlink:href=\"#m383135124e\" y=\"72.271515\"/>\n",
       "     <use style=\"fill:#1f77b4;stroke:#1f77b4;\" x=\"131.985543\" xlink:href=\"#m383135124e\" y=\"55.759284\"/>\n",
       "     <use style=\"fill:#1f77b4;stroke:#1f77b4;\" x=\"164.925748\" xlink:href=\"#m383135124e\" y=\"73.546256\"/>\n",
       "     <use style=\"fill:#1f77b4;stroke:#1f77b4;\" x=\"145.029342\" xlink:href=\"#m383135124e\" y=\"73.457199\"/>\n",
       "     <use style=\"fill:#1f77b4;stroke:#1f77b4;\" x=\"89.991393\" xlink:href=\"#m383135124e\" y=\"52.266384\"/>\n",
       "     <use style=\"fill:#1f77b4;stroke:#1f77b4;\" x=\"157.958508\" xlink:href=\"#m383135124e\" y=\"85.286672\"/>\n",
       "     <use style=\"fill:#1f77b4;stroke:#1f77b4;\" x=\"119.240454\" xlink:href=\"#m383135124e\" y=\"52.214258\"/>\n",
       "     <use style=\"fill:#1f77b4;stroke:#1f77b4;\" x=\"156.453953\" xlink:href=\"#m383135124e\" y=\"82.879219\"/>\n",
       "     <use style=\"fill:#1f77b4;stroke:#1f77b4;\" x=\"113.377428\" xlink:href=\"#m383135124e\" y=\"54.16996\"/>\n",
       "     <use style=\"fill:#1f77b4;stroke:#1f77b4;\" x=\"137.908306\" xlink:href=\"#m383135124e\" y=\"76.221256\"/>\n",
       "     <use style=\"fill:#1f77b4;stroke:#1f77b4;\" x=\"124.923042\" xlink:href=\"#m383135124e\" y=\"63.578437\"/>\n",
       "     <use style=\"fill:#1f77b4;stroke:#1f77b4;\" x=\"144.02175\" xlink:href=\"#m383135124e\" y=\"66.118589\"/>\n",
       "     <use style=\"fill:#1f77b4;stroke:#1f77b4;\" x=\"136.250442\" xlink:href=\"#m383135124e\" y=\"60.919128\"/>\n",
       "     <use style=\"fill:#1f77b4;stroke:#1f77b4;\" x=\"121.611128\" xlink:href=\"#m383135124e\" y=\"56.7143\"/>\n",
       "     <use style=\"fill:#1f77b4;stroke:#1f77b4;\" x=\"136.230617\" xlink:href=\"#m383135124e\" y=\"72.830161\"/>\n",
       "     <use style=\"fill:#1f77b4;stroke:#1f77b4;\" x=\"110.765332\" xlink:href=\"#m383135124e\" y=\"37.756655\"/>\n",
       "     <use style=\"fill:#1f77b4;stroke:#1f77b4;\" x=\"111.802255\" xlink:href=\"#m383135124e\" y=\"47.21174\"/>\n",
       "     <use style=\"fill:#1f77b4;stroke:#1f77b4;\" x=\"111.406669\" xlink:href=\"#m383135124e\" y=\"58.516004\"/>\n",
       "     <use style=\"fill:#1f77b4;stroke:#1f77b4;\" x=\"141.945347\" xlink:href=\"#m383135124e\" y=\"81.948538\"/>\n",
       "     <use style=\"fill:#1f77b4;stroke:#1f77b4;\" x=\"127.971442\" xlink:href=\"#m383135124e\" y=\"60.235239\"/>\n",
       "     <use style=\"fill:#1f77b4;stroke:#1f77b4;\" x=\"122.531037\" xlink:href=\"#m383135124e\" y=\"57.557335\"/>\n",
       "     <use style=\"fill:#1f77b4;stroke:#1f77b4;\" x=\"133.990654\" xlink:href=\"#m383135124e\" y=\"66.603045\"/>\n",
       "     <use style=\"fill:#1f77b4;stroke:#1f77b4;\" x=\"135.478486\" xlink:href=\"#m383135124e\" y=\"65.597571\"/>\n",
       "     <use style=\"fill:#1f77b4;stroke:#1f77b4;\" x=\"156.447556\" xlink:href=\"#m383135124e\" y=\"79.975397\"/>\n",
       "     <use style=\"fill:#1f77b4;stroke:#1f77b4;\" x=\"141.063283\" xlink:href=\"#m383135124e\" y=\"65.215942\"/>\n",
       "     <use style=\"fill:#1f77b4;stroke:#1f77b4;\" x=\"144.747509\" xlink:href=\"#m383135124e\" y=\"72.251581\"/>\n",
       "     <use style=\"fill:#1f77b4;stroke:#1f77b4;\" x=\"120.716264\" xlink:href=\"#m383135124e\" y=\"56.293139\"/>\n",
       "     <use style=\"fill:#1f77b4;stroke:#1f77b4;\" x=\"129.792615\" xlink:href=\"#m383135124e\" y=\"67.325438\"/>\n",
       "     <use style=\"fill:#1f77b4;stroke:#1f77b4;\" x=\"163.849987\" xlink:href=\"#m383135124e\" y=\"81.026446\"/>\n",
       "     <use style=\"fill:#1f77b4;stroke:#1f77b4;\" x=\"95.029461\" xlink:href=\"#m383135124e\" y=\"45.470966\"/>\n",
       "     <use style=\"fill:#1f77b4;stroke:#1f77b4;\" x=\"96.913763\" xlink:href=\"#m383135124e\" y=\"42.987373\"/>\n",
       "     <use style=\"fill:#1f77b4;stroke:#1f77b4;\" x=\"119.291552\" xlink:href=\"#m383135124e\" y=\"63.312375\"/>\n",
       "     <use style=\"fill:#1f77b4;stroke:#1f77b4;\" x=\"142.642508\" xlink:href=\"#m383135124e\" y=\"69.85623\"/>\n",
       "     <use style=\"fill:#1f77b4;stroke:#1f77b4;\" x=\"92.148757\" xlink:href=\"#m383135124e\" y=\"36.230852\"/>\n",
       "     <use style=\"fill:#1f77b4;stroke:#1f77b4;\" x=\"111.811476\" xlink:href=\"#m383135124e\" y=\"59.07922\"/>\n",
       "     <use style=\"fill:#1f77b4;stroke:#1f77b4;\" x=\"100.018367\" xlink:href=\"#m383135124e\" y=\"48.325493\"/>\n",
       "     <use style=\"fill:#1f77b4;stroke:#1f77b4;\" x=\"152.434332\" xlink:href=\"#m383135124e\" y=\"73.434757\"/>\n",
       "     <use style=\"fill:#1f77b4;stroke:#1f77b4;\" x=\"157.80939\" xlink:href=\"#m383135124e\" y=\"83.310744\"/>\n",
       "     <use style=\"fill:#1f77b4;stroke:#1f77b4;\" x=\"179.259893\" xlink:href=\"#m383135124e\" y=\"94.470082\"/>\n",
       "     <use style=\"fill:#1f77b4;stroke:#1f77b4;\" x=\"170.49075\" xlink:href=\"#m383135124e\" y=\"69.571627\"/>\n",
       "     <use style=\"fill:#1f77b4;stroke:#1f77b4;\" x=\"137.206561\" xlink:href=\"#m383135124e\" y=\"51.578583\"/>\n",
       "     <use style=\"fill:#1f77b4;stroke:#1f77b4;\" x=\"151.232211\" xlink:href=\"#m383135124e\" y=\"90.426864\"/>\n",
       "     <use style=\"fill:#1f77b4;stroke:#1f77b4;\" x=\"154.326207\" xlink:href=\"#m383135124e\" y=\"106.906278\"/>\n",
       "     <use style=\"fill:#1f77b4;stroke:#1f77b4;\" x=\"129.209855\" xlink:href=\"#m383135124e\" y=\"71.474066\"/>\n",
       "     <use style=\"fill:#1f77b4;stroke:#1f77b4;\" x=\"125.799584\" xlink:href=\"#m383135124e\" y=\"47.928088\"/>\n",
       "     <use style=\"fill:#1f77b4;stroke:#1f77b4;\" x=\"147.063059\" xlink:href=\"#m383135124e\" y=\"68.316197\"/>\n",
       "     <use style=\"fill:#1f77b4;stroke:#1f77b4;\" x=\"147.031808\" xlink:href=\"#m383135124e\" y=\"81.52666\"/>\n",
       "     <use style=\"fill:#1f77b4;stroke:#1f77b4;\" x=\"109.023593\" xlink:href=\"#m383135124e\" y=\"54.649477\"/>\n",
       "     <use style=\"fill:#1f77b4;stroke:#1f77b4;\" x=\"168.778111\" xlink:href=\"#m383135124e\" y=\"90.466553\"/>\n",
       "     <use style=\"fill:#1f77b4;stroke:#1f77b4;\" x=\"111.884231\" xlink:href=\"#m383135124e\" y=\"43.185709\"/>\n",
       "     <use style=\"fill:#1f77b4;stroke:#1f77b4;\" x=\"165.078334\" xlink:href=\"#m383135124e\" y=\"109.719068\"/>\n",
       "     <use style=\"fill:#1f77b4;stroke:#1f77b4;\" x=\"118.538816\" xlink:href=\"#m383135124e\" y=\"62.320314\"/>\n",
       "     <use style=\"fill:#1f77b4;stroke:#1f77b4;\" x=\"139.163013\" xlink:href=\"#m383135124e\" y=\"94.937576\"/>\n",
       "     <use style=\"fill:#1f77b4;stroke:#1f77b4;\" x=\"117.835709\" xlink:href=\"#m383135124e\" y=\"56.5875\"/>\n",
       "     <use style=\"fill:#1f77b4;stroke:#1f77b4;\" x=\"137.120141\" xlink:href=\"#m383135124e\" y=\"87.341801\"/>\n",
       "     <use style=\"fill:#1f77b4;stroke:#1f77b4;\" x=\"125.475707\" xlink:href=\"#m383135124e\" y=\"66.487162\"/>\n",
       "     <use style=\"fill:#1f77b4;stroke:#1f77b4;\" x=\"130.714454\" xlink:href=\"#m383135124e\" y=\"74.887702\"/>\n",
       "     <use style=\"fill:#1f77b4;stroke:#1f77b4;\" x=\"152.3786\" xlink:href=\"#m383135124e\" y=\"86.879859\"/>\n",
       "     <use style=\"fill:#1f77b4;stroke:#1f77b4;\" x=\"153.721706\" xlink:href=\"#m383135124e\" y=\"75.860232\"/>\n",
       "     <use style=\"fill:#1f77b4;stroke:#1f77b4;\" x=\"131.516334\" xlink:href=\"#m383135124e\" y=\"62.491627\"/>\n",
       "     <use style=\"fill:#1f77b4;stroke:#1f77b4;\" x=\"113.505878\" xlink:href=\"#m383135124e\" y=\"55.048633\"/>\n",
       "     <use style=\"fill:#1f77b4;stroke:#1f77b4;\" x=\"148.80703\" xlink:href=\"#m383135124e\" y=\"85.481916\"/>\n",
       "     <use style=\"fill:#1f77b4;stroke:#1f77b4;\" x=\"102.29819\" xlink:href=\"#m383135124e\" y=\"53.854341\"/>\n",
       "     <use style=\"fill:#1f77b4;stroke:#1f77b4;\" x=\"119.57204\" xlink:href=\"#m383135124e\" y=\"79.753192\"/>\n",
       "     <use style=\"fill:#1f77b4;stroke:#1f77b4;\" x=\"130.243409\" xlink:href=\"#m383135124e\" y=\"89.093724\"/>\n",
       "     <use style=\"fill:#1f77b4;stroke:#1f77b4;\" x=\"150.721276\" xlink:href=\"#m383135124e\" y=\"54.089218\"/>\n",
       "     <use style=\"fill:#1f77b4;stroke:#1f77b4;\" x=\"160.6197\" xlink:href=\"#m383135124e\" y=\"96.227792\"/>\n",
       "     <use style=\"fill:#1f77b4;stroke:#1f77b4;\" x=\"140.041767\" xlink:href=\"#m383135124e\" y=\"78.428345\"/>\n",
       "     <use style=\"fill:#1f77b4;stroke:#1f77b4;\" x=\"118.26649\" xlink:href=\"#m383135124e\" y=\"61.812169\"/>\n",
       "     <use style=\"fill:#1f77b4;stroke:#1f77b4;\" x=\"141.081663\" xlink:href=\"#m383135124e\" y=\"65.056168\"/>\n",
       "     <use style=\"fill:#1f77b4;stroke:#1f77b4;\" x=\"143.848018\" xlink:href=\"#m383135124e\" y=\"85.844384\"/>\n",
       "     <use style=\"fill:#1f77b4;stroke:#1f77b4;\" x=\"184.387417\" xlink:href=\"#m383135124e\" y=\"111.864131\"/>\n",
       "     <use style=\"fill:#1f77b4;stroke:#1f77b4;\" x=\"148.17215\" xlink:href=\"#m383135124e\" y=\"56.680548\"/>\n",
       "     <use style=\"fill:#1f77b4;stroke:#1f77b4;\" x=\"175.460021\" xlink:href=\"#m383135124e\" y=\"98.144194\"/>\n",
       "     <use style=\"fill:#1f77b4;stroke:#1f77b4;\" x=\"147.853937\" xlink:href=\"#m383135124e\" y=\"87.351397\"/>\n",
       "     <use style=\"fill:#1f77b4;stroke:#1f77b4;\" x=\"106.570149\" xlink:href=\"#m383135124e\" y=\"37.699788\"/>\n",
       "     <use style=\"fill:#1f77b4;stroke:#1f77b4;\" x=\"121.789383\" xlink:href=\"#m383135124e\" y=\"68.507759\"/>\n",
       "     <use style=\"fill:#1f77b4;stroke:#1f77b4;\" x=\"127.552424\" xlink:href=\"#m383135124e\" y=\"61.256974\"/>\n",
       "     <use style=\"fill:#1f77b4;stroke:#1f77b4;\" x=\"115.693549\" xlink:href=\"#m383135124e\" y=\"60.481406\"/>\n",
       "     <use style=\"fill:#1f77b4;stroke:#1f77b4;\" x=\"115.734454\" xlink:href=\"#m383135124e\" y=\"53.492597\"/>\n",
       "     <use style=\"fill:#1f77b4;stroke:#1f77b4;\" x=\"99.96168\" xlink:href=\"#m383135124e\" y=\"54.066292\"/>\n",
       "     <use style=\"fill:#1f77b4;stroke:#1f77b4;\" x=\"96.590988\" xlink:href=\"#m383135124e\" y=\"43.124384\"/>\n",
       "     <use style=\"fill:#1f77b4;stroke:#1f77b4;\" x=\"118.478439\" xlink:href=\"#m383135124e\" y=\"55.07871\"/>\n",
       "     <use style=\"fill:#1f77b4;stroke:#1f77b4;\" x=\"148.878549\" xlink:href=\"#m383135124e\" y=\"95.807154\"/>\n",
       "     <use style=\"fill:#1f77b4;stroke:#1f77b4;\" x=\"111.776092\" xlink:href=\"#m383135124e\" y=\"40.447506\"/>\n",
       "     <use style=\"fill:#1f77b4;stroke:#1f77b4;\" x=\"133.245744\" xlink:href=\"#m383135124e\" y=\"82.594653\"/>\n",
       "     <use style=\"fill:#1f77b4;stroke:#1f77b4;\" x=\"161.626418\" xlink:href=\"#m383135124e\" y=\"108.133693\"/>\n",
       "     <use style=\"fill:#1f77b4;stroke:#1f77b4;\" x=\"158.493484\" xlink:href=\"#m383135124e\" y=\"76.740974\"/>\n",
       "     <use style=\"fill:#1f77b4;stroke:#1f77b4;\" x=\"168.940352\" xlink:href=\"#m383135124e\" y=\"110.722835\"/>\n",
       "     <use style=\"fill:#1f77b4;stroke:#1f77b4;\" x=\"127.441229\" xlink:href=\"#m383135124e\" y=\"65.010885\"/>\n",
       "     <use style=\"fill:#1f77b4;stroke:#1f77b4;\" x=\"170.857789\" xlink:href=\"#m383135124e\" y=\"94.023965\"/>\n",
       "     <use style=\"fill:#1f77b4;stroke:#1f77b4;\" x=\"132.935699\" xlink:href=\"#m383135124e\" y=\"79.572848\"/>\n",
       "     <use style=\"fill:#1f77b4;stroke:#1f77b4;\" x=\"107.967768\" xlink:href=\"#m383135124e\" y=\"45.507593\"/>\n",
       "     <use style=\"fill:#1f77b4;stroke:#1f77b4;\" x=\"121.007436\" xlink:href=\"#m383135124e\" y=\"63.211645\"/>\n",
       "     <use style=\"fill:#1f77b4;stroke:#1f77b4;\" x=\"135.359964\" xlink:href=\"#m383135124e\" y=\"78.558997\"/>\n",
       "     <use style=\"fill:#1f77b4;stroke:#1f77b4;\" x=\"137.319256\" xlink:href=\"#m383135124e\" y=\"68.106484\"/>\n",
       "     <use style=\"fill:#1f77b4;stroke:#1f77b4;\" x=\"124.862039\" xlink:href=\"#m383135124e\" y=\"73.752454\"/>\n",
       "     <use style=\"fill:#1f77b4;stroke:#1f77b4;\" x=\"121.24817\" xlink:href=\"#m383135124e\" y=\"49.472125\"/>\n",
       "     <use style=\"fill:#1f77b4;stroke:#1f77b4;\" x=\"189.033107\" xlink:href=\"#m383135124e\" y=\"98.842882\"/>\n",
       "     <use style=\"fill:#1f77b4;stroke:#1f77b4;\" x=\"100.341995\" xlink:href=\"#m383135124e\" y=\"40.258438\"/>\n",
       "     <use style=\"fill:#1f77b4;stroke:#1f77b4;\" x=\"125.66235\" xlink:href=\"#m383135124e\" y=\"62.0401\"/>\n",
       "     <use style=\"fill:#1f77b4;stroke:#1f77b4;\" x=\"172.245349\" xlink:href=\"#m383135124e\" y=\"83.779193\"/>\n",
       "     <use style=\"fill:#1f77b4;stroke:#1f77b4;\" x=\"156.3095\" xlink:href=\"#m383135124e\" y=\"82.285239\"/>\n",
       "     <use style=\"fill:#1f77b4;stroke:#1f77b4;\" x=\"113.179109\" xlink:href=\"#m383135124e\" y=\"43.327174\"/>\n",
       "     <use style=\"fill:#1f77b4;stroke:#1f77b4;\" x=\"137.684646\" xlink:href=\"#m383135124e\" y=\"86.473882\"/>\n",
       "     <use style=\"fill:#1f77b4;stroke:#1f77b4;\" x=\"145.279713\" xlink:href=\"#m383135124e\" y=\"85.619006\"/>\n",
       "     <use style=\"fill:#1f77b4;stroke:#1f77b4;\" x=\"112.010773\" xlink:href=\"#m383135124e\" y=\"48.023497\"/>\n",
       "     <use style=\"fill:#1f77b4;stroke:#1f77b4;\" x=\"95.080567\" xlink:href=\"#m383135124e\" y=\"43.376623\"/>\n",
       "     <use style=\"fill:#1f77b4;stroke:#1f77b4;\" x=\"161.361295\" xlink:href=\"#m383135124e\" y=\"81.586379\"/>\n",
       "     <use style=\"fill:#1f77b4;stroke:#1f77b4;\" x=\"88.559838\" xlink:href=\"#m383135124e\" y=\"51.211362\"/>\n",
       "     <use style=\"fill:#1f77b4;stroke:#1f77b4;\" x=\"137.112509\" xlink:href=\"#m383135124e\" y=\"50.02812\"/>\n",
       "     <use style=\"fill:#1f77b4;stroke:#1f77b4;\" x=\"129.781776\" xlink:href=\"#m383135124e\" y=\"74.970972\"/>\n",
       "     <use style=\"fill:#1f77b4;stroke:#1f77b4;\" x=\"125.118964\" xlink:href=\"#m383135124e\" y=\"72.215911\"/>\n",
       "     <use style=\"fill:#1f77b4;stroke:#1f77b4;\" x=\"145.881764\" xlink:href=\"#m383135124e\" y=\"87.749729\"/>\n",
       "     <use style=\"fill:#1f77b4;stroke:#1f77b4;\" x=\"147.978825\" xlink:href=\"#m383135124e\" y=\"83.323074\"/>\n",
       "     <use style=\"fill:#1f77b4;stroke:#1f77b4;\" x=\"146.293641\" xlink:href=\"#m383135124e\" y=\"65.329154\"/>\n",
       "     <use style=\"fill:#1f77b4;stroke:#1f77b4;\" x=\"115.715925\" xlink:href=\"#m383135124e\" y=\"56.48817\"/>\n",
       "     <use style=\"fill:#1f77b4;stroke:#1f77b4;\" x=\"130.94336\" xlink:href=\"#m383135124e\" y=\"74.33483\"/>\n",
       "     <use style=\"fill:#1f77b4;stroke:#1f77b4;\" x=\"119.368686\" xlink:href=\"#m383135124e\" y=\"61.476728\"/>\n",
       "     <use style=\"fill:#1f77b4;stroke:#1f77b4;\" x=\"159.933186\" xlink:href=\"#m383135124e\" y=\"84.43411\"/>\n",
       "     <use style=\"fill:#1f77b4;stroke:#1f77b4;\" x=\"137.356498\" xlink:href=\"#m383135124e\" y=\"82.475616\"/>\n",
       "     <use style=\"fill:#1f77b4;stroke:#1f77b4;\" x=\"134.288978\" xlink:href=\"#m383135124e\" y=\"68.293858\"/>\n",
       "     <use style=\"fill:#1f77b4;stroke:#1f77b4;\" x=\"144.535095\" xlink:href=\"#m383135124e\" y=\"79.670322\"/>\n",
       "     <use style=\"fill:#1f77b4;stroke:#1f77b4;\" x=\"121.993461\" xlink:href=\"#m383135124e\" y=\"59.013206\"/>\n",
       "     <use style=\"fill:#1f77b4;stroke:#1f77b4;\" x=\"127.301682\" xlink:href=\"#m383135124e\" y=\"51.053561\"/>\n",
       "     <use style=\"fill:#1f77b4;stroke:#1f77b4;\" x=\"142.031823\" xlink:href=\"#m383135124e\" y=\"71.226155\"/>\n",
       "     <use style=\"fill:#1f77b4;stroke:#1f77b4;\" x=\"129.221155\" xlink:href=\"#m383135124e\" y=\"57.632221\"/>\n",
       "     <use style=\"fill:#1f77b4;stroke:#1f77b4;\" x=\"194.944841\" xlink:href=\"#m383135124e\" y=\"100.51731\"/>\n",
       "     <use style=\"fill:#1f77b4;stroke:#1f77b4;\" x=\"188.696447\" xlink:href=\"#m383135124e\" y=\"114.4746\"/>\n",
       "     <use style=\"fill:#1f77b4;stroke:#1f77b4;\" x=\"149.599131\" xlink:href=\"#m383135124e\" y=\"82.00165\"/>\n",
       "     <use style=\"fill:#1f77b4;stroke:#1f77b4;\" x=\"137.136319\" xlink:href=\"#m383135124e\" y=\"69.278772\"/>\n",
       "     <use style=\"fill:#1f77b4;stroke:#1f77b4;\" x=\"151.395954\" xlink:href=\"#m383135124e\" y=\"73.149555\"/>\n",
       "     <use style=\"fill:#1f77b4;stroke:#1f77b4;\" x=\"172.829254\" xlink:href=\"#m383135124e\" y=\"84.919004\"/>\n",
       "     <use style=\"fill:#1f77b4;stroke:#1f77b4;\" x=\"153.775935\" xlink:href=\"#m383135124e\" y=\"82.673748\"/>\n",
       "     <use style=\"fill:#1f77b4;stroke:#1f77b4;\" x=\"170.99473\" xlink:href=\"#m383135124e\" y=\"89.252574\"/>\n",
       "     <use style=\"fill:#1f77b4;stroke:#1f77b4;\" x=\"156.663181\" xlink:href=\"#m383135124e\" y=\"87.432044\"/>\n",
       "     <use style=\"fill:#1f77b4;stroke:#1f77b4;\" x=\"142.221465\" xlink:href=\"#m383135124e\" y=\"86.523766\"/>\n",
       "     <use style=\"fill:#1f77b4;stroke:#1f77b4;\" x=\"169.306641\" xlink:href=\"#m383135124e\" y=\"77.60234\"/>\n",
       "     <use style=\"fill:#1f77b4;stroke:#1f77b4;\" x=\"124.566417\" xlink:href=\"#m383135124e\" y=\"53.590814\"/>\n",
       "     <use style=\"fill:#1f77b4;stroke:#1f77b4;\" x=\"144.33458\" xlink:href=\"#m383135124e\" y=\"79.169714\"/>\n",
       "     <use style=\"fill:#1f77b4;stroke:#1f77b4;\" x=\"123.754239\" xlink:href=\"#m383135124e\" y=\"60.901538\"/>\n",
       "     <use style=\"fill:#1f77b4;stroke:#1f77b4;\" x=\"133.106321\" xlink:href=\"#m383135124e\" y=\"69.228509\"/>\n",
       "     <use style=\"fill:#1f77b4;stroke:#1f77b4;\" x=\"133.531338\" xlink:href=\"#m383135124e\" y=\"70.526485\"/>\n",
       "     <use style=\"fill:#1f77b4;stroke:#1f77b4;\" x=\"171.281784\" xlink:href=\"#m383135124e\" y=\"93.974071\"/>\n",
       "     <use style=\"fill:#1f77b4;stroke:#1f77b4;\" x=\"161.762365\" xlink:href=\"#m383135124e\" y=\"87.554681\"/>\n",
       "     <use style=\"fill:#1f77b4;stroke:#1f77b4;\" x=\"130.022373\" xlink:href=\"#m383135124e\" y=\"69.341855\"/>\n",
       "     <use style=\"fill:#1f77b4;stroke:#1f77b4;\" x=\"134.008008\" xlink:href=\"#m383135124e\" y=\"61.201916\"/>\n",
       "     <use style=\"fill:#1f77b4;stroke:#1f77b4;\" x=\"112.062443\" xlink:href=\"#m383135124e\" y=\"55.598156\"/>\n",
       "     <use style=\"fill:#1f77b4;stroke:#1f77b4;\" x=\"166.764783\" xlink:href=\"#m383135124e\" y=\"80.062051\"/>\n",
       "     <use style=\"fill:#1f77b4;stroke:#1f77b4;\" x=\"143.809082\" xlink:href=\"#m383135124e\" y=\"52.422019\"/>\n",
       "     <use style=\"fill:#1f77b4;stroke:#1f77b4;\" x=\"121.663326\" xlink:href=\"#m383135124e\" y=\"60.308587\"/>\n",
       "     <use style=\"fill:#1f77b4;stroke:#1f77b4;\" x=\"123.447654\" xlink:href=\"#m383135124e\" y=\"78.982111\"/>\n",
       "     <use style=\"fill:#1f77b4;stroke:#1f77b4;\" x=\"157.34853\" xlink:href=\"#m383135124e\" y=\"99.073382\"/>\n",
       "     <use style=\"fill:#1f77b4;stroke:#1f77b4;\" x=\"149.507385\" xlink:href=\"#m383135124e\" y=\"81.877001\"/>\n",
       "     <use style=\"fill:#1f77b4;stroke:#1f77b4;\" x=\"135.6943\" xlink:href=\"#m383135124e\" y=\"73.824905\"/>\n",
       "     <use style=\"fill:#1f77b4;stroke:#1f77b4;\" x=\"172.139984\" xlink:href=\"#m383135124e\" y=\"104.090669\"/>\n",
       "     <use style=\"fill:#1f77b4;stroke:#1f77b4;\" x=\"135.929731\" xlink:href=\"#m383135124e\" y=\"71.550412\"/>\n",
       "     <use style=\"fill:#1f77b4;stroke:#1f77b4;\" x=\"127.901134\" xlink:href=\"#m383135124e\" y=\"75.009654\"/>\n",
       "     <use style=\"fill:#1f77b4;stroke:#1f77b4;\" x=\"153.021681\" xlink:href=\"#m383135124e\" y=\"78.183642\"/>\n",
       "     <use style=\"fill:#1f77b4;stroke:#1f77b4;\" x=\"107.702168\" xlink:href=\"#m383135124e\" y=\"49.816156\"/>\n",
       "     <use style=\"fill:#1f77b4;stroke:#1f77b4;\" x=\"148.624631\" xlink:href=\"#m383135124e\" y=\"82.254688\"/>\n",
       "     <use style=\"fill:#1f77b4;stroke:#1f77b4;\" x=\"118.828037\" xlink:href=\"#m383135124e\" y=\"49.004772\"/>\n",
       "     <use style=\"fill:#1f77b4;stroke:#1f77b4;\" x=\"130.800839\" xlink:href=\"#m383135124e\" y=\"67.47855\"/>\n",
       "     <use style=\"fill:#1f77b4;stroke:#1f77b4;\" x=\"150.233791\" xlink:href=\"#m383135124e\" y=\"78.092649\"/>\n",
       "     <use style=\"fill:#1f77b4;stroke:#1f77b4;\" x=\"188.884187\" xlink:href=\"#m383135124e\" y=\"91.752732\"/>\n",
       "     <use style=\"fill:#1f77b4;stroke:#1f77b4;\" x=\"154.245172\" xlink:href=\"#m383135124e\" y=\"80.632494\"/>\n",
       "     <use style=\"fill:#1f77b4;stroke:#1f77b4;\" x=\"138.639764\" xlink:href=\"#m383135124e\" y=\"74.279934\"/>\n",
       "     <use style=\"fill:#1f77b4;stroke:#1f77b4;\" x=\"117.777573\" xlink:href=\"#m383135124e\" y=\"65.628301\"/>\n",
       "     <use style=\"fill:#1f77b4;stroke:#1f77b4;\" x=\"138.258686\" xlink:href=\"#m383135124e\" y=\"58.984112\"/>\n",
       "     <use style=\"fill:#1f77b4;stroke:#1f77b4;\" x=\"136.76969\" xlink:href=\"#m383135124e\" y=\"79.498277\"/>\n",
       "     <use style=\"fill:#1f77b4;stroke:#1f77b4;\" x=\"129.346345\" xlink:href=\"#m383135124e\" y=\"60.03546\"/>\n",
       "     <use style=\"fill:#1f77b4;stroke:#1f77b4;\" x=\"107.776649\" xlink:href=\"#m383135124e\" y=\"55.081297\"/>\n",
       "     <use style=\"fill:#1f77b4;stroke:#1f77b4;\" x=\"121.94833\" xlink:href=\"#m383135124e\" y=\"47.156754\"/>\n",
       "     <use style=\"fill:#1f77b4;stroke:#1f77b4;\" x=\"145.233981\" xlink:href=\"#m383135124e\" y=\"68.175969\"/>\n",
       "     <use style=\"fill:#1f77b4;stroke:#1f77b4;\" x=\"172.214019\" xlink:href=\"#m383135124e\" y=\"103.644858\"/>\n",
       "     <use style=\"fill:#1f77b4;stroke:#1f77b4;\" x=\"180.611845\" xlink:href=\"#m383135124e\" y=\"102.276794\"/>\n",
       "     <use style=\"fill:#1f77b4;stroke:#1f77b4;\" x=\"133.832198\" xlink:href=\"#m383135124e\" y=\"78.020192\"/>\n",
       "     <use style=\"fill:#1f77b4;stroke:#1f77b4;\" x=\"132.35339\" xlink:href=\"#m383135124e\" y=\"77.454871\"/>\n",
       "     <use style=\"fill:#1f77b4;stroke:#1f77b4;\" x=\"138.235694\" xlink:href=\"#m383135124e\" y=\"71.412823\"/>\n",
       "     <use style=\"fill:#1f77b4;stroke:#1f77b4;\" x=\"145.460034\" xlink:href=\"#m383135124e\" y=\"85.337034\"/>\n",
       "     <use style=\"fill:#1f77b4;stroke:#1f77b4;\" x=\"131.580181\" xlink:href=\"#m383135124e\" y=\"74.345814\"/>\n",
       "     <use style=\"fill:#1f77b4;stroke:#1f77b4;\" x=\"197.690501\" xlink:href=\"#m383135124e\" y=\"113.987267\"/>\n",
       "     <use style=\"fill:#1f77b4;stroke:#1f77b4;\" x=\"151.569716\" xlink:href=\"#m383135124e\" y=\"83.092617\"/>\n",
       "     <use style=\"fill:#1f77b4;stroke:#1f77b4;\" x=\"159.583148\" xlink:href=\"#m383135124e\" y=\"100.689875\"/>\n",
       "     <use style=\"fill:#1f77b4;stroke:#1f77b4;\" x=\"147.009413\" xlink:href=\"#m383135124e\" y=\"86.793839\"/>\n",
       "     <use style=\"fill:#1f77b4;stroke:#1f77b4;\" x=\"125.986399\" xlink:href=\"#m383135124e\" y=\"63.298473\"/>\n",
       "     <use style=\"fill:#1f77b4;stroke:#1f77b4;\" x=\"137.166168\" xlink:href=\"#m383135124e\" y=\"93.932836\"/>\n",
       "     <use style=\"fill:#1f77b4;stroke:#1f77b4;\" x=\"122.214805\" xlink:href=\"#m383135124e\" y=\"45.162046\"/>\n",
       "     <use style=\"fill:#1f77b4;stroke:#1f77b4;\" x=\"118.93225\" xlink:href=\"#m383135124e\" y=\"53.349836\"/>\n",
       "     <use style=\"fill:#1f77b4;stroke:#1f77b4;\" x=\"91.404141\" xlink:href=\"#m383135124e\" y=\"39.559029\"/>\n",
       "     <use style=\"fill:#1f77b4;stroke:#1f77b4;\" x=\"118.057971\" xlink:href=\"#m383135124e\" y=\"75.549118\"/>\n",
       "     <use style=\"fill:#1f77b4;stroke:#1f77b4;\" x=\"126.410788\" xlink:href=\"#m383135124e\" y=\"53.057169\"/>\n",
       "     <use style=\"fill:#1f77b4;stroke:#1f77b4;\" x=\"144.874257\" xlink:href=\"#m383135124e\" y=\"68.932579\"/>\n",
       "     <use style=\"fill:#1f77b4;stroke:#1f77b4;\" x=\"148.694772\" xlink:href=\"#m383135124e\" y=\"86.621466\"/>\n",
       "     <use style=\"fill:#1f77b4;stroke:#1f77b4;\" x=\"100.819306\" xlink:href=\"#m383135124e\" y=\"40.869051\"/>\n",
       "     <use style=\"fill:#1f77b4;stroke:#1f77b4;\" x=\"97.836925\" xlink:href=\"#m383135124e\" y=\"59.073407\"/>\n",
       "     <use style=\"fill:#1f77b4;stroke:#1f77b4;\" x=\"149.218492\" xlink:href=\"#m383135124e\" y=\"80.578652\"/>\n",
       "     <use style=\"fill:#1f77b4;stroke:#1f77b4;\" x=\"134.973586\" xlink:href=\"#m383135124e\" y=\"69.721122\"/>\n",
       "     <use style=\"fill:#1f77b4;stroke:#1f77b4;\" x=\"112.004891\" xlink:href=\"#m383135124e\" y=\"57.716081\"/>\n",
       "     <use style=\"fill:#1f77b4;stroke:#1f77b4;\" x=\"151.821227\" xlink:href=\"#m383135124e\" y=\"87.463114\"/>\n",
       "     <use style=\"fill:#1f77b4;stroke:#1f77b4;\" x=\"119.984779\" xlink:href=\"#m383135124e\" y=\"46.987995\"/>\n",
       "     <use style=\"fill:#1f77b4;stroke:#1f77b4;\" x=\"152.911491\" xlink:href=\"#m383135124e\" y=\"86.260224\"/>\n",
       "     <use style=\"fill:#1f77b4;stroke:#1f77b4;\" x=\"148.612979\" xlink:href=\"#m383135124e\" y=\"62.713693\"/>\n",
       "     <use style=\"fill:#1f77b4;stroke:#1f77b4;\" x=\"183.553948\" xlink:href=\"#m383135124e\" y=\"100.834426\"/>\n",
       "     <use style=\"fill:#1f77b4;stroke:#1f77b4;\" x=\"107.551221\" xlink:href=\"#m383135124e\" y=\"40.53376\"/>\n",
       "     <use style=\"fill:#1f77b4;stroke:#1f77b4;\" x=\"77.284268\" xlink:href=\"#m383135124e\" y=\"27.609687\"/>\n",
       "     <use style=\"fill:#1f77b4;stroke:#1f77b4;\" x=\"149.258419\" xlink:href=\"#m383135124e\" y=\"90.075994\"/>\n",
       "     <use style=\"fill:#1f77b4;stroke:#1f77b4;\" x=\"179.607147\" xlink:href=\"#m383135124e\" y=\"96.685309\"/>\n",
       "     <use style=\"fill:#1f77b4;stroke:#1f77b4;\" x=\"144.79742\" xlink:href=\"#m383135124e\" y=\"86.586107\"/>\n",
       "     <use style=\"fill:#1f77b4;stroke:#1f77b4;\" x=\"81.187564\" xlink:href=\"#m383135124e\" y=\"46.695033\"/>\n",
       "     <use style=\"fill:#1f77b4;stroke:#1f77b4;\" x=\"165.719751\" xlink:href=\"#m383135124e\" y=\"83.453334\"/>\n",
       "     <use style=\"fill:#1f77b4;stroke:#1f77b4;\" x=\"105.620561\" xlink:href=\"#m383135124e\" y=\"52.254243\"/>\n",
       "     <use style=\"fill:#1f77b4;stroke:#1f77b4;\" x=\"114.525387\" xlink:href=\"#m383135124e\" y=\"64.016454\"/>\n",
       "     <use style=\"fill:#1f77b4;stroke:#1f77b4;\" x=\"124.667079\" xlink:href=\"#m383135124e\" y=\"72.49216\"/>\n",
       "     <use style=\"fill:#1f77b4;stroke:#1f77b4;\" x=\"143.126236\" xlink:href=\"#m383135124e\" y=\"68.386732\"/>\n",
       "     <use style=\"fill:#1f77b4;stroke:#1f77b4;\" x=\"148.76574\" xlink:href=\"#m383135124e\" y=\"95.51309\"/>\n",
       "     <use style=\"fill:#1f77b4;stroke:#1f77b4;\" x=\"91.184873\" xlink:href=\"#m383135124e\" y=\"48.117745\"/>\n",
       "     <use style=\"fill:#1f77b4;stroke:#1f77b4;\" x=\"164.113862\" xlink:href=\"#m383135124e\" y=\"91.978433\"/>\n",
       "     <use style=\"fill:#1f77b4;stroke:#1f77b4;\" x=\"87.449991\" xlink:href=\"#m383135124e\" y=\"54.400041\"/>\n",
       "     <use style=\"fill:#1f77b4;stroke:#1f77b4;\" x=\"127.56396\" xlink:href=\"#m383135124e\" y=\"59.632738\"/>\n",
       "     <use style=\"fill:#1f77b4;stroke:#1f77b4;\" x=\"138.785823\" xlink:href=\"#m383135124e\" y=\"70.826217\"/>\n",
       "     <use style=\"fill:#1f77b4;stroke:#1f77b4;\" x=\"126.889097\" xlink:href=\"#m383135124e\" y=\"59.323697\"/>\n",
       "     <use style=\"fill:#1f77b4;stroke:#1f77b4;\" x=\"125.843915\" xlink:href=\"#m383135124e\" y=\"62.987115\"/>\n",
       "     <use style=\"fill:#1f77b4;stroke:#1f77b4;\" x=\"125.659066\" xlink:href=\"#m383135124e\" y=\"61.456822\"/>\n",
       "     <use style=\"fill:#1f77b4;stroke:#1f77b4;\" x=\"132.909806\" xlink:href=\"#m383135124e\" y=\"81.30882\"/>\n",
       "     <use style=\"fill:#1f77b4;stroke:#1f77b4;\" x=\"153.709167\" xlink:href=\"#m383135124e\" y=\"76.695019\"/>\n",
       "     <use style=\"fill:#1f77b4;stroke:#1f77b4;\" x=\"145.775629\" xlink:href=\"#m383135124e\" y=\"67.607023\"/>\n",
       "     <use style=\"fill:#1f77b4;stroke:#1f77b4;\" x=\"146.797481\" xlink:href=\"#m383135124e\" y=\"83.372667\"/>\n",
       "     <use style=\"fill:#1f77b4;stroke:#1f77b4;\" x=\"124.145507\" xlink:href=\"#m383135124e\" y=\"60.040096\"/>\n",
       "     <use style=\"fill:#1f77b4;stroke:#1f77b4;\" x=\"147.990768\" xlink:href=\"#m383135124e\" y=\"69.960754\"/>\n",
       "     <use style=\"fill:#1f77b4;stroke:#1f77b4;\" x=\"153.401769\" xlink:href=\"#m383135124e\" y=\"86.791876\"/>\n",
       "     <use style=\"fill:#1f77b4;stroke:#1f77b4;\" x=\"127.701496\" xlink:href=\"#m383135124e\" y=\"61.970457\"/>\n",
       "     <use style=\"fill:#1f77b4;stroke:#1f77b4;\" x=\"149.682902\" xlink:href=\"#m383135124e\" y=\"73.487675\"/>\n",
       "     <use style=\"fill:#1f77b4;stroke:#1f77b4;\" x=\"155.377217\" xlink:href=\"#m383135124e\" y=\"76.090376\"/>\n",
       "     <use style=\"fill:#1f77b4;stroke:#1f77b4;\" x=\"113.23795\" xlink:href=\"#m383135124e\" y=\"50.35442\"/>\n",
       "     <use style=\"fill:#1f77b4;stroke:#1f77b4;\" x=\"153.801976\" xlink:href=\"#m383135124e\" y=\"67.611479\"/>\n",
       "     <use style=\"fill:#1f77b4;stroke:#1f77b4;\" x=\"131.677222\" xlink:href=\"#m383135124e\" y=\"78.845269\"/>\n",
       "     <use style=\"fill:#1f77b4;stroke:#1f77b4;\" x=\"141.442365\" xlink:href=\"#m383135124e\" y=\"85.246196\"/>\n",
       "     <use style=\"fill:#1f77b4;stroke:#1f77b4;\" x=\"189.101145\" xlink:href=\"#m383135124e\" y=\"110.597578\"/>\n",
       "     <use style=\"fill:#1f77b4;stroke:#1f77b4;\" x=\"130.206748\" xlink:href=\"#m383135124e\" y=\"47.059087\"/>\n",
       "     <use style=\"fill:#1f77b4;stroke:#1f77b4;\" x=\"145.008636\" xlink:href=\"#m383135124e\" y=\"82.964539\"/>\n",
       "     <use style=\"fill:#1f77b4;stroke:#1f77b4;\" x=\"130.970549\" xlink:href=\"#m383135124e\" y=\"72.83389\"/>\n",
       "     <use style=\"fill:#1f77b4;stroke:#1f77b4;\" x=\"98.63398\" xlink:href=\"#m383135124e\" y=\"38.412002\"/>\n",
       "     <use style=\"fill:#1f77b4;stroke:#1f77b4;\" x=\"133.820452\" xlink:href=\"#m383135124e\" y=\"74.557932\"/>\n",
       "     <use style=\"fill:#1f77b4;stroke:#1f77b4;\" x=\"132.064394\" xlink:href=\"#m383135124e\" y=\"78.575461\"/>\n",
       "     <use style=\"fill:#1f77b4;stroke:#1f77b4;\" x=\"112.84972\" xlink:href=\"#m383135124e\" y=\"52.733348\"/>\n",
       "     <use style=\"fill:#1f77b4;stroke:#1f77b4;\" x=\"140.331943\" xlink:href=\"#m383135124e\" y=\"82.163229\"/>\n",
       "     <use style=\"fill:#1f77b4;stroke:#1f77b4;\" x=\"106.53039\" xlink:href=\"#m383135124e\" y=\"43.945985\"/>\n",
       "     <use style=\"fill:#1f77b4;stroke:#1f77b4;\" x=\"129.671891\" xlink:href=\"#m383135124e\" y=\"83.708231\"/>\n",
       "     <use style=\"fill:#1f77b4;stroke:#1f77b4;\" x=\"128.313312\" xlink:href=\"#m383135124e\" y=\"46.990681\"/>\n",
       "     <use style=\"fill:#1f77b4;stroke:#1f77b4;\" x=\"156.738732\" xlink:href=\"#m383135124e\" y=\"93.894667\"/>\n",
       "     <use style=\"fill:#1f77b4;stroke:#1f77b4;\" x=\"124.011593\" xlink:href=\"#m383135124e\" y=\"60.108344\"/>\n",
       "     <use style=\"fill:#1f77b4;stroke:#1f77b4;\" x=\"86.985734\" xlink:href=\"#m383135124e\" y=\"47.626993\"/>\n",
       "     <use style=\"fill:#1f77b4;stroke:#1f77b4;\" x=\"121.060683\" xlink:href=\"#m383135124e\" y=\"47.998695\"/>\n",
       "     <use style=\"fill:#1f77b4;stroke:#1f77b4;\" x=\"140.629264\" xlink:href=\"#m383135124e\" y=\"81.448177\"/>\n",
       "     <use style=\"fill:#1f77b4;stroke:#1f77b4;\" x=\"109.783004\" xlink:href=\"#m383135124e\" y=\"54.633774\"/>\n",
       "     <use style=\"fill:#1f77b4;stroke:#1f77b4;\" x=\"111.312486\" xlink:href=\"#m383135124e\" y=\"44.160497\"/>\n",
       "     <use style=\"fill:#1f77b4;stroke:#1f77b4;\" x=\"112.621689\" xlink:href=\"#m383135124e\" y=\"53.539936\"/>\n",
       "     <use style=\"fill:#1f77b4;stroke:#1f77b4;\" x=\"99.880475\" xlink:href=\"#m383135124e\" y=\"54.290293\"/>\n",
       "     <use style=\"fill:#1f77b4;stroke:#1f77b4;\" x=\"134.393952\" xlink:href=\"#m383135124e\" y=\"61.680878\"/>\n",
       "     <use style=\"fill:#1f77b4;stroke:#1f77b4;\" x=\"161.657345\" xlink:href=\"#m383135124e\" y=\"80.130706\"/>\n",
       "     <use style=\"fill:#1f77b4;stroke:#1f77b4;\" x=\"89.209364\" xlink:href=\"#m383135124e\" y=\"36.353667\"/>\n",
       "     <use style=\"fill:#1f77b4;stroke:#1f77b4;\" x=\"124.383619\" xlink:href=\"#m383135124e\" y=\"68.957635\"/>\n",
       "     <use style=\"fill:#1f77b4;stroke:#1f77b4;\" x=\"131.965724\" xlink:href=\"#m383135124e\" y=\"73.098494\"/>\n",
       "     <use style=\"fill:#1f77b4;stroke:#1f77b4;\" x=\"158.803656\" xlink:href=\"#m383135124e\" y=\"86.648819\"/>\n",
       "     <use style=\"fill:#1f77b4;stroke:#1f77b4;\" x=\"142.41017\" xlink:href=\"#m383135124e\" y=\"71.916593\"/>\n",
       "     <use style=\"fill:#1f77b4;stroke:#1f77b4;\" x=\"145.93326\" xlink:href=\"#m383135124e\" y=\"84.439311\"/>\n",
       "     <use style=\"fill:#1f77b4;stroke:#1f77b4;\" x=\"126.929977\" xlink:href=\"#m383135124e\" y=\"58.567474\"/>\n",
       "     <use style=\"fill:#1f77b4;stroke:#1f77b4;\" x=\"114.829163\" xlink:href=\"#m383135124e\" y=\"62.404921\"/>\n",
       "     <use style=\"fill:#1f77b4;stroke:#1f77b4;\" x=\"148.145081\" xlink:href=\"#m383135124e\" y=\"94.533672\"/>\n",
       "     <use style=\"fill:#1f77b4;stroke:#1f77b4;\" x=\"161.302305\" xlink:href=\"#m383135124e\" y=\"104.601385\"/>\n",
       "     <use style=\"fill:#1f77b4;stroke:#1f77b4;\" x=\"141.568739\" xlink:href=\"#m383135124e\" y=\"72.067476\"/>\n",
       "     <use style=\"fill:#1f77b4;stroke:#1f77b4;\" x=\"111.342428\" xlink:href=\"#m383135124e\" y=\"68.220887\"/>\n",
       "     <use style=\"fill:#1f77b4;stroke:#1f77b4;\" x=\"99.688354\" xlink:href=\"#m383135124e\" y=\"33.961632\"/>\n",
       "     <use style=\"fill:#1f77b4;stroke:#1f77b4;\" x=\"142.081909\" xlink:href=\"#m383135124e\" y=\"80.104468\"/>\n",
       "     <use style=\"fill:#1f77b4;stroke:#1f77b4;\" x=\"84.098475\" xlink:href=\"#m383135124e\" y=\"38.889053\"/>\n",
       "     <use style=\"fill:#1f77b4;stroke:#1f77b4;\" x=\"172.393968\" xlink:href=\"#m383135124e\" y=\"92.409323\"/>\n",
       "     <use style=\"fill:#1f77b4;stroke:#1f77b4;\" x=\"116.413407\" xlink:href=\"#m383135124e\" y=\"53.982101\"/>\n",
       "     <use style=\"fill:#1f77b4;stroke:#1f77b4;\" x=\"156.096993\" xlink:href=\"#m383135124e\" y=\"73.40434\"/>\n",
       "     <use style=\"fill:#1f77b4;stroke:#1f77b4;\" x=\"141.891675\" xlink:href=\"#m383135124e\" y=\"68.221821\"/>\n",
       "     <use style=\"fill:#1f77b4;stroke:#1f77b4;\" x=\"116.795499\" xlink:href=\"#m383135124e\" y=\"52.024349\"/>\n",
       "     <use style=\"fill:#1f77b4;stroke:#1f77b4;\" x=\"190.964255\" xlink:href=\"#m383135124e\" y=\"115.720121\"/>\n",
       "     <use style=\"fill:#1f77b4;stroke:#1f77b4;\" x=\"126.805709\" xlink:href=\"#m383135124e\" y=\"68.907967\"/>\n",
       "     <use style=\"fill:#1f77b4;stroke:#1f77b4;\" x=\"140.985656\" xlink:href=\"#m383135124e\" y=\"69.929164\"/>\n",
       "     <use style=\"fill:#1f77b4;stroke:#1f77b4;\" x=\"149.870084\" xlink:href=\"#m383135124e\" y=\"80.189606\"/>\n",
       "     <use style=\"fill:#1f77b4;stroke:#1f77b4;\" x=\"127.922781\" xlink:href=\"#m383135124e\" y=\"62.822598\"/>\n",
       "     <use style=\"fill:#1f77b4;stroke:#1f77b4;\" x=\"120.437467\" xlink:href=\"#m383135124e\" y=\"65.204163\"/>\n",
       "     <use style=\"fill:#1f77b4;stroke:#1f77b4;\" x=\"118.553339\" xlink:href=\"#m383135124e\" y=\"58.001189\"/>\n",
       "     <use style=\"fill:#1f77b4;stroke:#1f77b4;\" x=\"114.696373\" xlink:href=\"#m383135124e\" y=\"54.331743\"/>\n",
       "     <use style=\"fill:#1f77b4;stroke:#1f77b4;\" x=\"139.293066\" xlink:href=\"#m383135124e\" y=\"74.698834\"/>\n",
       "     <use style=\"fill:#1f77b4;stroke:#1f77b4;\" x=\"122.40698\" xlink:href=\"#m383135124e\" y=\"52.988092\"/>\n",
       "     <use style=\"fill:#1f77b4;stroke:#1f77b4;\" x=\"123.986381\" xlink:href=\"#m383135124e\" y=\"64.991252\"/>\n",
       "     <use style=\"fill:#1f77b4;stroke:#1f77b4;\" x=\"116.003606\" xlink:href=\"#m383135124e\" y=\"71.770604\"/>\n",
       "     <use style=\"fill:#1f77b4;stroke:#1f77b4;\" x=\"156.823501\" xlink:href=\"#m383135124e\" y=\"93.71132\"/>\n",
       "     <use style=\"fill:#1f77b4;stroke:#1f77b4;\" x=\"130.764292\" xlink:href=\"#m383135124e\" y=\"71.507549\"/>\n",
       "     <use style=\"fill:#1f77b4;stroke:#1f77b4;\" x=\"143.240002\" xlink:href=\"#m383135124e\" y=\"82.134532\"/>\n",
       "     <use style=\"fill:#1f77b4;stroke:#1f77b4;\" x=\"107.890561\" xlink:href=\"#m383135124e\" y=\"49.114086\"/>\n",
       "     <use style=\"fill:#1f77b4;stroke:#1f77b4;\" x=\"151.24977\" xlink:href=\"#m383135124e\" y=\"77.535412\"/>\n",
       "     <use style=\"fill:#1f77b4;stroke:#1f77b4;\" x=\"130.150437\" xlink:href=\"#m383135124e\" y=\"66.095095\"/>\n",
       "     <use style=\"fill:#1f77b4;stroke:#1f77b4;\" x=\"173.411233\" xlink:href=\"#m383135124e\" y=\"83.880389\"/>\n",
       "     <use style=\"fill:#1f77b4;stroke:#1f77b4;\" x=\"174.458195\" xlink:href=\"#m383135124e\" y=\"93.18744\"/>\n",
       "     <use style=\"fill:#1f77b4;stroke:#1f77b4;\" x=\"124.102197\" xlink:href=\"#m383135124e\" y=\"72.079873\"/>\n",
       "     <use style=\"fill:#1f77b4;stroke:#1f77b4;\" x=\"133.254751\" xlink:href=\"#m383135124e\" y=\"74.788748\"/>\n",
       "     <use style=\"fill:#1f77b4;stroke:#1f77b4;\" x=\"130.193859\" xlink:href=\"#m383135124e\" y=\"54.72443\"/>\n",
       "     <use style=\"fill:#1f77b4;stroke:#1f77b4;\" x=\"141.119237\" xlink:href=\"#m383135124e\" y=\"76.047827\"/>\n",
       "     <use style=\"fill:#1f77b4;stroke:#1f77b4;\" x=\"115.551873\" xlink:href=\"#m383135124e\" y=\"60.916346\"/>\n",
       "     <use style=\"fill:#1f77b4;stroke:#1f77b4;\" x=\"169.365476\" xlink:href=\"#m383135124e\" y=\"102.554679\"/>\n",
       "     <use style=\"fill:#1f77b4;stroke:#1f77b4;\" x=\"173.799771\" xlink:href=\"#m383135124e\" y=\"79.623155\"/>\n",
       "     <use style=\"fill:#1f77b4;stroke:#1f77b4;\" x=\"195.214574\" xlink:href=\"#m383135124e\" y=\"107.021165\"/>\n",
       "     <use style=\"fill:#1f77b4;stroke:#1f77b4;\" x=\"189.537158\" xlink:href=\"#m383135124e\" y=\"94.696283\"/>\n",
       "     <use style=\"fill:#1f77b4;stroke:#1f77b4;\" x=\"129.088979\" xlink:href=\"#m383135124e\" y=\"71.364409\"/>\n",
       "     <use style=\"fill:#1f77b4;stroke:#1f77b4;\" x=\"152.17513\" xlink:href=\"#m383135124e\" y=\"79.131115\"/>\n",
       "     <use style=\"fill:#1f77b4;stroke:#1f77b4;\" x=\"83.504141\" xlink:href=\"#m383135124e\" y=\"23.496926\"/>\n",
       "     <use style=\"fill:#1f77b4;stroke:#1f77b4;\" x=\"130.810552\" xlink:href=\"#m383135124e\" y=\"73.432905\"/>\n",
       "     <use style=\"fill:#1f77b4;stroke:#1f77b4;\" x=\"142.070386\" xlink:href=\"#m383135124e\" y=\"72.113712\"/>\n",
       "     <use style=\"fill:#1f77b4;stroke:#1f77b4;\" x=\"111.926782\" xlink:href=\"#m383135124e\" y=\"62.407378\"/>\n",
       "     <use style=\"fill:#1f77b4;stroke:#1f77b4;\" x=\"125.896676\" xlink:href=\"#m383135124e\" y=\"54.674994\"/>\n",
       "     <use style=\"fill:#1f77b4;stroke:#1f77b4;\" x=\"159.019875\" xlink:href=\"#m383135124e\" y=\"89.047954\"/>\n",
       "     <use style=\"fill:#1f77b4;stroke:#1f77b4;\" x=\"130.854538\" xlink:href=\"#m383135124e\" y=\"60.450767\"/>\n",
       "     <use style=\"fill:#1f77b4;stroke:#1f77b4;\" x=\"139.954329\" xlink:href=\"#m383135124e\" y=\"65.909535\"/>\n",
       "     <use style=\"fill:#1f77b4;stroke:#1f77b4;\" x=\"156.303315\" xlink:href=\"#m383135124e\" y=\"87.209632\"/>\n",
       "     <use style=\"fill:#1f77b4;stroke:#1f77b4;\" x=\"175.460961\" xlink:href=\"#m383135124e\" y=\"88.269697\"/>\n",
       "     <use style=\"fill:#1f77b4;stroke:#1f77b4;\" x=\"171.696949\" xlink:href=\"#m383135124e\" y=\"84.440532\"/>\n",
       "     <use style=\"fill:#1f77b4;stroke:#1f77b4;\" x=\"113.727481\" xlink:href=\"#m383135124e\" y=\"53.277167\"/>\n",
       "     <use style=\"fill:#1f77b4;stroke:#1f77b4;\" x=\"124.137387\" xlink:href=\"#m383135124e\" y=\"69.046083\"/>\n",
       "     <use style=\"fill:#1f77b4;stroke:#1f77b4;\" x=\"144.75766\" xlink:href=\"#m383135124e\" y=\"82.473995\"/>\n",
       "     <use style=\"fill:#1f77b4;stroke:#1f77b4;\" x=\"127.713033\" xlink:href=\"#m383135124e\" y=\"64.331726\"/>\n",
       "     <use style=\"fill:#1f77b4;stroke:#1f77b4;\" x=\"138.521282\" xlink:href=\"#m383135124e\" y=\"70.898585\"/>\n",
       "     <use style=\"fill:#1f77b4;stroke:#1f77b4;\" x=\"121.825437\" xlink:href=\"#m383135124e\" y=\"62.153036\"/>\n",
       "     <use style=\"fill:#1f77b4;stroke:#1f77b4;\" x=\"124.235932\" xlink:href=\"#m383135124e\" y=\"58.40291\"/>\n",
       "     <use style=\"fill:#1f77b4;stroke:#1f77b4;\" x=\"154.551964\" xlink:href=\"#m383135124e\" y=\"66.371295\"/>\n",
       "     <use style=\"fill:#1f77b4;stroke:#1f77b4;\" x=\"147.578717\" xlink:href=\"#m383135124e\" y=\"73.493789\"/>\n",
       "     <use style=\"fill:#1f77b4;stroke:#1f77b4;\" x=\"143.195942\" xlink:href=\"#m383135124e\" y=\"58.808214\"/>\n",
       "     <use style=\"fill:#1f77b4;stroke:#1f77b4;\" x=\"159.005697\" xlink:href=\"#m383135124e\" y=\"78.9202\"/>\n",
       "     <use style=\"fill:#1f77b4;stroke:#1f77b4;\" x=\"124.725005\" xlink:href=\"#m383135124e\" y=\"69.640081\"/>\n",
       "     <use style=\"fill:#1f77b4;stroke:#1f77b4;\" x=\"75.374474\" xlink:href=\"#m383135124e\" y=\"27.382895\"/>\n",
       "     <use style=\"fill:#1f77b4;stroke:#1f77b4;\" x=\"107.934066\" xlink:href=\"#m383135124e\" y=\"58.802449\"/>\n",
       "     <use style=\"fill:#1f77b4;stroke:#1f77b4;\" x=\"131.859614\" xlink:href=\"#m383135124e\" y=\"76.298507\"/>\n",
       "     <use style=\"fill:#1f77b4;stroke:#1f77b4;\" x=\"135.804209\" xlink:href=\"#m383135124e\" y=\"74.056438\"/>\n",
       "     <use style=\"fill:#1f77b4;stroke:#1f77b4;\" x=\"115.366922\" xlink:href=\"#m383135124e\" y=\"39.58913\"/>\n",
       "     <use style=\"fill:#1f77b4;stroke:#1f77b4;\" x=\"170.931978\" xlink:href=\"#m383135124e\" y=\"100.13797\"/>\n",
       "     <use style=\"fill:#1f77b4;stroke:#1f77b4;\" x=\"177.275382\" xlink:href=\"#m383135124e\" y=\"89.210534\"/>\n",
       "     <use style=\"fill:#1f77b4;stroke:#1f77b4;\" x=\"135.005891\" xlink:href=\"#m383135124e\" y=\"63.112214\"/>\n",
       "     <use style=\"fill:#1f77b4;stroke:#1f77b4;\" x=\"123.144042\" xlink:href=\"#m383135124e\" y=\"65.556333\"/>\n",
       "     <use style=\"fill:#1f77b4;stroke:#1f77b4;\" x=\"153.762768\" xlink:href=\"#m383135124e\" y=\"72.240852\"/>\n",
       "     <use style=\"fill:#1f77b4;stroke:#1f77b4;\" x=\"152.48726\" xlink:href=\"#m383135124e\" y=\"82.413804\"/>\n",
       "     <use style=\"fill:#1f77b4;stroke:#1f77b4;\" x=\"156.97959\" xlink:href=\"#m383135124e\" y=\"80.11023\"/>\n",
       "     <use style=\"fill:#1f77b4;stroke:#1f77b4;\" x=\"141.220895\" xlink:href=\"#m383135124e\" y=\"73.981251\"/>\n",
       "     <use style=\"fill:#1f77b4;stroke:#1f77b4;\" x=\"138.717461\" xlink:href=\"#m383135124e\" y=\"71.138422\"/>\n",
       "     <use style=\"fill:#1f77b4;stroke:#1f77b4;\" x=\"119.691475\" xlink:href=\"#m383135124e\" y=\"61.818991\"/>\n",
       "     <use style=\"fill:#1f77b4;stroke:#1f77b4;\" x=\"138.557931\" xlink:href=\"#m383135124e\" y=\"73.981942\"/>\n",
       "     <use style=\"fill:#1f77b4;stroke:#1f77b4;\" x=\"152.366106\" xlink:href=\"#m383135124e\" y=\"85.429056\"/>\n",
       "     <use style=\"fill:#1f77b4;stroke:#1f77b4;\" x=\"137.579188\" xlink:href=\"#m383135124e\" y=\"72.776488\"/>\n",
       "     <use style=\"fill:#1f77b4;stroke:#1f77b4;\" x=\"137.25717\" xlink:href=\"#m383135124e\" y=\"75.624732\"/>\n",
       "     <use style=\"fill:#1f77b4;stroke:#1f77b4;\" x=\"121.689451\" xlink:href=\"#m383135124e\" y=\"59.239688\"/>\n",
       "     <use style=\"fill:#1f77b4;stroke:#1f77b4;\" x=\"121.206753\" xlink:href=\"#m383135124e\" y=\"59.771105\"/>\n",
       "     <use style=\"fill:#1f77b4;stroke:#1f77b4;\" x=\"134.420758\" xlink:href=\"#m383135124e\" y=\"69.485699\"/>\n",
       "     <use style=\"fill:#1f77b4;stroke:#1f77b4;\" x=\"101.597625\" xlink:href=\"#m383135124e\" y=\"40.563242\"/>\n",
       "     <use style=\"fill:#1f77b4;stroke:#1f77b4;\" x=\"137.668316\" xlink:href=\"#m383135124e\" y=\"58.953022\"/>\n",
       "     <use style=\"fill:#1f77b4;stroke:#1f77b4;\" x=\"132.378646\" xlink:href=\"#m383135124e\" y=\"70.302304\"/>\n",
       "     <use style=\"fill:#1f77b4;stroke:#1f77b4;\" x=\"179.900822\" xlink:href=\"#m383135124e\" y=\"95.139626\"/>\n",
       "     <use style=\"fill:#1f77b4;stroke:#1f77b4;\" x=\"140.696687\" xlink:href=\"#m383135124e\" y=\"70.238741\"/>\n",
       "     <use style=\"fill:#1f77b4;stroke:#1f77b4;\" x=\"137.287466\" xlink:href=\"#m383135124e\" y=\"73.596265\"/>\n",
       "     <use style=\"fill:#1f77b4;stroke:#1f77b4;\" x=\"163.198154\" xlink:href=\"#m383135124e\" y=\"100.367969\"/>\n",
       "     <use style=\"fill:#1f77b4;stroke:#1f77b4;\" x=\"166.836732\" xlink:href=\"#m383135124e\" y=\"89.854519\"/>\n",
       "     <use style=\"fill:#1f77b4;stroke:#1f77b4;\" x=\"149.0649\" xlink:href=\"#m383135124e\" y=\"91.387821\"/>\n",
       "     <use style=\"fill:#1f77b4;stroke:#1f77b4;\" x=\"176.656598\" xlink:href=\"#m383135124e\" y=\"81.39754\"/>\n",
       "     <use style=\"fill:#1f77b4;stroke:#1f77b4;\" x=\"90.542538\" xlink:href=\"#m383135124e\" y=\"53.079654\"/>\n",
       "     <use style=\"fill:#1f77b4;stroke:#1f77b4;\" x=\"142.339289\" xlink:href=\"#m383135124e\" y=\"85.978162\"/>\n",
       "     <use style=\"fill:#1f77b4;stroke:#1f77b4;\" x=\"133.402283\" xlink:href=\"#m383135124e\" y=\"68.906899\"/>\n",
       "     <use style=\"fill:#1f77b4;stroke:#1f77b4;\" x=\"119.048679\" xlink:href=\"#m383135124e\" y=\"54.292772\"/>\n",
       "     <use style=\"fill:#1f77b4;stroke:#1f77b4;\" x=\"127.160966\" xlink:href=\"#m383135124e\" y=\"49.722172\"/>\n",
       "     <use style=\"fill:#1f77b4;stroke:#1f77b4;\" x=\"138.34454\" xlink:href=\"#m383135124e\" y=\"76.315014\"/>\n",
       "     <use style=\"fill:#1f77b4;stroke:#1f77b4;\" x=\"124.688944\" xlink:href=\"#m383135124e\" y=\"80.462844\"/>\n",
       "     <use style=\"fill:#1f77b4;stroke:#1f77b4;\" x=\"105.730334\" xlink:href=\"#m383135124e\" y=\"61.852009\"/>\n",
       "     <use style=\"fill:#1f77b4;stroke:#1f77b4;\" x=\"145.853398\" xlink:href=\"#m383135124e\" y=\"79.667733\"/>\n",
       "     <use style=\"fill:#1f77b4;stroke:#1f77b4;\" x=\"138.307669\" xlink:href=\"#m383135124e\" y=\"68.241207\"/>\n",
       "     <use style=\"fill:#1f77b4;stroke:#1f77b4;\" x=\"138.721346\" xlink:href=\"#m383135124e\" y=\"72.755085\"/>\n",
       "     <use style=\"fill:#1f77b4;stroke:#1f77b4;\" x=\"115.906424\" xlink:href=\"#m383135124e\" y=\"64.326672\"/>\n",
       "     <use style=\"fill:#1f77b4;stroke:#1f77b4;\" x=\"145.139095\" xlink:href=\"#m383135124e\" y=\"88.681814\"/>\n",
       "     <use style=\"fill:#1f77b4;stroke:#1f77b4;\" x=\"175.607518\" xlink:href=\"#m383135124e\" y=\"87.275772\"/>\n",
       "     <use style=\"fill:#1f77b4;stroke:#1f77b4;\" x=\"120.963024\" xlink:href=\"#m383135124e\" y=\"46.211275\"/>\n",
       "     <use style=\"fill:#1f77b4;stroke:#1f77b4;\" x=\"156.990773\" xlink:href=\"#m383135124e\" y=\"89.132226\"/>\n",
       "     <use style=\"fill:#1f77b4;stroke:#1f77b4;\" x=\"181.479992\" xlink:href=\"#m383135124e\" y=\"98.998447\"/>\n",
       "     <use style=\"fill:#1f77b4;stroke:#1f77b4;\" x=\"91.352805\" xlink:href=\"#m383135124e\" y=\"45.869333\"/>\n",
       "     <use style=\"fill:#1f77b4;stroke:#1f77b4;\" x=\"97.619867\" xlink:href=\"#m383135124e\" y=\"42.752496\"/>\n",
       "     <use style=\"fill:#1f77b4;stroke:#1f77b4;\" x=\"158.3053\" xlink:href=\"#m383135124e\" y=\"79.510895\"/>\n",
       "     <use style=\"fill:#1f77b4;stroke:#1f77b4;\" x=\"129.437118\" xlink:href=\"#m383135124e\" y=\"81.130434\"/>\n",
       "     <use style=\"fill:#1f77b4;stroke:#1f77b4;\" x=\"145.83389\" xlink:href=\"#m383135124e\" y=\"78.564014\"/>\n",
       "     <use style=\"fill:#1f77b4;stroke:#1f77b4;\" x=\"142.48671\" xlink:href=\"#m383135124e\" y=\"85.422947\"/>\n",
       "     <use style=\"fill:#1f77b4;stroke:#1f77b4;\" x=\"186.287967\" xlink:href=\"#m383135124e\" y=\"103.714154\"/>\n",
       "     <use style=\"fill:#1f77b4;stroke:#1f77b4;\" x=\"125.054286\" xlink:href=\"#m383135124e\" y=\"51.454623\"/>\n",
       "     <use style=\"fill:#1f77b4;stroke:#1f77b4;\" x=\"105.941436\" xlink:href=\"#m383135124e\" y=\"57.720119\"/>\n",
       "     <use style=\"fill:#1f77b4;stroke:#1f77b4;\" x=\"128.884704\" xlink:href=\"#m383135124e\" y=\"79.54785\"/>\n",
       "     <use style=\"fill:#1f77b4;stroke:#1f77b4;\" x=\"126.569518\" xlink:href=\"#m383135124e\" y=\"67.848388\"/>\n",
       "     <use style=\"fill:#1f77b4;stroke:#1f77b4;\" x=\"114.338854\" xlink:href=\"#m383135124e\" y=\"70.193268\"/>\n",
       "     <use style=\"fill:#1f77b4;stroke:#1f77b4;\" x=\"148.520523\" xlink:href=\"#m383135124e\" y=\"83.063593\"/>\n",
       "     <use style=\"fill:#1f77b4;stroke:#1f77b4;\" x=\"148.507646\" xlink:href=\"#m383135124e\" y=\"67.890306\"/>\n",
       "     <use style=\"fill:#1f77b4;stroke:#1f77b4;\" x=\"84.238917\" xlink:href=\"#m383135124e\" y=\"44.864439\"/>\n",
       "     <use style=\"fill:#1f77b4;stroke:#1f77b4;\" x=\"135.913687\" xlink:href=\"#m383135124e\" y=\"68.707765\"/>\n",
       "     <use style=\"fill:#1f77b4;stroke:#1f77b4;\" x=\"125.09886\" xlink:href=\"#m383135124e\" y=\"78.904596\"/>\n",
       "     <use style=\"fill:#1f77b4;stroke:#1f77b4;\" x=\"154.776739\" xlink:href=\"#m383135124e\" y=\"84.156325\"/>\n",
       "     <use style=\"fill:#1f77b4;stroke:#1f77b4;\" x=\"183.478182\" xlink:href=\"#m383135124e\" y=\"108.553378\"/>\n",
       "     <use style=\"fill:#1f77b4;stroke:#1f77b4;\" x=\"112.62688\" xlink:href=\"#m383135124e\" y=\"54.677889\"/>\n",
       "     <use style=\"fill:#1f77b4;stroke:#1f77b4;\" x=\"145.648423\" xlink:href=\"#m383135124e\" y=\"92.014586\"/>\n",
       "     <use style=\"fill:#1f77b4;stroke:#1f77b4;\" x=\"160.536336\" xlink:href=\"#m383135124e\" y=\"86.643287\"/>\n",
       "     <use style=\"fill:#1f77b4;stroke:#1f77b4;\" x=\"139.016103\" xlink:href=\"#m383135124e\" y=\"80.423239\"/>\n",
       "     <use style=\"fill:#1f77b4;stroke:#1f77b4;\" x=\"85.627419\" xlink:href=\"#m383135124e\" y=\"41.048036\"/>\n",
       "     <use style=\"fill:#1f77b4;stroke:#1f77b4;\" x=\"149.93381\" xlink:href=\"#m383135124e\" y=\"78.172566\"/>\n",
       "     <use style=\"fill:#1f77b4;stroke:#1f77b4;\" x=\"124.612097\" xlink:href=\"#m383135124e\" y=\"67.967603\"/>\n",
       "     <use style=\"fill:#1f77b4;stroke:#1f77b4;\" x=\"128.333423\" xlink:href=\"#m383135124e\" y=\"90.972906\"/>\n",
       "     <use style=\"fill:#1f77b4;stroke:#1f77b4;\" x=\"143.66781\" xlink:href=\"#m383135124e\" y=\"66.903301\"/>\n",
       "     <use style=\"fill:#1f77b4;stroke:#1f77b4;\" x=\"163.710547\" xlink:href=\"#m383135124e\" y=\"78.547583\"/>\n",
       "     <use style=\"fill:#1f77b4;stroke:#1f77b4;\" x=\"129.870118\" xlink:href=\"#m383135124e\" y=\"55.594455\"/>\n",
       "     <use style=\"fill:#1f77b4;stroke:#1f77b4;\" x=\"176.054166\" xlink:href=\"#m383135124e\" y=\"99.557763\"/>\n",
       "     <use style=\"fill:#1f77b4;stroke:#1f77b4;\" x=\"118.417343\" xlink:href=\"#m383135124e\" y=\"61.967734\"/>\n",
       "     <use style=\"fill:#1f77b4;stroke:#1f77b4;\" x=\"170.750725\" xlink:href=\"#m383135124e\" y=\"71.236504\"/>\n",
       "     <use style=\"fill:#1f77b4;stroke:#1f77b4;\" x=\"118.647078\" xlink:href=\"#m383135124e\" y=\"44.289925\"/>\n",
       "     <use style=\"fill:#1f77b4;stroke:#1f77b4;\" x=\"123.367842\" xlink:href=\"#m383135124e\" y=\"52.839499\"/>\n",
       "     <use style=\"fill:#1f77b4;stroke:#1f77b4;\" x=\"146.265024\" xlink:href=\"#m383135124e\" y=\"66.78325\"/>\n",
       "     <use style=\"fill:#1f77b4;stroke:#1f77b4;\" x=\"109.785052\" xlink:href=\"#m383135124e\" y=\"61.311828\"/>\n",
       "     <use style=\"fill:#1f77b4;stroke:#1f77b4;\" x=\"147.63581\" xlink:href=\"#m383135124e\" y=\"57.845273\"/>\n",
       "     <use style=\"fill:#1f77b4;stroke:#1f77b4;\" x=\"109.76046\" xlink:href=\"#m383135124e\" y=\"53.696558\"/>\n",
       "     <use style=\"fill:#1f77b4;stroke:#1f77b4;\" x=\"184.811637\" xlink:href=\"#m383135124e\" y=\"111.680449\"/>\n",
       "     <use style=\"fill:#1f77b4;stroke:#1f77b4;\" x=\"158.952446\" xlink:href=\"#m383135124e\" y=\"78.546278\"/>\n",
       "     <use style=\"fill:#1f77b4;stroke:#1f77b4;\" x=\"123.715634\" xlink:href=\"#m383135124e\" y=\"82.897468\"/>\n",
       "     <use style=\"fill:#1f77b4;stroke:#1f77b4;\" x=\"145.77319\" xlink:href=\"#m383135124e\" y=\"59.139887\"/>\n",
       "     <use style=\"fill:#1f77b4;stroke:#1f77b4;\" x=\"133.558415\" xlink:href=\"#m383135124e\" y=\"70.873332\"/>\n",
       "     <use style=\"fill:#1f77b4;stroke:#1f77b4;\" x=\"152.779493\" xlink:href=\"#m383135124e\" y=\"100.051229\"/>\n",
       "     <use style=\"fill:#1f77b4;stroke:#1f77b4;\" x=\"153.614272\" xlink:href=\"#m383135124e\" y=\"69.973166\"/>\n",
       "     <use style=\"fill:#1f77b4;stroke:#1f77b4;\" x=\"141.981439\" xlink:href=\"#m383135124e\" y=\"75.223364\"/>\n",
       "     <use style=\"fill:#1f77b4;stroke:#1f77b4;\" x=\"144.755825\" xlink:href=\"#m383135124e\" y=\"69.863512\"/>\n",
       "     <use style=\"fill:#1f77b4;stroke:#1f77b4;\" x=\"163.642779\" xlink:href=\"#m383135124e\" y=\"91.524501\"/>\n",
       "     <use style=\"fill:#1f77b4;stroke:#1f77b4;\" x=\"136.898258\" xlink:href=\"#m383135124e\" y=\"77.273299\"/>\n",
       "     <use style=\"fill:#1f77b4;stroke:#1f77b4;\" x=\"178.430902\" xlink:href=\"#m383135124e\" y=\"86.836462\"/>\n",
       "     <use style=\"fill:#1f77b4;stroke:#1f77b4;\" x=\"108.279403\" xlink:href=\"#m383135124e\" y=\"59.312442\"/>\n",
       "     <use style=\"fill:#1f77b4;stroke:#1f77b4;\" x=\"83.996788\" xlink:href=\"#m383135124e\" y=\"29.58952\"/>\n",
       "     <use style=\"fill:#1f77b4;stroke:#1f77b4;\" x=\"146.418278\" xlink:href=\"#m383135124e\" y=\"92.336653\"/>\n",
       "     <use style=\"fill:#1f77b4;stroke:#1f77b4;\" x=\"113.733431\" xlink:href=\"#m383135124e\" y=\"65.683406\"/>\n",
       "     <use style=\"fill:#1f77b4;stroke:#1f77b4;\" x=\"133.422166\" xlink:href=\"#m383135124e\" y=\"69.946758\"/>\n",
       "     <use style=\"fill:#1f77b4;stroke:#1f77b4;\" x=\"110.559692\" xlink:href=\"#m383135124e\" y=\"35.061584\"/>\n",
       "     <use style=\"fill:#1f77b4;stroke:#1f77b4;\" x=\"157.876554\" xlink:href=\"#m383135124e\" y=\"85.700494\"/>\n",
       "     <use style=\"fill:#1f77b4;stroke:#1f77b4;\" x=\"144.401407\" xlink:href=\"#m383135124e\" y=\"85.079481\"/>\n",
       "     <use style=\"fill:#1f77b4;stroke:#1f77b4;\" x=\"165.237987\" xlink:href=\"#m383135124e\" y=\"99.403384\"/>\n",
       "     <use style=\"fill:#1f77b4;stroke:#1f77b4;\" x=\"108.034609\" xlink:href=\"#m383135124e\" y=\"55.00957\"/>\n",
       "     <use style=\"fill:#1f77b4;stroke:#1f77b4;\" x=\"177.670805\" xlink:href=\"#m383135124e\" y=\"97.075129\"/>\n",
       "     <use style=\"fill:#1f77b4;stroke:#1f77b4;\" x=\"120.350718\" xlink:href=\"#m383135124e\" y=\"69.148573\"/>\n",
       "     <use style=\"fill:#1f77b4;stroke:#1f77b4;\" x=\"138.297441\" xlink:href=\"#m383135124e\" y=\"81.742389\"/>\n",
       "     <use style=\"fill:#1f77b4;stroke:#1f77b4;\" x=\"144.93006\" xlink:href=\"#m383135124e\" y=\"71.896349\"/>\n",
       "     <use style=\"fill:#1f77b4;stroke:#1f77b4;\" x=\"110.821975\" xlink:href=\"#m383135124e\" y=\"69.487822\"/>\n",
       "     <use style=\"fill:#1f77b4;stroke:#1f77b4;\" x=\"124.132164\" xlink:href=\"#m383135124e\" y=\"80.995775\"/>\n",
       "     <use style=\"fill:#1f77b4;stroke:#1f77b4;\" x=\"119.523582\" xlink:href=\"#m383135124e\" y=\"72.622931\"/>\n",
       "     <use style=\"fill:#1f77b4;stroke:#1f77b4;\" x=\"153.833652\" xlink:href=\"#m383135124e\" y=\"87.324514\"/>\n",
       "     <use style=\"fill:#1f77b4;stroke:#1f77b4;\" x=\"136.319167\" xlink:href=\"#m383135124e\" y=\"63.158563\"/>\n",
       "     <use style=\"fill:#1f77b4;stroke:#1f77b4;\" x=\"149.340616\" xlink:href=\"#m383135124e\" y=\"81.060529\"/>\n",
       "     <use style=\"fill:#1f77b4;stroke:#1f77b4;\" x=\"157.996716\" xlink:href=\"#m383135124e\" y=\"88.39027\"/>\n",
       "     <use style=\"fill:#1f77b4;stroke:#1f77b4;\" x=\"79.97951\" xlink:href=\"#m383135124e\" y=\"33.540187\"/>\n",
       "     <use style=\"fill:#1f77b4;stroke:#1f77b4;\" x=\"199.070548\" xlink:href=\"#m383135124e\" y=\"106.211087\"/>\n",
       "     <use style=\"fill:#1f77b4;stroke:#1f77b4;\" x=\"107.394407\" xlink:href=\"#m383135124e\" y=\"49.343845\"/>\n",
       "     <use style=\"fill:#1f77b4;stroke:#1f77b4;\" x=\"99.284017\" xlink:href=\"#m383135124e\" y=\"51.693456\"/>\n",
       "     <use style=\"fill:#1f77b4;stroke:#1f77b4;\" x=\"128.853848\" xlink:href=\"#m383135124e\" y=\"70.706408\"/>\n",
       "     <use style=\"fill:#1f77b4;stroke:#1f77b4;\" x=\"127.273813\" xlink:href=\"#m383135124e\" y=\"69.690975\"/>\n",
       "     <use style=\"fill:#1f77b4;stroke:#1f77b4;\" x=\"159.849057\" xlink:href=\"#m383135124e\" y=\"78.432158\"/>\n",
       "     <use style=\"fill:#1f77b4;stroke:#1f77b4;\" x=\"94.269929\" xlink:href=\"#m383135124e\" y=\"37.473478\"/>\n",
       "     <use style=\"fill:#1f77b4;stroke:#1f77b4;\" x=\"127.981131\" xlink:href=\"#m383135124e\" y=\"65.659393\"/>\n",
       "     <use style=\"fill:#1f77b4;stroke:#1f77b4;\" x=\"112.663631\" xlink:href=\"#m383135124e\" y=\"54.768159\"/>\n",
       "     <use style=\"fill:#1f77b4;stroke:#1f77b4;\" x=\"160.19946\" xlink:href=\"#m383135124e\" y=\"68.171757\"/>\n",
       "     <use style=\"fill:#1f77b4;stroke:#1f77b4;\" x=\"148.261763\" xlink:href=\"#m383135124e\" y=\"75.288264\"/>\n",
       "     <use style=\"fill:#1f77b4;stroke:#1f77b4;\" x=\"138.506802\" xlink:href=\"#m383135124e\" y=\"71.13595\"/>\n",
       "     <use style=\"fill:#1f77b4;stroke:#1f77b4;\" x=\"130.425529\" xlink:href=\"#m383135124e\" y=\"90.603707\"/>\n",
       "     <use style=\"fill:#1f77b4;stroke:#1f77b4;\" x=\"94.153249\" xlink:href=\"#m383135124e\" y=\"37.159488\"/>\n",
       "     <use style=\"fill:#1f77b4;stroke:#1f77b4;\" x=\"160.85085\" xlink:href=\"#m383135124e\" y=\"91.560899\"/>\n",
       "     <use style=\"fill:#1f77b4;stroke:#1f77b4;\" x=\"166.07634\" xlink:href=\"#m383135124e\" y=\"98.354137\"/>\n",
       "     <use style=\"fill:#1f77b4;stroke:#1f77b4;\" x=\"121.821223\" xlink:href=\"#m383135124e\" y=\"61.385141\"/>\n",
       "     <use style=\"fill:#1f77b4;stroke:#1f77b4;\" x=\"147.928601\" xlink:href=\"#m383135124e\" y=\"91.771978\"/>\n",
       "     <use style=\"fill:#1f77b4;stroke:#1f77b4;\" x=\"168.769733\" xlink:href=\"#m383135124e\" y=\"89.982267\"/>\n",
       "     <use style=\"fill:#1f77b4;stroke:#1f77b4;\" x=\"121.283654\" xlink:href=\"#m383135124e\" y=\"67.660529\"/>\n",
       "     <use style=\"fill:#1f77b4;stroke:#1f77b4;\" x=\"142.960194\" xlink:href=\"#m383135124e\" y=\"73.2337\"/>\n",
       "     <use style=\"fill:#1f77b4;stroke:#1f77b4;\" x=\"155.151102\" xlink:href=\"#m383135124e\" y=\"94.674188\"/>\n",
       "     <use style=\"fill:#1f77b4;stroke:#1f77b4;\" x=\"107.111648\" xlink:href=\"#m383135124e\" y=\"36.662731\"/>\n",
       "     <use style=\"fill:#1f77b4;stroke:#1f77b4;\" x=\"139.051388\" xlink:href=\"#m383135124e\" y=\"78.58218\"/>\n",
       "     <use style=\"fill:#1f77b4;stroke:#1f77b4;\" x=\"153.897283\" xlink:href=\"#m383135124e\" y=\"75.073775\"/>\n",
       "     <use style=\"fill:#1f77b4;stroke:#1f77b4;\" x=\"147.841321\" xlink:href=\"#m383135124e\" y=\"88.119208\"/>\n",
       "     <use style=\"fill:#1f77b4;stroke:#1f77b4;\" x=\"168.273145\" xlink:href=\"#m383135124e\" y=\"91.828672\"/>\n",
       "     <use style=\"fill:#1f77b4;stroke:#1f77b4;\" x=\"178.207034\" xlink:href=\"#m383135124e\" y=\"98.120645\"/>\n",
       "     <use style=\"fill:#1f77b4;stroke:#1f77b4;\" x=\"170.123165\" xlink:href=\"#m383135124e\" y=\"91.009749\"/>\n",
       "     <use style=\"fill:#1f77b4;stroke:#1f77b4;\" x=\"146.95608\" xlink:href=\"#m383135124e\" y=\"65.426054\"/>\n",
       "     <use style=\"fill:#1f77b4;stroke:#1f77b4;\" x=\"170.636288\" xlink:href=\"#m383135124e\" y=\"84.425188\"/>\n",
       "     <use style=\"fill:#1f77b4;stroke:#1f77b4;\" x=\"110.43199\" xlink:href=\"#m383135124e\" y=\"50.742457\"/>\n",
       "     <use style=\"fill:#1f77b4;stroke:#1f77b4;\" x=\"159.469824\" xlink:href=\"#m383135124e\" y=\"90.15783\"/>\n",
       "     <use style=\"fill:#1f77b4;stroke:#1f77b4;\" x=\"138.393259\" xlink:href=\"#m383135124e\" y=\"74.235734\"/>\n",
       "     <use style=\"fill:#1f77b4;stroke:#1f77b4;\" x=\"104.799192\" xlink:href=\"#m383135124e\" y=\"43.20383\"/>\n",
       "     <use style=\"fill:#1f77b4;stroke:#1f77b4;\" x=\"162.28288\" xlink:href=\"#m383135124e\" y=\"113.957232\"/>\n",
       "     <use style=\"fill:#1f77b4;stroke:#1f77b4;\" x=\"140.094763\" xlink:href=\"#m383135124e\" y=\"59.062906\"/>\n",
       "     <use style=\"fill:#1f77b4;stroke:#1f77b4;\" x=\"131.142477\" xlink:href=\"#m383135124e\" y=\"62.011335\"/>\n",
       "     <use style=\"fill:#1f77b4;stroke:#1f77b4;\" x=\"118.906823\" xlink:href=\"#m383135124e\" y=\"63.36178\"/>\n",
       "     <use style=\"fill:#1f77b4;stroke:#1f77b4;\" x=\"90.864527\" xlink:href=\"#m383135124e\" y=\"30.321064\"/>\n",
       "     <use style=\"fill:#1f77b4;stroke:#1f77b4;\" x=\"134.682382\" xlink:href=\"#m383135124e\" y=\"85.556331\"/>\n",
       "     <use style=\"fill:#1f77b4;stroke:#1f77b4;\" x=\"122.494363\" xlink:href=\"#m383135124e\" y=\"53.913054\"/>\n",
       "    </g>\n",
       "   </g>\n",
       "   <g id=\"matplotlib.axis_1\">\n",
       "    <g id=\"xtick_1\">\n",
       "     <g id=\"line2d_1\">\n",
       "      <defs>\n",
       "       <path d=\"M 0 0 \n",
       "L 0 3.5 \n",
       "\" id=\"m129fe8e152\" style=\"stroke:#000000;stroke-width:0.8;\"/>\n",
       "      </defs>\n",
       "      <g>\n",
       "       <use style=\"stroke:#000000;stroke-width:0.8;\" x=\"39.328551\" xlink:href=\"#m129fe8e152\" y=\"143.1\"/>\n",
       "      </g>\n",
       "     </g>\n",
       "     <g id=\"text_1\">\n",
       "      <!-- −4 -->\n",
       "      <defs>\n",
       "       <path d=\"M 10.59375 35.5 \n",
       "L 73.1875 35.5 \n",
       "L 73.1875 27.203125 \n",
       "L 10.59375 27.203125 \n",
       "z\n",
       "\" id=\"DejaVuSans-8722\"/>\n",
       "       <path d=\"M 37.796875 64.3125 \n",
       "L 12.890625 25.390625 \n",
       "L 37.796875 25.390625 \n",
       "z\n",
       "M 35.203125 72.90625 \n",
       "L 47.609375 72.90625 \n",
       "L 47.609375 25.390625 \n",
       "L 58.015625 25.390625 \n",
       "L 58.015625 17.1875 \n",
       "L 47.609375 17.1875 \n",
       "L 47.609375 0 \n",
       "L 37.796875 0 \n",
       "L 37.796875 17.1875 \n",
       "L 4.890625 17.1875 \n",
       "L 4.890625 26.703125 \n",
       "z\n",
       "\" id=\"DejaVuSans-52\"/>\n",
       "      </defs>\n",
       "      <g transform=\"translate(31.957457 157.698438)scale(0.1 -0.1)\">\n",
       "       <use xlink:href=\"#DejaVuSans-8722\"/>\n",
       "       <use x=\"83.789062\" xlink:href=\"#DejaVuSans-52\"/>\n",
       "      </g>\n",
       "     </g>\n",
       "    </g>\n",
       "    <g id=\"xtick_2\">\n",
       "     <g id=\"line2d_2\">\n",
       "      <g>\n",
       "       <use style=\"stroke:#000000;stroke-width:0.8;\" x=\"88.893449\" xlink:href=\"#m129fe8e152\" y=\"143.1\"/>\n",
       "      </g>\n",
       "     </g>\n",
       "     <g id=\"text_2\">\n",
       "      <!-- −2 -->\n",
       "      <defs>\n",
       "       <path d=\"M 19.1875 8.296875 \n",
       "L 53.609375 8.296875 \n",
       "L 53.609375 0 \n",
       "L 7.328125 0 \n",
       "L 7.328125 8.296875 \n",
       "Q 12.9375 14.109375 22.625 23.890625 \n",
       "Q 32.328125 33.6875 34.8125 36.53125 \n",
       "Q 39.546875 41.84375 41.421875 45.53125 \n",
       "Q 43.3125 49.21875 43.3125 52.78125 \n",
       "Q 43.3125 58.59375 39.234375 62.25 \n",
       "Q 35.15625 65.921875 28.609375 65.921875 \n",
       "Q 23.96875 65.921875 18.8125 64.3125 \n",
       "Q 13.671875 62.703125 7.8125 59.421875 \n",
       "L 7.8125 69.390625 \n",
       "Q 13.765625 71.78125 18.9375 73 \n",
       "Q 24.125 74.21875 28.421875 74.21875 \n",
       "Q 39.75 74.21875 46.484375 68.546875 \n",
       "Q 53.21875 62.890625 53.21875 53.421875 \n",
       "Q 53.21875 48.921875 51.53125 44.890625 \n",
       "Q 49.859375 40.875 45.40625 35.40625 \n",
       "Q 44.1875 33.984375 37.640625 27.21875 \n",
       "Q 31.109375 20.453125 19.1875 8.296875 \n",
       "z\n",
       "\" id=\"DejaVuSans-50\"/>\n",
       "      </defs>\n",
       "      <g transform=\"translate(81.522355 157.698438)scale(0.1 -0.1)\">\n",
       "       <use xlink:href=\"#DejaVuSans-8722\"/>\n",
       "       <use x=\"83.789062\" xlink:href=\"#DejaVuSans-50\"/>\n",
       "      </g>\n",
       "     </g>\n",
       "    </g>\n",
       "    <g id=\"xtick_3\">\n",
       "     <g id=\"line2d_3\">\n",
       "      <g>\n",
       "       <use style=\"stroke:#000000;stroke-width:0.8;\" x=\"138.458347\" xlink:href=\"#m129fe8e152\" y=\"143.1\"/>\n",
       "      </g>\n",
       "     </g>\n",
       "     <g id=\"text_3\">\n",
       "      <!-- 0 -->\n",
       "      <defs>\n",
       "       <path d=\"M 31.78125 66.40625 \n",
       "Q 24.171875 66.40625 20.328125 58.90625 \n",
       "Q 16.5 51.421875 16.5 36.375 \n",
       "Q 16.5 21.390625 20.328125 13.890625 \n",
       "Q 24.171875 6.390625 31.78125 6.390625 \n",
       "Q 39.453125 6.390625 43.28125 13.890625 \n",
       "Q 47.125 21.390625 47.125 36.375 \n",
       "Q 47.125 51.421875 43.28125 58.90625 \n",
       "Q 39.453125 66.40625 31.78125 66.40625 \n",
       "z\n",
       "M 31.78125 74.21875 \n",
       "Q 44.046875 74.21875 50.515625 64.515625 \n",
       "Q 56.984375 54.828125 56.984375 36.375 \n",
       "Q 56.984375 17.96875 50.515625 8.265625 \n",
       "Q 44.046875 -1.421875 31.78125 -1.421875 \n",
       "Q 19.53125 -1.421875 13.0625 8.265625 \n",
       "Q 6.59375 17.96875 6.59375 36.375 \n",
       "Q 6.59375 54.828125 13.0625 64.515625 \n",
       "Q 19.53125 74.21875 31.78125 74.21875 \n",
       "z\n",
       "\" id=\"DejaVuSans-48\"/>\n",
       "      </defs>\n",
       "      <g transform=\"translate(135.277097 157.698438)scale(0.1 -0.1)\">\n",
       "       <use xlink:href=\"#DejaVuSans-48\"/>\n",
       "      </g>\n",
       "     </g>\n",
       "    </g>\n",
       "    <g id=\"xtick_4\">\n",
       "     <g id=\"line2d_4\">\n",
       "      <g>\n",
       "       <use style=\"stroke:#000000;stroke-width:0.8;\" x=\"188.023245\" xlink:href=\"#m129fe8e152\" y=\"143.1\"/>\n",
       "      </g>\n",
       "     </g>\n",
       "     <g id=\"text_4\">\n",
       "      <!-- 2 -->\n",
       "      <g transform=\"translate(184.841995 157.698438)scale(0.1 -0.1)\">\n",
       "       <use xlink:href=\"#DejaVuSans-50\"/>\n",
       "      </g>\n",
       "     </g>\n",
       "    </g>\n",
       "   </g>\n",
       "   <g id=\"matplotlib.axis_2\">\n",
       "    <g id=\"ytick_1\">\n",
       "     <g id=\"line2d_5\">\n",
       "      <defs>\n",
       "       <path d=\"M 0 0 \n",
       "L -3.5 0 \n",
       "\" id=\"m09d0765735\" style=\"stroke:#000000;stroke-width:0.8;\"/>\n",
       "      </defs>\n",
       "      <g>\n",
       "       <use style=\"stroke:#000000;stroke-width:0.8;\" x=\"35.304688\" xlink:href=\"#m09d0765735\" y=\"136.846336\"/>\n",
       "      </g>\n",
       "     </g>\n",
       "     <g id=\"text_5\">\n",
       "      <!-- −10 -->\n",
       "      <defs>\n",
       "       <path d=\"M 12.40625 8.296875 \n",
       "L 28.515625 8.296875 \n",
       "L 28.515625 63.921875 \n",
       "L 10.984375 60.40625 \n",
       "L 10.984375 69.390625 \n",
       "L 28.421875 72.90625 \n",
       "L 38.28125 72.90625 \n",
       "L 38.28125 8.296875 \n",
       "L 54.390625 8.296875 \n",
       "L 54.390625 0 \n",
       "L 12.40625 0 \n",
       "z\n",
       "\" id=\"DejaVuSans-49\"/>\n",
       "      </defs>\n",
       "      <g transform=\"translate(7.2 140.645554)scale(0.1 -0.1)\">\n",
       "       <use xlink:href=\"#DejaVuSans-8722\"/>\n",
       "       <use x=\"83.789062\" xlink:href=\"#DejaVuSans-49\"/>\n",
       "       <use x=\"147.412109\" xlink:href=\"#DejaVuSans-48\"/>\n",
       "      </g>\n",
       "     </g>\n",
       "    </g>\n",
       "    <g id=\"ytick_2\">\n",
       "     <g id=\"line2d_6\">\n",
       "      <g>\n",
       "       <use style=\"stroke:#000000;stroke-width:0.8;\" x=\"35.304688\" xlink:href=\"#m09d0765735\" y=\"114.128702\"/>\n",
       "      </g>\n",
       "     </g>\n",
       "     <g id=\"text_6\">\n",
       "      <!-- −5 -->\n",
       "      <defs>\n",
       "       <path d=\"M 10.796875 72.90625 \n",
       "L 49.515625 72.90625 \n",
       "L 49.515625 64.59375 \n",
       "L 19.828125 64.59375 \n",
       "L 19.828125 46.734375 \n",
       "Q 21.96875 47.46875 24.109375 47.828125 \n",
       "Q 26.265625 48.1875 28.421875 48.1875 \n",
       "Q 40.625 48.1875 47.75 41.5 \n",
       "Q 54.890625 34.8125 54.890625 23.390625 \n",
       "Q 54.890625 11.625 47.5625 5.09375 \n",
       "Q 40.234375 -1.421875 26.90625 -1.421875 \n",
       "Q 22.3125 -1.421875 17.546875 -0.640625 \n",
       "Q 12.796875 0.140625 7.71875 1.703125 \n",
       "L 7.71875 11.625 \n",
       "Q 12.109375 9.234375 16.796875 8.0625 \n",
       "Q 21.484375 6.890625 26.703125 6.890625 \n",
       "Q 35.15625 6.890625 40.078125 11.328125 \n",
       "Q 45.015625 15.765625 45.015625 23.390625 \n",
       "Q 45.015625 31 40.078125 35.4375 \n",
       "Q 35.15625 39.890625 26.703125 39.890625 \n",
       "Q 22.75 39.890625 18.8125 39.015625 \n",
       "Q 14.890625 38.140625 10.796875 36.28125 \n",
       "z\n",
       "\" id=\"DejaVuSans-53\"/>\n",
       "      </defs>\n",
       "      <g transform=\"translate(13.5625 117.927921)scale(0.1 -0.1)\">\n",
       "       <use xlink:href=\"#DejaVuSans-8722\"/>\n",
       "       <use x=\"83.789062\" xlink:href=\"#DejaVuSans-53\"/>\n",
       "      </g>\n",
       "     </g>\n",
       "    </g>\n",
       "    <g id=\"ytick_3\">\n",
       "     <g id=\"line2d_7\">\n",
       "      <g>\n",
       "       <use style=\"stroke:#000000;stroke-width:0.8;\" x=\"35.304688\" xlink:href=\"#m09d0765735\" y=\"91.411068\"/>\n",
       "      </g>\n",
       "     </g>\n",
       "     <g id=\"text_7\">\n",
       "      <!-- 0 -->\n",
       "      <g transform=\"translate(21.942187 95.210287)scale(0.1 -0.1)\">\n",
       "       <use xlink:href=\"#DejaVuSans-48\"/>\n",
       "      </g>\n",
       "     </g>\n",
       "    </g>\n",
       "    <g id=\"ytick_4\">\n",
       "     <g id=\"line2d_8\">\n",
       "      <g>\n",
       "       <use style=\"stroke:#000000;stroke-width:0.8;\" x=\"35.304688\" xlink:href=\"#m09d0765735\" y=\"68.693434\"/>\n",
       "      </g>\n",
       "     </g>\n",
       "     <g id=\"text_8\">\n",
       "      <!-- 5 -->\n",
       "      <g transform=\"translate(21.942187 72.492653)scale(0.1 -0.1)\">\n",
       "       <use xlink:href=\"#DejaVuSans-53\"/>\n",
       "      </g>\n",
       "     </g>\n",
       "    </g>\n",
       "    <g id=\"ytick_5\">\n",
       "     <g id=\"line2d_9\">\n",
       "      <g>\n",
       "       <use style=\"stroke:#000000;stroke-width:0.8;\" x=\"35.304688\" xlink:href=\"#m09d0765735\" y=\"45.9758\"/>\n",
       "      </g>\n",
       "     </g>\n",
       "     <g id=\"text_9\">\n",
       "      <!-- 10 -->\n",
       "      <g transform=\"translate(15.579687 49.775019)scale(0.1 -0.1)\">\n",
       "       <use xlink:href=\"#DejaVuSans-49\"/>\n",
       "       <use x=\"63.623047\" xlink:href=\"#DejaVuSans-48\"/>\n",
       "      </g>\n",
       "     </g>\n",
       "    </g>\n",
       "    <g id=\"ytick_6\">\n",
       "     <g id=\"line2d_10\">\n",
       "      <g>\n",
       "       <use style=\"stroke:#000000;stroke-width:0.8;\" x=\"35.304688\" xlink:href=\"#m09d0765735\" y=\"23.258166\"/>\n",
       "      </g>\n",
       "     </g>\n",
       "     <g id=\"text_10\">\n",
       "      <!-- 15 -->\n",
       "      <g transform=\"translate(15.579687 27.057385)scale(0.1 -0.1)\">\n",
       "       <use xlink:href=\"#DejaVuSans-49\"/>\n",
       "       <use x=\"63.623047\" xlink:href=\"#DejaVuSans-53\"/>\n",
       "      </g>\n",
       "     </g>\n",
       "    </g>\n",
       "   </g>\n",
       "   <g id=\"patch_3\">\n",
       "    <path d=\"M 35.304688 143.1 \n",
       "L 35.304688 7.2 \n",
       "\" style=\"fill:none;stroke:#000000;stroke-linecap:square;stroke-linejoin:miter;stroke-width:0.8;\"/>\n",
       "   </g>\n",
       "   <g id=\"patch_4\">\n",
       "    <path d=\"M 230.604688 143.1 \n",
       "L 230.604688 7.2 \n",
       "\" style=\"fill:none;stroke:#000000;stroke-linecap:square;stroke-linejoin:miter;stroke-width:0.8;\"/>\n",
       "   </g>\n",
       "   <g id=\"patch_5\">\n",
       "    <path d=\"M 35.304688 143.1 \n",
       "L 230.604688 143.1 \n",
       "\" style=\"fill:none;stroke:#000000;stroke-linecap:square;stroke-linejoin:miter;stroke-width:0.8;\"/>\n",
       "   </g>\n",
       "   <g id=\"patch_6\">\n",
       "    <path d=\"M 35.304688 7.2 \n",
       "L 230.604688 7.2 \n",
       "\" style=\"fill:none;stroke:#000000;stroke-linecap:square;stroke-linejoin:miter;stroke-width:0.8;\"/>\n",
       "   </g>\n",
       "  </g>\n",
       " </g>\n",
       " <defs>\n",
       "  <clipPath id=\"p30b17b45ca\">\n",
       "   <rect height=\"135.9\" width=\"195.3\" x=\"35.304688\" y=\"7.2\"/>\n",
       "  </clipPath>\n",
       " </defs>\n",
       "</svg>\n"
      ],
      "text/plain": [
       "<Figure size 252x180 with 1 Axes>"
      ]
     },
     "metadata": {
      "needs_background": "light"
     },
     "output_type": "display_data"
    }
   ],
   "source": [
    "set_figsize()\n",
    "plt.scatter(features[:, 1].numpy(), labels.numpy(), 1)"
   ]
  },
  {
   "cell_type": "code",
   "execution_count": 64,
   "metadata": {},
   "outputs": [],
   "source": [
    "def data_iter(batch_size, features, labels):\n",
    "    num_examples = len(features)\n",
    "    indices = list(range(num_examples))\n",
    "    random.shuffle(indices)\n",
    "    for i in range(0, num_examples, batch_size):\n",
    "        j = torch.LongTensor(indices[i: min(i + batch_size, num_examples)])\n",
    "        yield features.index_select(0, j), labels.index_select(0, j)"
   ]
  },
  {
   "cell_type": "code",
   "execution_count": 65,
   "metadata": {},
   "outputs": [],
   "source": [
    "batch_size = 10"
   ]
  },
  {
   "cell_type": "code",
   "execution_count": 66,
   "metadata": {},
   "outputs": [
    {
     "name": "stdout",
     "output_type": "stream",
     "text": [
      "tensor([[-1.8224,  0.7205],\n",
      "        [ 0.0697, -0.8300],\n",
      "        [ 1.3504, -1.9205],\n",
      "        [ 1.1830,  0.3836],\n",
      "        [-0.1933,  0.0337],\n",
      "        [ 0.3301, -0.4251],\n",
      "        [ 0.9422,  1.3412],\n",
      "        [ 0.1146,  0.7808],\n",
      "        [-0.9510,  0.0756],\n",
      "        [ 1.0355, -1.0743]]) tensor([-1.9034,  7.1630, 13.4455,  5.2589,  3.6783,  6.2921,  1.5342,  1.7828,\n",
      "         2.0354,  9.9050])\n"
     ]
    }
   ],
   "source": [
    "for X, y in data_iter(batch_size, features, labels):\n",
    "    print(X, y)\n",
    "    break"
   ]
  },
  {
   "cell_type": "code",
   "execution_count": 67,
   "metadata": {},
   "outputs": [],
   "source": [
    "w = torch.tensor(np.random.normal(0, 0.01, (num_inputs, 1)), dtype=torch.float32)"
   ]
  },
  {
   "cell_type": "code",
   "execution_count": 70,
   "metadata": {},
   "outputs": [],
   "source": [
    "b = torch.zeros(1, dtype=torch.float32)"
   ]
  },
  {
   "cell_type": "code",
   "execution_count": 71,
   "metadata": {},
   "outputs": [
    {
     "data": {
      "text/plain": [
       "tensor([0.], requires_grad=True)"
      ]
     },
     "execution_count": 71,
     "metadata": {},
     "output_type": "execute_result"
    }
   ],
   "source": [
    "w.requires_grad_(requires_grad=True)\n",
    "b.requires_grad_(requires_grad=True)"
   ]
  },
  {
   "cell_type": "code",
   "execution_count": 73,
   "metadata": {},
   "outputs": [],
   "source": [
    "def linreg(X, w, b):\n",
    "    return torch.mm(X, w) + b"
   ]
  },
  {
   "cell_type": "code",
   "execution_count": 74,
   "metadata": {},
   "outputs": [],
   "source": [
    "def squared_loss(y_hat, y):\n",
    "    return (y_hat - y.view(y_hat.size())) ** 2 / 2"
   ]
  },
  {
   "cell_type": "code",
   "execution_count": 75,
   "metadata": {},
   "outputs": [],
   "source": [
    "def sgd(params, lr, batch_size):\n",
    "    for param in params:\n",
    "        param.data -= lr * param.grad / batch_size"
   ]
  },
  {
   "cell_type": "code",
   "execution_count": 76,
   "metadata": {},
   "outputs": [
    {
     "name": "stdout",
     "output_type": "stream",
     "text": [
      "Help on built-in function view:\n",
      "\n",
      "view(...) method of torch.Tensor instance\n",
      "    view(*shape) -> Tensor\n",
      "    \n",
      "    Returns a new tensor with the same data as the :attr:`self` tensor but of a\n",
      "    different :attr:`shape`.\n",
      "    \n",
      "    The returned tensor shares the same data and must have the same number\n",
      "    of elements, but may have a different size. For a tensor to be viewed, the new\n",
      "    view size must be compatible with its original size and stride, i.e., each new\n",
      "    view dimension must either be a subspace of an original dimension, or only span\n",
      "    across original dimensions :math:`d, d+1, \\dots, d+k` that satisfy the following\n",
      "    contiguity-like condition that :math:`\\forall i = d, \\dots, d+k-1`,\n",
      "    \n",
      "    .. math::\n",
      "    \n",
      "      \\text{stride}[i] = \\text{stride}[i+1] \\times \\text{size}[i+1]\n",
      "    \n",
      "    Otherwise, it will not be possible to view :attr:`self` tensor as :attr:`shape`\n",
      "    without copying it (e.g., via :meth:`contiguous`). When it is unclear whether a\n",
      "    :meth:`view` can be performed, it is advisable to use :meth:`reshape`, which\n",
      "    returns a view if the shapes are compatible, and copies (equivalent to calling\n",
      "    :meth:`contiguous`) otherwise.\n",
      "    \n",
      "    Args:\n",
      "        shape (torch.Size or int...): the desired size\n",
      "    \n",
      "    Example::\n",
      "    \n",
      "        >>> x = torch.randn(4, 4)\n",
      "        >>> x.size()\n",
      "        torch.Size([4, 4])\n",
      "        >>> y = x.view(16)\n",
      "        >>> y.size()\n",
      "        torch.Size([16])\n",
      "        >>> z = x.view(-1, 8)  # the size -1 is inferred from other dimensions\n",
      "        >>> z.size()\n",
      "        torch.Size([2, 8])\n",
      "    \n",
      "        >>> a = torch.randn(1, 2, 3, 4)\n",
      "        >>> a.size()\n",
      "        torch.Size([1, 2, 3, 4])\n",
      "        >>> b = a.transpose(1, 2)  # Swaps 2nd and 3rd dimension\n",
      "        >>> b.size()\n",
      "        torch.Size([1, 3, 2, 4])\n",
      "        >>> c = a.view(1, 3, 2, 4)  # Does not change tensor layout in memory\n",
      "        >>> c.size()\n",
      "        torch.Size([1, 3, 2, 4])\n",
      "        >>> torch.equal(b, c)\n",
      "        False\n",
      "\n"
     ]
    }
   ],
   "source": [
    "help(y.view)"
   ]
  },
  {
   "cell_type": "code",
   "execution_count": 78,
   "metadata": {},
   "outputs": [],
   "source": [
    "import torch.nn as nn"
   ]
  },
  {
   "cell_type": "code",
   "execution_count": 84,
   "metadata": {},
   "outputs": [],
   "source": [
    "import re\n",
    "illegal_char_re = re.compile(r\"(?: ^)('|\\.|\\$|-|\\s)(?: |$)\")"
   ]
  },
  {
   "cell_type": "code",
   "execution_count": 85,
   "metadata": {},
   "outputs": [],
   "source": [
    "import torch\n",
    "from torch import nn"
   ]
  },
  {
   "cell_type": "code",
   "execution_count": 88,
   "metadata": {},
   "outputs": [],
   "source": [
    "class MLP(nn.Module):\n",
    "    def __init__(self, **kwargs):\n",
    "        super(MLP, self).__init__(**kwargs)\n",
    "        self.hidden == nn.Linear(784, 256)\n",
    "        self.act = nn.ReLU()\n",
    "        self.output = nn.Linear(256, 10)\n",
    "\n",
    "    def forward(self, x):\n",
    "        a = self.act(self.hidden(x))\n",
    "        return self.output(a)"
   ]
  },
  {
   "cell_type": "code",
   "execution_count": null,
   "metadata": {},
   "outputs": [],
   "source": []
  }
 ],
 "metadata": {
  "kernelspec": {
   "display_name": "Python 3",
   "language": "python",
   "name": "python3"
  },
  "language_info": {
   "codemirror_mode": {
    "name": "ipython",
    "version": 3
   },
   "file_extension": ".py",
   "mimetype": "text/x-python",
   "name": "python",
   "nbconvert_exporter": "python",
   "pygments_lexer": "ipython3",
   "version": "3.8.3"
  }
 },
 "nbformat": 4,
 "nbformat_minor": 4
}
